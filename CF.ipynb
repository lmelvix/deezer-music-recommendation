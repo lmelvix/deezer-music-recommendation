{
 "cells": [
  {
   "cell_type": "code",
   "execution_count": 1,
   "metadata": {},
   "outputs": [
    {
     "name": "stdout",
     "output_type": "stream",
     "text": [
      "This non-commercial license of GraphLab Create for academic use is assigned to tbansal@ucsd.edu and will expire on February 27, 2018.\n"
     ]
    },
    {
     "name": "stderr",
     "output_type": "stream",
     "text": [
      "[INFO] graphlab.cython.cy_server: GraphLab Create v2.1 started. Logging: /tmp/graphlab_server_1495518053.log\n"
     ]
    }
   ],
   "source": [
    "import numpy as np\n",
    "import pandas as pd\n",
    "import time\n",
    "import graphlab as gl\n",
    "from sklearn.metrics import roc_auc_score\n",
    "from scipy import stats\n",
    "\n",
    "\n",
    "import matplotlib.pyplot as plt\n",
    "%matplotlib inline"
   ]
  },
  {
   "cell_type": "code",
   "execution_count": 2,
   "metadata": {
    "collapsed": true
   },
   "outputs": [],
   "source": [
    "data = pd.read_csv('data/train.csv')\n",
    "test_data = pd.read_csv('data/test.csv')"
   ]
  },
  {
   "cell_type": "markdown",
   "metadata": {},
   "source": [
    "## changing labels to 1 and -1. 0 is default for no-see on user-item"
   ]
  },
  {
   "cell_type": "code",
   "execution_count": 3,
   "metadata": {
    "collapsed": true
   },
   "outputs": [],
   "source": [
    "data.loc[data['is_listened']==0, 'is_listened'] = -1"
   ]
  },
  {
   "cell_type": "code",
   "execution_count": 4,
   "metadata": {
    "collapsed": true
   },
   "outputs": [],
   "source": [
    "# listen_type filtering\n",
    "data = data.loc[data['listen_type']== 1]"
   ]
  },
  {
   "cell_type": "code",
   "execution_count": 18,
   "metadata": {
    "collapsed": true
   },
   "outputs": [],
   "source": [
    "# context_type filtering\n",
    "# data = data.loc[data['context_type']== 1]"
   ]
  },
  {
   "cell_type": "markdown",
   "metadata": {},
   "source": [
    "## grouping on user-song with mean 'is_listened'. Try others things like latest listen value?"
   ]
  },
  {
   "cell_type": "code",
   "execution_count": 5,
   "metadata": {
    "collapsed": true
   },
   "outputs": [],
   "source": [
    "group_data = pd.DataFrame({'target': data.groupby(['user_id', 'media_id'])['is_listened'].mean()}).reset_index()\n",
    "# group_data = pd.DataFrame({'target': data.groupby(['user_id', 'media_id'])['is_listened'].mean(),\\\n",
    "#                           'user_gender': data.groupby(['user_id', 'media_id'])['user_gender'].mean()}).reset_index()\n",
    "\n"
   ]
  },
  {
   "cell_type": "code",
   "execution_count": 6,
   "metadata": {
    "scrolled": true
   },
   "outputs": [
    {
     "data": {
      "text/html": [
       "<div>\n",
       "<style>\n",
       "    .dataframe thead tr:only-child th {\n",
       "        text-align: right;\n",
       "    }\n",
       "\n",
       "    .dataframe thead th {\n",
       "        text-align: left;\n",
       "    }\n",
       "\n",
       "    .dataframe tbody tr th {\n",
       "        vertical-align: top;\n",
       "    }\n",
       "</style>\n",
       "<table border=\"1\" class=\"dataframe\">\n",
       "  <thead>\n",
       "    <tr style=\"text-align: right;\">\n",
       "      <th></th>\n",
       "      <th>user_id</th>\n",
       "      <th>media_id</th>\n",
       "      <th>target</th>\n",
       "    </tr>\n",
       "  </thead>\n",
       "  <tbody>\n",
       "    <tr>\n",
       "      <th>0</th>\n",
       "      <td>0</td>\n",
       "      <td>211678</td>\n",
       "      <td>1.0</td>\n",
       "    </tr>\n",
       "    <tr>\n",
       "      <th>1</th>\n",
       "      <td>0</td>\n",
       "      <td>211796</td>\n",
       "      <td>1.0</td>\n",
       "    </tr>\n",
       "    <tr>\n",
       "      <th>2</th>\n",
       "      <td>0</td>\n",
       "      <td>304849</td>\n",
       "      <td>1.0</td>\n",
       "    </tr>\n",
       "    <tr>\n",
       "      <th>3</th>\n",
       "      <td>0</td>\n",
       "      <td>311526</td>\n",
       "      <td>1.0</td>\n",
       "    </tr>\n",
       "    <tr>\n",
       "      <th>4</th>\n",
       "      <td>0</td>\n",
       "      <td>313635</td>\n",
       "      <td>1.0</td>\n",
       "    </tr>\n",
       "    <tr>\n",
       "      <th>5</th>\n",
       "      <td>0</td>\n",
       "      <td>313639</td>\n",
       "      <td>1.0</td>\n",
       "    </tr>\n",
       "    <tr>\n",
       "      <th>6</th>\n",
       "      <td>0</td>\n",
       "      <td>314683</td>\n",
       "      <td>1.0</td>\n",
       "    </tr>\n",
       "    <tr>\n",
       "      <th>7</th>\n",
       "      <td>0</td>\n",
       "      <td>534628</td>\n",
       "      <td>1.0</td>\n",
       "    </tr>\n",
       "    <tr>\n",
       "      <th>8</th>\n",
       "      <td>0</td>\n",
       "      <td>536481</td>\n",
       "      <td>1.0</td>\n",
       "    </tr>\n",
       "    <tr>\n",
       "      <th>9</th>\n",
       "      <td>0</td>\n",
       "      <td>536979</td>\n",
       "      <td>1.0</td>\n",
       "    </tr>\n",
       "    <tr>\n",
       "      <th>10</th>\n",
       "      <td>0</td>\n",
       "      <td>548324</td>\n",
       "      <td>1.0</td>\n",
       "    </tr>\n",
       "    <tr>\n",
       "      <th>11</th>\n",
       "      <td>0</td>\n",
       "      <td>549918</td>\n",
       "      <td>1.0</td>\n",
       "    </tr>\n",
       "    <tr>\n",
       "      <th>12</th>\n",
       "      <td>0</td>\n",
       "      <td>549921</td>\n",
       "      <td>1.0</td>\n",
       "    </tr>\n",
       "    <tr>\n",
       "      <th>13</th>\n",
       "      <td>0</td>\n",
       "      <td>549930</td>\n",
       "      <td>1.0</td>\n",
       "    </tr>\n",
       "    <tr>\n",
       "      <th>14</th>\n",
       "      <td>0</td>\n",
       "      <td>549957</td>\n",
       "      <td>1.0</td>\n",
       "    </tr>\n",
       "    <tr>\n",
       "      <th>15</th>\n",
       "      <td>0</td>\n",
       "      <td>549995</td>\n",
       "      <td>1.0</td>\n",
       "    </tr>\n",
       "    <tr>\n",
       "      <th>16</th>\n",
       "      <td>0</td>\n",
       "      <td>564065</td>\n",
       "      <td>1.0</td>\n",
       "    </tr>\n",
       "    <tr>\n",
       "      <th>17</th>\n",
       "      <td>0</td>\n",
       "      <td>576455</td>\n",
       "      <td>1.0</td>\n",
       "    </tr>\n",
       "    <tr>\n",
       "      <th>18</th>\n",
       "      <td>0</td>\n",
       "      <td>580783</td>\n",
       "      <td>1.0</td>\n",
       "    </tr>\n",
       "    <tr>\n",
       "      <th>19</th>\n",
       "      <td>0</td>\n",
       "      <td>584661</td>\n",
       "      <td>1.0</td>\n",
       "    </tr>\n",
       "    <tr>\n",
       "      <th>20</th>\n",
       "      <td>0</td>\n",
       "      <td>595444</td>\n",
       "      <td>1.0</td>\n",
       "    </tr>\n",
       "    <tr>\n",
       "      <th>21</th>\n",
       "      <td>0</td>\n",
       "      <td>607339</td>\n",
       "      <td>1.0</td>\n",
       "    </tr>\n",
       "    <tr>\n",
       "      <th>22</th>\n",
       "      <td>0</td>\n",
       "      <td>609244</td>\n",
       "      <td>1.0</td>\n",
       "    </tr>\n",
       "    <tr>\n",
       "      <th>23</th>\n",
       "      <td>0</td>\n",
       "      <td>615655</td>\n",
       "      <td>0.0</td>\n",
       "    </tr>\n",
       "    <tr>\n",
       "      <th>24</th>\n",
       "      <td>0</td>\n",
       "      <td>628356</td>\n",
       "      <td>1.0</td>\n",
       "    </tr>\n",
       "    <tr>\n",
       "      <th>25</th>\n",
       "      <td>0</td>\n",
       "      <td>629466</td>\n",
       "      <td>1.0</td>\n",
       "    </tr>\n",
       "    <tr>\n",
       "      <th>26</th>\n",
       "      <td>0</td>\n",
       "      <td>632825</td>\n",
       "      <td>1.0</td>\n",
       "    </tr>\n",
       "    <tr>\n",
       "      <th>27</th>\n",
       "      <td>0</td>\n",
       "      <td>636222</td>\n",
       "      <td>1.0</td>\n",
       "    </tr>\n",
       "    <tr>\n",
       "      <th>28</th>\n",
       "      <td>0</td>\n",
       "      <td>638914</td>\n",
       "      <td>1.0</td>\n",
       "    </tr>\n",
       "    <tr>\n",
       "      <th>29</th>\n",
       "      <td>0</td>\n",
       "      <td>669799</td>\n",
       "      <td>1.0</td>\n",
       "    </tr>\n",
       "    <tr>\n",
       "      <th>...</th>\n",
       "      <td>...</td>\n",
       "      <td>...</td>\n",
       "      <td>...</td>\n",
       "    </tr>\n",
       "    <tr>\n",
       "      <th>1592933</th>\n",
       "      <td>19750</td>\n",
       "      <td>14299589</td>\n",
       "      <td>1.0</td>\n",
       "    </tr>\n",
       "    <tr>\n",
       "      <th>1592934</th>\n",
       "      <td>19756</td>\n",
       "      <td>132123610</td>\n",
       "      <td>1.0</td>\n",
       "    </tr>\n",
       "    <tr>\n",
       "      <th>1592935</th>\n",
       "      <td>19759</td>\n",
       "      <td>100484722</td>\n",
       "      <td>-1.0</td>\n",
       "    </tr>\n",
       "    <tr>\n",
       "      <th>1592936</th>\n",
       "      <td>19764</td>\n",
       "      <td>126024227</td>\n",
       "      <td>-1.0</td>\n",
       "    </tr>\n",
       "    <tr>\n",
       "      <th>1592937</th>\n",
       "      <td>19767</td>\n",
       "      <td>78671164</td>\n",
       "      <td>1.0</td>\n",
       "    </tr>\n",
       "    <tr>\n",
       "      <th>1592938</th>\n",
       "      <td>19773</td>\n",
       "      <td>136889412</td>\n",
       "      <td>-1.0</td>\n",
       "    </tr>\n",
       "    <tr>\n",
       "      <th>1592939</th>\n",
       "      <td>19774</td>\n",
       "      <td>117371548</td>\n",
       "      <td>-1.0</td>\n",
       "    </tr>\n",
       "    <tr>\n",
       "      <th>1592940</th>\n",
       "      <td>19784</td>\n",
       "      <td>13839981</td>\n",
       "      <td>-1.0</td>\n",
       "    </tr>\n",
       "    <tr>\n",
       "      <th>1592941</th>\n",
       "      <td>19785</td>\n",
       "      <td>46083301</td>\n",
       "      <td>1.0</td>\n",
       "    </tr>\n",
       "    <tr>\n",
       "      <th>1592942</th>\n",
       "      <td>19786</td>\n",
       "      <td>3579013</td>\n",
       "      <td>1.0</td>\n",
       "    </tr>\n",
       "    <tr>\n",
       "      <th>1592943</th>\n",
       "      <td>19787</td>\n",
       "      <td>127539473</td>\n",
       "      <td>-1.0</td>\n",
       "    </tr>\n",
       "    <tr>\n",
       "      <th>1592944</th>\n",
       "      <td>19794</td>\n",
       "      <td>90250605</td>\n",
       "      <td>1.0</td>\n",
       "    </tr>\n",
       "    <tr>\n",
       "      <th>1592945</th>\n",
       "      <td>19800</td>\n",
       "      <td>97313248</td>\n",
       "      <td>1.0</td>\n",
       "    </tr>\n",
       "    <tr>\n",
       "      <th>1592946</th>\n",
       "      <td>19802</td>\n",
       "      <td>135439336</td>\n",
       "      <td>1.0</td>\n",
       "    </tr>\n",
       "    <tr>\n",
       "      <th>1592947</th>\n",
       "      <td>19822</td>\n",
       "      <td>134711946</td>\n",
       "      <td>1.0</td>\n",
       "    </tr>\n",
       "    <tr>\n",
       "      <th>1592948</th>\n",
       "      <td>19827</td>\n",
       "      <td>1141674</td>\n",
       "      <td>1.0</td>\n",
       "    </tr>\n",
       "    <tr>\n",
       "      <th>1592949</th>\n",
       "      <td>19829</td>\n",
       "      <td>27999681</td>\n",
       "      <td>1.0</td>\n",
       "    </tr>\n",
       "    <tr>\n",
       "      <th>1592950</th>\n",
       "      <td>19832</td>\n",
       "      <td>2319418</td>\n",
       "      <td>-1.0</td>\n",
       "    </tr>\n",
       "    <tr>\n",
       "      <th>1592951</th>\n",
       "      <td>19836</td>\n",
       "      <td>1123670</td>\n",
       "      <td>1.0</td>\n",
       "    </tr>\n",
       "    <tr>\n",
       "      <th>1592952</th>\n",
       "      <td>19844</td>\n",
       "      <td>116866556</td>\n",
       "      <td>1.0</td>\n",
       "    </tr>\n",
       "    <tr>\n",
       "      <th>1592953</th>\n",
       "      <td>19846</td>\n",
       "      <td>130604714</td>\n",
       "      <td>1.0</td>\n",
       "    </tr>\n",
       "    <tr>\n",
       "      <th>1592954</th>\n",
       "      <td>19851</td>\n",
       "      <td>125890429</td>\n",
       "      <td>-1.0</td>\n",
       "    </tr>\n",
       "    <tr>\n",
       "      <th>1592955</th>\n",
       "      <td>19854</td>\n",
       "      <td>98087618</td>\n",
       "      <td>1.0</td>\n",
       "    </tr>\n",
       "    <tr>\n",
       "      <th>1592956</th>\n",
       "      <td>19861</td>\n",
       "      <td>17227034</td>\n",
       "      <td>-1.0</td>\n",
       "    </tr>\n",
       "    <tr>\n",
       "      <th>1592957</th>\n",
       "      <td>19877</td>\n",
       "      <td>75280248</td>\n",
       "      <td>-1.0</td>\n",
       "    </tr>\n",
       "    <tr>\n",
       "      <th>1592958</th>\n",
       "      <td>19895</td>\n",
       "      <td>3103847</td>\n",
       "      <td>1.0</td>\n",
       "    </tr>\n",
       "    <tr>\n",
       "      <th>1592959</th>\n",
       "      <td>19896</td>\n",
       "      <td>112439980</td>\n",
       "      <td>1.0</td>\n",
       "    </tr>\n",
       "    <tr>\n",
       "      <th>1592960</th>\n",
       "      <td>19911</td>\n",
       "      <td>135949706</td>\n",
       "      <td>1.0</td>\n",
       "    </tr>\n",
       "    <tr>\n",
       "      <th>1592961</th>\n",
       "      <td>19912</td>\n",
       "      <td>131773676</td>\n",
       "      <td>1.0</td>\n",
       "    </tr>\n",
       "    <tr>\n",
       "      <th>1592962</th>\n",
       "      <td>19915</td>\n",
       "      <td>82099434</td>\n",
       "      <td>1.0</td>\n",
       "    </tr>\n",
       "  </tbody>\n",
       "</table>\n",
       "<p>1592963 rows × 3 columns</p>\n",
       "</div>"
      ],
      "text/plain": [
       "         user_id   media_id  target\n",
       "0              0     211678     1.0\n",
       "1              0     211796     1.0\n",
       "2              0     304849     1.0\n",
       "3              0     311526     1.0\n",
       "4              0     313635     1.0\n",
       "5              0     313639     1.0\n",
       "6              0     314683     1.0\n",
       "7              0     534628     1.0\n",
       "8              0     536481     1.0\n",
       "9              0     536979     1.0\n",
       "10             0     548324     1.0\n",
       "11             0     549918     1.0\n",
       "12             0     549921     1.0\n",
       "13             0     549930     1.0\n",
       "14             0     549957     1.0\n",
       "15             0     549995     1.0\n",
       "16             0     564065     1.0\n",
       "17             0     576455     1.0\n",
       "18             0     580783     1.0\n",
       "19             0     584661     1.0\n",
       "20             0     595444     1.0\n",
       "21             0     607339     1.0\n",
       "22             0     609244     1.0\n",
       "23             0     615655     0.0\n",
       "24             0     628356     1.0\n",
       "25             0     629466     1.0\n",
       "26             0     632825     1.0\n",
       "27             0     636222     1.0\n",
       "28             0     638914     1.0\n",
       "29             0     669799     1.0\n",
       "...          ...        ...     ...\n",
       "1592933    19750   14299589     1.0\n",
       "1592934    19756  132123610     1.0\n",
       "1592935    19759  100484722    -1.0\n",
       "1592936    19764  126024227    -1.0\n",
       "1592937    19767   78671164     1.0\n",
       "1592938    19773  136889412    -1.0\n",
       "1592939    19774  117371548    -1.0\n",
       "1592940    19784   13839981    -1.0\n",
       "1592941    19785   46083301     1.0\n",
       "1592942    19786    3579013     1.0\n",
       "1592943    19787  127539473    -1.0\n",
       "1592944    19794   90250605     1.0\n",
       "1592945    19800   97313248     1.0\n",
       "1592946    19802  135439336     1.0\n",
       "1592947    19822  134711946     1.0\n",
       "1592948    19827    1141674     1.0\n",
       "1592949    19829   27999681     1.0\n",
       "1592950    19832    2319418    -1.0\n",
       "1592951    19836    1123670     1.0\n",
       "1592952    19844  116866556     1.0\n",
       "1592953    19846  130604714     1.0\n",
       "1592954    19851  125890429    -1.0\n",
       "1592955    19854   98087618     1.0\n",
       "1592956    19861   17227034    -1.0\n",
       "1592957    19877   75280248    -1.0\n",
       "1592958    19895    3103847     1.0\n",
       "1592959    19896  112439980     1.0\n",
       "1592960    19911  135949706     1.0\n",
       "1592961    19912  131773676     1.0\n",
       "1592962    19915   82099434     1.0\n",
       "\n",
       "[1592963 rows x 3 columns]"
      ]
     },
     "execution_count": 6,
     "metadata": {},
     "output_type": "execute_result"
    }
   ],
   "source": [
    "group_data"
   ]
  },
  {
   "cell_type": "code",
   "execution_count": 111,
   "metadata": {
    "collapsed": true
   },
   "outputs": [],
   "source": [
    "# user information sframe.\n",
    "user_info = pd.DataFrame({'user_age': data.groupby(['user_id'])['user_age'].mean(),\\\n",
    "                          'user_gender': data.groupby(['user_id'])['user_gender'].mean()}).reset_index()"
   ]
  },
  {
   "cell_type": "code",
   "execution_count": 112,
   "metadata": {
    "collapsed": true
   },
   "outputs": [],
   "source": [
    "user_info = gl.SFrame(user_info)"
   ]
  },
  {
   "cell_type": "markdown",
   "metadata": {},
   "source": [
    "## Convert to Sframe and split. Better split using graphlabs function?"
   ]
  },
  {
   "cell_type": "code",
   "execution_count": 7,
   "metadata": {
    "collapsed": true
   },
   "outputs": [],
   "source": [
    "data_sframe = gl.SFrame(group_data)"
   ]
  },
  {
   "cell_type": "code",
   "execution_count": 53,
   "metadata": {
    "collapsed": true
   },
   "outputs": [],
   "source": [
    "# Feature engineering\n",
    "\n",
    "encoder = gl.feature_engineering.create(data_sframe,gl.toolkits.feature_engineering.OneHotEncoder(features = ['context_type']))\n",
    "transformed_sf = encoder.transform(data_sframe)"
   ]
  },
  {
   "cell_type": "code",
   "execution_count": 164,
   "metadata": {},
   "outputs": [
    {
     "data": {
      "text/html": [
       "<div style=\"max-height:1000px;max-width:1500px;overflow:auto;\"><table frame=\"box\" rules=\"cols\">\n",
       "    <tr>\n",
       "        <th style=\"padding-left: 1em; padding-right: 1em; text-align: center\">user_id</th>\n",
       "        <th style=\"padding-left: 1em; padding-right: 1em; text-align: center\">media_id</th>\n",
       "        <th style=\"padding-left: 1em; padding-right: 1em; text-align: center\">target</th>\n",
       "        <th style=\"padding-left: 1em; padding-right: 1em; text-align: center\">user_age</th>\n",
       "    </tr>\n",
       "    <tr>\n",
       "        <td style=\"padding-left: 1em; padding-right: 1em; text-align: center; vertical-align: top\">0</td>\n",
       "        <td style=\"padding-left: 1em; padding-right: 1em; text-align: center; vertical-align: top\">211678</td>\n",
       "        <td style=\"padding-left: 1em; padding-right: 1em; text-align: center; vertical-align: top\">1.0</td>\n",
       "        <td style=\"padding-left: 1em; padding-right: 1em; text-align: center; vertical-align: top\">0.0</td>\n",
       "    </tr>\n",
       "    <tr>\n",
       "        <td style=\"padding-left: 1em; padding-right: 1em; text-align: center; vertical-align: top\">0</td>\n",
       "        <td style=\"padding-left: 1em; padding-right: 1em; text-align: center; vertical-align: top\">211796</td>\n",
       "        <td style=\"padding-left: 1em; padding-right: 1em; text-align: center; vertical-align: top\">1.0</td>\n",
       "        <td style=\"padding-left: 1em; padding-right: 1em; text-align: center; vertical-align: top\">0.0</td>\n",
       "    </tr>\n",
       "    <tr>\n",
       "        <td style=\"padding-left: 1em; padding-right: 1em; text-align: center; vertical-align: top\">0</td>\n",
       "        <td style=\"padding-left: 1em; padding-right: 1em; text-align: center; vertical-align: top\">304849</td>\n",
       "        <td style=\"padding-left: 1em; padding-right: 1em; text-align: center; vertical-align: top\">1.0</td>\n",
       "        <td style=\"padding-left: 1em; padding-right: 1em; text-align: center; vertical-align: top\">0.0</td>\n",
       "    </tr>\n",
       "    <tr>\n",
       "        <td style=\"padding-left: 1em; padding-right: 1em; text-align: center; vertical-align: top\">0</td>\n",
       "        <td style=\"padding-left: 1em; padding-right: 1em; text-align: center; vertical-align: top\">311526</td>\n",
       "        <td style=\"padding-left: 1em; padding-right: 1em; text-align: center; vertical-align: top\">1.0</td>\n",
       "        <td style=\"padding-left: 1em; padding-right: 1em; text-align: center; vertical-align: top\">0.0</td>\n",
       "    </tr>\n",
       "    <tr>\n",
       "        <td style=\"padding-left: 1em; padding-right: 1em; text-align: center; vertical-align: top\">0</td>\n",
       "        <td style=\"padding-left: 1em; padding-right: 1em; text-align: center; vertical-align: top\">313635</td>\n",
       "        <td style=\"padding-left: 1em; padding-right: 1em; text-align: center; vertical-align: top\">1.0</td>\n",
       "        <td style=\"padding-left: 1em; padding-right: 1em; text-align: center; vertical-align: top\">0.0</td>\n",
       "    </tr>\n",
       "    <tr>\n",
       "        <td style=\"padding-left: 1em; padding-right: 1em; text-align: center; vertical-align: top\">0</td>\n",
       "        <td style=\"padding-left: 1em; padding-right: 1em; text-align: center; vertical-align: top\">313639</td>\n",
       "        <td style=\"padding-left: 1em; padding-right: 1em; text-align: center; vertical-align: top\">1.0</td>\n",
       "        <td style=\"padding-left: 1em; padding-right: 1em; text-align: center; vertical-align: top\">0.0</td>\n",
       "    </tr>\n",
       "    <tr>\n",
       "        <td style=\"padding-left: 1em; padding-right: 1em; text-align: center; vertical-align: top\">0</td>\n",
       "        <td style=\"padding-left: 1em; padding-right: 1em; text-align: center; vertical-align: top\">314683</td>\n",
       "        <td style=\"padding-left: 1em; padding-right: 1em; text-align: center; vertical-align: top\">1.0</td>\n",
       "        <td style=\"padding-left: 1em; padding-right: 1em; text-align: center; vertical-align: top\">0.0</td>\n",
       "    </tr>\n",
       "    <tr>\n",
       "        <td style=\"padding-left: 1em; padding-right: 1em; text-align: center; vertical-align: top\">0</td>\n",
       "        <td style=\"padding-left: 1em; padding-right: 1em; text-align: center; vertical-align: top\">534628</td>\n",
       "        <td style=\"padding-left: 1em; padding-right: 1em; text-align: center; vertical-align: top\">1.0</td>\n",
       "        <td style=\"padding-left: 1em; padding-right: 1em; text-align: center; vertical-align: top\">0.0</td>\n",
       "    </tr>\n",
       "    <tr>\n",
       "        <td style=\"padding-left: 1em; padding-right: 1em; text-align: center; vertical-align: top\">0</td>\n",
       "        <td style=\"padding-left: 1em; padding-right: 1em; text-align: center; vertical-align: top\">536481</td>\n",
       "        <td style=\"padding-left: 1em; padding-right: 1em; text-align: center; vertical-align: top\">1.0</td>\n",
       "        <td style=\"padding-left: 1em; padding-right: 1em; text-align: center; vertical-align: top\">0.0</td>\n",
       "    </tr>\n",
       "    <tr>\n",
       "        <td style=\"padding-left: 1em; padding-right: 1em; text-align: center; vertical-align: top\">0</td>\n",
       "        <td style=\"padding-left: 1em; padding-right: 1em; text-align: center; vertical-align: top\">536979</td>\n",
       "        <td style=\"padding-left: 1em; padding-right: 1em; text-align: center; vertical-align: top\">1.0</td>\n",
       "        <td style=\"padding-left: 1em; padding-right: 1em; text-align: center; vertical-align: top\">0.0</td>\n",
       "    </tr>\n",
       "</table>\n",
       "[1592963 rows x 4 columns]<br/>Note: Only the head of the SFrame is printed.<br/>You can use print_rows(num_rows=m, num_columns=n) to print more rows and columns.\n",
       "</div>"
      ],
      "text/plain": [
       "Columns:\n",
       "\tuser_id\tint\n",
       "\tmedia_id\tint\n",
       "\ttarget\tfloat\n",
       "\tuser_age\tfloat\n",
       "\n",
       "Rows: 1592963\n",
       "\n",
       "Data:\n",
       "+---------+----------+--------+----------+\n",
       "| user_id | media_id | target | user_age |\n",
       "+---------+----------+--------+----------+\n",
       "|    0    |  211678  |  1.0   |   0.0    |\n",
       "|    0    |  211796  |  1.0   |   0.0    |\n",
       "|    0    |  304849  |  1.0   |   0.0    |\n",
       "|    0    |  311526  |  1.0   |   0.0    |\n",
       "|    0    |  313635  |  1.0   |   0.0    |\n",
       "|    0    |  313639  |  1.0   |   0.0    |\n",
       "|    0    |  314683  |  1.0   |   0.0    |\n",
       "|    0    |  534628  |  1.0   |   0.0    |\n",
       "|    0    |  536481  |  1.0   |   0.0    |\n",
       "|    0    |  536979  |  1.0   |   0.0    |\n",
       "+---------+----------+--------+----------+\n",
       "[1592963 rows x 4 columns]\n",
       "Note: Only the head of the SFrame is printed.\n",
       "You can use print_rows(num_rows=m, num_columns=n) to print more rows and columns."
      ]
     },
     "execution_count": 164,
     "metadata": {},
     "output_type": "execute_result"
    }
   ],
   "source": [
    "data_sframe"
   ]
  },
  {
   "cell_type": "code",
   "execution_count": 8,
   "metadata": {
    "collapsed": true
   },
   "outputs": [],
   "source": [
    "train_data, valid_data = gl.recommender.util.random_split_by_user(data_sframe, item_id='media_id', max_num_users=10000)"
   ]
  },
  {
   "cell_type": "code",
   "execution_count": 171,
   "metadata": {
    "scrolled": true
   },
   "outputs": [
    {
     "data": {
      "text/html": [
       "<pre>Recsys training: model = ranking_factorization_recommender</pre>"
      ],
      "text/plain": [
       "Recsys training: model = ranking_factorization_recommender"
      ]
     },
     "metadata": {},
     "output_type": "display_data"
    },
    {
     "data": {
      "text/html": [
       "<pre>Preparing data set.</pre>"
      ],
      "text/plain": [
       "Preparing data set."
      ]
     },
     "metadata": {},
     "output_type": "display_data"
    },
    {
     "data": {
      "text/html": [
       "<pre>    Data has 1393855 observations with 15825 users and 140409 items.</pre>"
      ],
      "text/plain": [
       "    Data has 1393855 observations with 15825 users and 140409 items."
      ]
     },
     "metadata": {},
     "output_type": "display_data"
    },
    {
     "data": {
      "text/html": [
       "<pre>    Data prepared in: 1.71034s</pre>"
      ],
      "text/plain": [
       "    Data prepared in: 1.71034s"
      ]
     },
     "metadata": {},
     "output_type": "display_data"
    },
    {
     "data": {
      "text/html": [
       "<pre>Training ranking_factorization_recommender for recommendations.</pre>"
      ],
      "text/plain": [
       "Training ranking_factorization_recommender for recommendations."
      ]
     },
     "metadata": {},
     "output_type": "display_data"
    },
    {
     "data": {
      "text/html": [
       "<pre>+--------------------------------+--------------------------------------------------+----------+</pre>"
      ],
      "text/plain": [
       "+--------------------------------+--------------------------------------------------+----------+"
      ]
     },
     "metadata": {},
     "output_type": "display_data"
    },
    {
     "data": {
      "text/html": [
       "<pre>| Parameter                      | Description                                      | Value    |</pre>"
      ],
      "text/plain": [
       "| Parameter                      | Description                                      | Value    |"
      ]
     },
     "metadata": {},
     "output_type": "display_data"
    },
    {
     "data": {
      "text/html": [
       "<pre>+--------------------------------+--------------------------------------------------+----------+</pre>"
      ],
      "text/plain": [
       "+--------------------------------+--------------------------------------------------+----------+"
      ]
     },
     "metadata": {},
     "output_type": "display_data"
    },
    {
     "data": {
      "text/html": [
       "<pre>| num_factors                    | Factor Dimension                                 | 32       |</pre>"
      ],
      "text/plain": [
       "| num_factors                    | Factor Dimension                                 | 32       |"
      ]
     },
     "metadata": {},
     "output_type": "display_data"
    },
    {
     "data": {
      "text/html": [
       "<pre>| regularization                 | L2 Regularization on Factors                     | 1e-05    |</pre>"
      ],
      "text/plain": [
       "| regularization                 | L2 Regularization on Factors                     | 1e-05    |"
      ]
     },
     "metadata": {},
     "output_type": "display_data"
    },
    {
     "data": {
      "text/html": [
       "<pre>| solver                         | Solver used for training                         | adagrad  |</pre>"
      ],
      "text/plain": [
       "| solver                         | Solver used for training                         | adagrad  |"
      ]
     },
     "metadata": {},
     "output_type": "display_data"
    },
    {
     "data": {
      "text/html": [
       "<pre>| linear_regularization          | L2 Regularization on Linear Coefficients         | 5e-06    |</pre>"
      ],
      "text/plain": [
       "| linear_regularization          | L2 Regularization on Linear Coefficients         | 5e-06    |"
      ]
     },
     "metadata": {},
     "output_type": "display_data"
    },
    {
     "data": {
      "text/html": [
       "<pre>| max_iterations                 | Maximum Number of Iterations                     | 25       |</pre>"
      ],
      "text/plain": [
       "| max_iterations                 | Maximum Number of Iterations                     | 25       |"
      ]
     },
     "metadata": {},
     "output_type": "display_data"
    },
    {
     "data": {
      "text/html": [
       "<pre>+--------------------------------+--------------------------------------------------+----------+</pre>"
      ],
      "text/plain": [
       "+--------------------------------+--------------------------------------------------+----------+"
      ]
     },
     "metadata": {},
     "output_type": "display_data"
    },
    {
     "data": {
      "text/html": [
       "<pre>  Optimizing model using SGD; tuning step size.</pre>"
      ],
      "text/plain": [
       "  Optimizing model using SGD; tuning step size."
      ]
     },
     "metadata": {},
     "output_type": "display_data"
    },
    {
     "data": {
      "text/html": [
       "<pre>  Using 174231 / 1393855 points for tuning the step size.</pre>"
      ],
      "text/plain": [
       "  Using 174231 / 1393855 points for tuning the step size."
      ]
     },
     "metadata": {},
     "output_type": "display_data"
    },
    {
     "data": {
      "text/html": [
       "<pre>+---------+-------------------+------------------------------------------+</pre>"
      ],
      "text/plain": [
       "+---------+-------------------+------------------------------------------+"
      ]
     },
     "metadata": {},
     "output_type": "display_data"
    },
    {
     "data": {
      "text/html": [
       "<pre>| Attempt | Initial Step Size | Estimated Objective Value                |</pre>"
      ],
      "text/plain": [
       "| Attempt | Initial Step Size | Estimated Objective Value                |"
      ]
     },
     "metadata": {},
     "output_type": "display_data"
    },
    {
     "data": {
      "text/html": [
       "<pre>+---------+-------------------+------------------------------------------+</pre>"
      ],
      "text/plain": [
       "+---------+-------------------+------------------------------------------+"
      ]
     },
     "metadata": {},
     "output_type": "display_data"
    },
    {
     "data": {
      "text/html": [
       "<pre>| 0       | 5.28611           | Not Viable                               |</pre>"
      ],
      "text/plain": [
       "| 0       | 5.28611           | Not Viable                               |"
      ]
     },
     "metadata": {},
     "output_type": "display_data"
    },
    {
     "data": {
      "text/html": [
       "<pre>| 1       | 1.32153           | Not Viable                               |</pre>"
      ],
      "text/plain": [
       "| 1       | 1.32153           | Not Viable                               |"
      ]
     },
     "metadata": {},
     "output_type": "display_data"
    },
    {
     "data": {
      "text/html": [
       "<pre>| 2       | 0.330382          | 0.565511                                 |</pre>"
      ],
      "text/plain": [
       "| 2       | 0.330382          | 0.565511                                 |"
      ]
     },
     "metadata": {},
     "output_type": "display_data"
    },
    {
     "data": {
      "text/html": [
       "<pre>| 3       | 0.165191          | 0.46425                                  |</pre>"
      ],
      "text/plain": [
       "| 3       | 0.165191          | 0.46425                                  |"
      ]
     },
     "metadata": {},
     "output_type": "display_data"
    },
    {
     "data": {
      "text/html": [
       "<pre>| 4       | 0.0825955         | 0.418343                                 |</pre>"
      ],
      "text/plain": [
       "| 4       | 0.0825955         | 0.418343                                 |"
      ]
     },
     "metadata": {},
     "output_type": "display_data"
    },
    {
     "data": {
      "text/html": [
       "<pre>| 5       | 0.0412978         | 0.436412                                 |</pre>"
      ],
      "text/plain": [
       "| 5       | 0.0412978         | 0.436412                                 |"
      ]
     },
     "metadata": {},
     "output_type": "display_data"
    },
    {
     "data": {
      "text/html": [
       "<pre>| 6       | 0.0206489         | 0.537188                                 |</pre>"
      ],
      "text/plain": [
       "| 6       | 0.0206489         | 0.537188                                 |"
      ]
     },
     "metadata": {},
     "output_type": "display_data"
    },
    {
     "data": {
      "text/html": [
       "<pre>| 7       | 0.0103244         | 0.649528                                 |</pre>"
      ],
      "text/plain": [
       "| 7       | 0.0103244         | 0.649528                                 |"
      ]
     },
     "metadata": {},
     "output_type": "display_data"
    },
    {
     "data": {
      "text/html": [
       "<pre>+---------+-------------------+------------------------------------------+</pre>"
      ],
      "text/plain": [
       "+---------+-------------------+------------------------------------------+"
      ]
     },
     "metadata": {},
     "output_type": "display_data"
    },
    {
     "data": {
      "text/html": [
       "<pre>| Final   | 0.0825955         | 0.418343                                 |</pre>"
      ],
      "text/plain": [
       "| Final   | 0.0825955         | 0.418343                                 |"
      ]
     },
     "metadata": {},
     "output_type": "display_data"
    },
    {
     "data": {
      "text/html": [
       "<pre>+---------+-------------------+------------------------------------------+</pre>"
      ],
      "text/plain": [
       "+---------+-------------------+------------------------------------------+"
      ]
     },
     "metadata": {},
     "output_type": "display_data"
    },
    {
     "data": {
      "text/html": [
       "<pre>Starting Optimization.</pre>"
      ],
      "text/plain": [
       "Starting Optimization."
      ]
     },
     "metadata": {},
     "output_type": "display_data"
    },
    {
     "data": {
      "text/html": [
       "<pre>+---------+--------------+-------------------+-----------------------+-------------+</pre>"
      ],
      "text/plain": [
       "+---------+--------------+-------------------+-----------------------+-------------+"
      ]
     },
     "metadata": {},
     "output_type": "display_data"
    },
    {
     "data": {
      "text/html": [
       "<pre>| Iter.   | Elapsed Time | Approx. Objective | Approx. Training RMSE | Step Size   |</pre>"
      ],
      "text/plain": [
       "| Iter.   | Elapsed Time | Approx. Objective | Approx. Training RMSE | Step Size   |"
      ]
     },
     "metadata": {},
     "output_type": "display_data"
    },
    {
     "data": {
      "text/html": [
       "<pre>+---------+--------------+-------------------+-----------------------+-------------+</pre>"
      ],
      "text/plain": [
       "+---------+--------------+-------------------+-----------------------+-------------+"
      ]
     },
     "metadata": {},
     "output_type": "display_data"
    },
    {
     "data": {
      "text/html": [
       "<pre>| Initial | 133us        | 0.90302           | 0.950274              |             |</pre>"
      ],
      "text/plain": [
       "| Initial | 133us        | 0.90302           | 0.950274              |             |"
      ]
     },
     "metadata": {},
     "output_type": "display_data"
    },
    {
     "data": {
      "text/html": [
       "<pre>+---------+--------------+-------------------+-----------------------+-------------+</pre>"
      ],
      "text/plain": [
       "+---------+--------------+-------------------+-----------------------+-------------+"
      ]
     },
     "metadata": {},
     "output_type": "display_data"
    },
    {
     "data": {
      "text/html": [
       "<pre>| 1       | 1.55s        | 0.816439          | 0.774204              | 0.0825955   |</pre>"
      ],
      "text/plain": [
       "| 1       | 1.55s        | 0.816439          | 0.774204              | 0.0825955   |"
      ]
     },
     "metadata": {},
     "output_type": "display_data"
    },
    {
     "data": {
      "text/html": [
       "<pre>| 2       | 3.35s        | 0.631467          | 0.717309              | 0.0825955   |</pre>"
      ],
      "text/plain": [
       "| 2       | 3.35s        | 0.631467          | 0.717309              | 0.0825955   |"
      ]
     },
     "metadata": {},
     "output_type": "display_data"
    },
    {
     "data": {
      "text/html": [
       "<pre>| 3       | 5.16s        | 0.602353          | 0.706654              | 0.0825955   |</pre>"
      ],
      "text/plain": [
       "| 3       | 5.16s        | 0.602353          | 0.706654              | 0.0825955   |"
      ]
     },
     "metadata": {},
     "output_type": "display_data"
    },
    {
     "data": {
      "text/html": [
       "<pre>| 4       | 6.08s        | 0.590735          | 0.698969              | 0.0825955   |</pre>"
      ],
      "text/plain": [
       "| 4       | 6.08s        | 0.590735          | 0.698969              | 0.0825955   |"
      ]
     },
     "metadata": {},
     "output_type": "display_data"
    },
    {
     "data": {
      "text/html": [
       "<pre>| 5       | 6.85s        | 0.583885          | 0.692077              | 0.0825955   |</pre>"
      ],
      "text/plain": [
       "| 5       | 6.85s        | 0.583885          | 0.692077              | 0.0825955   |"
      ]
     },
     "metadata": {},
     "output_type": "display_data"
    },
    {
     "data": {
      "text/html": [
       "<pre>| 6       | 7.66s        | 0.580687          | 0.686458              | 0.0825955   |</pre>"
      ],
      "text/plain": [
       "| 6       | 7.66s        | 0.580687          | 0.686458              | 0.0825955   |"
      ]
     },
     "metadata": {},
     "output_type": "display_data"
    },
    {
     "data": {
      "text/html": [
       "<pre>| 7       | 8.45s        | 0.576471          | 0.680383              | 0.0825955   |</pre>"
      ],
      "text/plain": [
       "| 7       | 8.45s        | 0.576471          | 0.680383              | 0.0825955   |"
      ]
     },
     "metadata": {},
     "output_type": "display_data"
    },
    {
     "data": {
      "text/html": [
       "<pre>| 8       | 9.37s        | 0.572696          | 0.674553              | 0.0825955   |</pre>"
      ],
      "text/plain": [
       "| 8       | 9.37s        | 0.572696          | 0.674553              | 0.0825955   |"
      ]
     },
     "metadata": {},
     "output_type": "display_data"
    },
    {
     "data": {
      "text/html": [
       "<pre>| 9       | 10.27s       | 0.570791          | 0.669685              | 0.0825955   |</pre>"
      ],
      "text/plain": [
       "| 9       | 10.27s       | 0.570791          | 0.669685              | 0.0825955   |"
      ]
     },
     "metadata": {},
     "output_type": "display_data"
    },
    {
     "data": {
      "text/html": [
       "<pre>| 10      | 11.47s       | 0.568863          | 0.664862              | 0.0825955   |</pre>"
      ],
      "text/plain": [
       "| 10      | 11.47s       | 0.568863          | 0.664862              | 0.0825955   |"
      ]
     },
     "metadata": {},
     "output_type": "display_data"
    },
    {
     "data": {
      "text/html": [
       "<pre>| 11      | 12.95s       | 0.566592          | 0.660039              | 0.0825955   |</pre>"
      ],
      "text/plain": [
       "| 11      | 12.95s       | 0.566592          | 0.660039              | 0.0825955   |"
      ]
     },
     "metadata": {},
     "output_type": "display_data"
    },
    {
     "data": {
      "text/html": [
       "<pre>| 12      | 14.77s       | 0.565647          | 0.65622               | 0.0825955   |</pre>"
      ],
      "text/plain": [
       "| 12      | 14.77s       | 0.565647          | 0.65622               | 0.0825955   |"
      ]
     },
     "metadata": {},
     "output_type": "display_data"
    },
    {
     "data": {
      "text/html": [
       "<pre>| 13      | 16.08s       | 0.564534          | 0.652127              | 0.0825955   |</pre>"
      ],
      "text/plain": [
       "| 13      | 16.08s       | 0.564534          | 0.652127              | 0.0825955   |"
      ]
     },
     "metadata": {},
     "output_type": "display_data"
    },
    {
     "data": {
      "text/html": [
       "<pre>| 14      | 17.52s       | 0.563082          | 0.648321              | 0.0825955   |</pre>"
      ],
      "text/plain": [
       "| 14      | 17.52s       | 0.563082          | 0.648321              | 0.0825955   |"
      ]
     },
     "metadata": {},
     "output_type": "display_data"
    },
    {
     "data": {
      "text/html": [
       "<pre>| 15      | 18.83s       | 0.562078          | 0.644756              | 0.0825955   |</pre>"
      ],
      "text/plain": [
       "| 15      | 18.83s       | 0.562078          | 0.644756              | 0.0825955   |"
      ]
     },
     "metadata": {},
     "output_type": "display_data"
    },
    {
     "data": {
      "text/html": [
       "<pre>| 16      | 20.21s       | 0.561006          | 0.641421              | 0.0825955   |</pre>"
      ],
      "text/plain": [
       "| 16      | 20.21s       | 0.561006          | 0.641421              | 0.0825955   |"
      ]
     },
     "metadata": {},
     "output_type": "display_data"
    },
    {
     "data": {
      "text/html": [
       "<pre>| 17      | 21.75s       | 0.560161          | 0.638238              | 0.0825955   |</pre>"
      ],
      "text/plain": [
       "| 17      | 21.75s       | 0.560161          | 0.638238              | 0.0825955   |"
      ]
     },
     "metadata": {},
     "output_type": "display_data"
    },
    {
     "data": {
      "text/html": [
       "<pre>| 18      | 23.16s       | 0.559577          | 0.635284              | 0.0825955   |</pre>"
      ],
      "text/plain": [
       "| 18      | 23.16s       | 0.559577          | 0.635284              | 0.0825955   |"
      ]
     },
     "metadata": {},
     "output_type": "display_data"
    },
    {
     "data": {
      "text/html": [
       "<pre>| 19      | 24.74s       | 0.558892          | 0.632365              | 0.0825955   |</pre>"
      ],
      "text/plain": [
       "| 19      | 24.74s       | 0.558892          | 0.632365              | 0.0825955   |"
      ]
     },
     "metadata": {},
     "output_type": "display_data"
    },
    {
     "data": {
      "text/html": [
       "<pre>| 20      | 26.25s       | 0.558453          | 0.629808              | 0.0825955   |</pre>"
      ],
      "text/plain": [
       "| 20      | 26.25s       | 0.558453          | 0.629808              | 0.0825955   |"
      ]
     },
     "metadata": {},
     "output_type": "display_data"
    },
    {
     "data": {
      "text/html": [
       "<pre>| 21      | 28.08s       | 0.55806           | 0.62727               | 0.0825955   |</pre>"
      ],
      "text/plain": [
       "| 21      | 28.08s       | 0.55806           | 0.62727               | 0.0825955   |"
      ]
     },
     "metadata": {},
     "output_type": "display_data"
    },
    {
     "data": {
      "text/html": [
       "<pre>| 22      | 29.82s       | 0.557633          | 0.624887              | 0.0825955   |</pre>"
      ],
      "text/plain": [
       "| 22      | 29.82s       | 0.557633          | 0.624887              | 0.0825955   |"
      ]
     },
     "metadata": {},
     "output_type": "display_data"
    },
    {
     "data": {
      "text/html": [
       "<pre>| 23      | 31.53s       | 0.557194          | 0.622468              | 0.0825955   |</pre>"
      ],
      "text/plain": [
       "| 23      | 31.53s       | 0.557194          | 0.622468              | 0.0825955   |"
      ]
     },
     "metadata": {},
     "output_type": "display_data"
    },
    {
     "data": {
      "text/html": [
       "<pre>| 24      | 33.09s       | 0.557135          | 0.620409              | 0.0825955   |</pre>"
      ],
      "text/plain": [
       "| 24      | 33.09s       | 0.557135          | 0.620409              | 0.0825955   |"
      ]
     },
     "metadata": {},
     "output_type": "display_data"
    },
    {
     "data": {
      "text/html": [
       "<pre>| 25      | 34.60s       | 0.556796          | 0.618314              | 0.0825955   |</pre>"
      ],
      "text/plain": [
       "| 25      | 34.60s       | 0.556796          | 0.618314              | 0.0825955   |"
      ]
     },
     "metadata": {},
     "output_type": "display_data"
    },
    {
     "data": {
      "text/html": [
       "<pre>+---------+--------------+-------------------+-----------------------+-------------+</pre>"
      ],
      "text/plain": [
       "+---------+--------------+-------------------+-----------------------+-------------+"
      ]
     },
     "metadata": {},
     "output_type": "display_data"
    },
    {
     "data": {
      "text/html": [
       "<pre>Optimization Complete: Maximum number of passes through the data reached.</pre>"
      ],
      "text/plain": [
       "Optimization Complete: Maximum number of passes through the data reached."
      ]
     },
     "metadata": {},
     "output_type": "display_data"
    },
    {
     "data": {
      "text/html": [
       "<pre>Computing final objective value and training RMSE.</pre>"
      ],
      "text/plain": [
       "Computing final objective value and training RMSE."
      ]
     },
     "metadata": {},
     "output_type": "display_data"
    },
    {
     "data": {
      "text/html": [
       "<pre>       Final objective value: 0.585799</pre>"
      ],
      "text/plain": [
       "       Final objective value: 0.585799"
      ]
     },
     "metadata": {},
     "output_type": "display_data"
    },
    {
     "data": {
      "text/html": [
       "<pre>       Final training RMSE: 0.641339</pre>"
      ],
      "text/plain": [
       "       Final training RMSE: 0.641339"
      ]
     },
     "metadata": {},
     "output_type": "display_data"
    }
   ],
   "source": [
    "m = gl.ranking_factorization_recommender.create(train_data, user_id='user_id', \\\n",
    "                                                item_id='media_id', target='target', \\\n",
    "                                                binary_target=False, linear_regularization=0.0000001, \\\n",
    "                                                regularization=0.00001, num_factors=32, ranking_regularization=0,\\\n",
    "                                                num_sampled_negative_examples=4, max_iterations=25)"
   ]
  },
  {
   "cell_type": "markdown",
   "metadata": {},
   "source": [
    "## Compute ROC score"
   ]
  },
  {
   "cell_type": "code",
   "execution_count": 172,
   "metadata": {},
   "outputs": [
    {
     "name": "stdout",
     "output_type": "stream",
     "text": [
      "0.838808308061\n"
     ]
    }
   ],
   "source": [
    "val_pred = m.predict(valid_data)\n",
    "\n",
    "valid_df = valid_data.to_dataframe()\n",
    "valid_df.loc[valid_df['target'] >= 0, 'target']  = 1\n",
    "valid_df.loc[valid_df['target'] < 0, 'target'] = 0\n",
    "\n",
    "score = roc_auc_score(list(valid_df['target']), val_pred)\n",
    "print score"
   ]
  },
  {
   "cell_type": "markdown",
   "metadata": {},
   "source": [
    "# Prediction and submission file"
   ]
  },
  {
   "cell_type": "code",
   "execution_count": 191,
   "metadata": {
    "scrolled": true
   },
   "outputs": [
    {
     "data": {
      "text/html": [
       "<pre>Recsys training: model = ranking_factorization_recommender</pre>"
      ],
      "text/plain": [
       "Recsys training: model = ranking_factorization_recommender"
      ]
     },
     "metadata": {},
     "output_type": "display_data"
    },
    {
     "data": {
      "text/html": [
       "<pre>Preparing data set.</pre>"
      ],
      "text/plain": [
       "Preparing data set."
      ]
     },
     "metadata": {},
     "output_type": "display_data"
    },
    {
     "data": {
      "text/html": [
       "<pre>    Data has 1592963 observations with 15971 users and 151720 items.</pre>"
      ],
      "text/plain": [
       "    Data has 1592963 observations with 15971 users and 151720 items."
      ]
     },
     "metadata": {},
     "output_type": "display_data"
    },
    {
     "data": {
      "text/html": [
       "<pre>    Data prepared in: 2.3193s</pre>"
      ],
      "text/plain": [
       "    Data prepared in: 2.3193s"
      ]
     },
     "metadata": {},
     "output_type": "display_data"
    },
    {
     "data": {
      "text/html": [
       "<pre>Training ranking_factorization_recommender for recommendations.</pre>"
      ],
      "text/plain": [
       "Training ranking_factorization_recommender for recommendations."
      ]
     },
     "metadata": {},
     "output_type": "display_data"
    },
    {
     "data": {
      "text/html": [
       "<pre>+--------------------------------+--------------------------------------------------+----------+</pre>"
      ],
      "text/plain": [
       "+--------------------------------+--------------------------------------------------+----------+"
      ]
     },
     "metadata": {},
     "output_type": "display_data"
    },
    {
     "data": {
      "text/html": [
       "<pre>| Parameter                      | Description                                      | Value    |</pre>"
      ],
      "text/plain": [
       "| Parameter                      | Description                                      | Value    |"
      ]
     },
     "metadata": {},
     "output_type": "display_data"
    },
    {
     "data": {
      "text/html": [
       "<pre>+--------------------------------+--------------------------------------------------+----------+</pre>"
      ],
      "text/plain": [
       "+--------------------------------+--------------------------------------------------+----------+"
      ]
     },
     "metadata": {},
     "output_type": "display_data"
    },
    {
     "data": {
      "text/html": [
       "<pre>| num_factors                    | Factor Dimension                                 | 50       |</pre>"
      ],
      "text/plain": [
       "| num_factors                    | Factor Dimension                                 | 50       |"
      ]
     },
     "metadata": {},
     "output_type": "display_data"
    },
    {
     "data": {
      "text/html": [
       "<pre>| regularization                 | L2 Regularization on Factors                     | 1e-05    |</pre>"
      ],
      "text/plain": [
       "| regularization                 | L2 Regularization on Factors                     | 1e-05    |"
      ]
     },
     "metadata": {},
     "output_type": "display_data"
    },
    {
     "data": {
      "text/html": [
       "<pre>| solver                         | Solver used for training                         | adagrad  |</pre>"
      ],
      "text/plain": [
       "| solver                         | Solver used for training                         | adagrad  |"
      ]
     },
     "metadata": {},
     "output_type": "display_data"
    },
    {
     "data": {
      "text/html": [
       "<pre>| linear_regularization          | L2 Regularization on Linear Coefficients         | 1e-05    |</pre>"
      ],
      "text/plain": [
       "| linear_regularization          | L2 Regularization on Linear Coefficients         | 1e-05    |"
      ]
     },
     "metadata": {},
     "output_type": "display_data"
    },
    {
     "data": {
      "text/html": [
       "<pre>| max_iterations                 | Maximum Number of Iterations                     | 100      |</pre>"
      ],
      "text/plain": [
       "| max_iterations                 | Maximum Number of Iterations                     | 100      |"
      ]
     },
     "metadata": {},
     "output_type": "display_data"
    },
    {
     "data": {
      "text/html": [
       "<pre>+--------------------------------+--------------------------------------------------+----------+</pre>"
      ],
      "text/plain": [
       "+--------------------------------+--------------------------------------------------+----------+"
      ]
     },
     "metadata": {},
     "output_type": "display_data"
    },
    {
     "data": {
      "text/html": [
       "<pre>  Optimizing model using SGD; tuning step size.</pre>"
      ],
      "text/plain": [
       "  Optimizing model using SGD; tuning step size."
      ]
     },
     "metadata": {},
     "output_type": "display_data"
    },
    {
     "data": {
      "text/html": [
       "<pre>  Using 199120 / 1592963 points for tuning the step size.</pre>"
      ],
      "text/plain": [
       "  Using 199120 / 1592963 points for tuning the step size."
      ]
     },
     "metadata": {},
     "output_type": "display_data"
    },
    {
     "data": {
      "text/html": [
       "<pre>+---------+-------------------+------------------------------------------+</pre>"
      ],
      "text/plain": [
       "+---------+-------------------+------------------------------------------+"
      ]
     },
     "metadata": {},
     "output_type": "display_data"
    },
    {
     "data": {
      "text/html": [
       "<pre>| Attempt | Initial Step Size | Estimated Objective Value                |</pre>"
      ],
      "text/plain": [
       "| Attempt | Initial Step Size | Estimated Objective Value                |"
      ]
     },
     "metadata": {},
     "output_type": "display_data"
    },
    {
     "data": {
      "text/html": [
       "<pre>+---------+-------------------+------------------------------------------+</pre>"
      ],
      "text/plain": [
       "+---------+-------------------+------------------------------------------+"
      ]
     },
     "metadata": {},
     "output_type": "display_data"
    },
    {
     "data": {
      "text/html": [
       "<pre>| 0       | 4.62541           | Not Viable                               |</pre>"
      ],
      "text/plain": [
       "| 0       | 4.62541           | Not Viable                               |"
      ]
     },
     "metadata": {},
     "output_type": "display_data"
    },
    {
     "data": {
      "text/html": [
       "<pre>| 1       | 1.15635           | Not Viable                               |</pre>"
      ],
      "text/plain": [
       "| 1       | 1.15635           | Not Viable                               |"
      ]
     },
     "metadata": {},
     "output_type": "display_data"
    },
    {
     "data": {
      "text/html": [
       "<pre>| 2       | 0.289088          | 0.574663                                 |</pre>"
      ],
      "text/plain": [
       "| 2       | 0.289088          | 0.574663                                 |"
      ]
     },
     "metadata": {},
     "output_type": "display_data"
    },
    {
     "data": {
      "text/html": [
       "<pre>| 3       | 0.144544          | 0.520135                                 |</pre>"
      ],
      "text/plain": [
       "| 3       | 0.144544          | 0.520135                                 |"
      ]
     },
     "metadata": {},
     "output_type": "display_data"
    },
    {
     "data": {
      "text/html": [
       "<pre>| 4       | 0.072272          | 0.457341                                 |</pre>"
      ],
      "text/plain": [
       "| 4       | 0.072272          | 0.457341                                 |"
      ]
     },
     "metadata": {},
     "output_type": "display_data"
    },
    {
     "data": {
      "text/html": [
       "<pre>| 5       | 0.036136          | 0.459783                                 |</pre>"
      ],
      "text/plain": [
       "| 5       | 0.036136          | 0.459783                                 |"
      ]
     },
     "metadata": {},
     "output_type": "display_data"
    },
    {
     "data": {
      "text/html": [
       "<pre>| 6       | 0.018068          | 0.574195                                 |</pre>"
      ],
      "text/plain": [
       "| 6       | 0.018068          | 0.574195                                 |"
      ]
     },
     "metadata": {},
     "output_type": "display_data"
    },
    {
     "data": {
      "text/html": [
       "<pre>| 7       | 0.009034          | 0.667825                                 |</pre>"
      ],
      "text/plain": [
       "| 7       | 0.009034          | 0.667825                                 |"
      ]
     },
     "metadata": {},
     "output_type": "display_data"
    },
    {
     "data": {
      "text/html": [
       "<pre>+---------+-------------------+------------------------------------------+</pre>"
      ],
      "text/plain": [
       "+---------+-------------------+------------------------------------------+"
      ]
     },
     "metadata": {},
     "output_type": "display_data"
    },
    {
     "data": {
      "text/html": [
       "<pre>| Final   | 0.072272          | 0.457341                                 |</pre>"
      ],
      "text/plain": [
       "| Final   | 0.072272          | 0.457341                                 |"
      ]
     },
     "metadata": {},
     "output_type": "display_data"
    },
    {
     "data": {
      "text/html": [
       "<pre>+---------+-------------------+------------------------------------------+</pre>"
      ],
      "text/plain": [
       "+---------+-------------------+------------------------------------------+"
      ]
     },
     "metadata": {},
     "output_type": "display_data"
    },
    {
     "data": {
      "text/html": [
       "<pre>Starting Optimization.</pre>"
      ],
      "text/plain": [
       "Starting Optimization."
      ]
     },
     "metadata": {},
     "output_type": "display_data"
    },
    {
     "data": {
      "text/html": [
       "<pre>+---------+--------------+-------------------+-----------------------+-------------+</pre>"
      ],
      "text/plain": [
       "+---------+--------------+-------------------+-----------------------+-------------+"
      ]
     },
     "metadata": {},
     "output_type": "display_data"
    },
    {
     "data": {
      "text/html": [
       "<pre>| Iter.   | Elapsed Time | Approx. Objective | Approx. Training RMSE | Step Size   |</pre>"
      ],
      "text/plain": [
       "| Iter.   | Elapsed Time | Approx. Objective | Approx. Training RMSE | Step Size   |"
      ]
     },
     "metadata": {},
     "output_type": "display_data"
    },
    {
     "data": {
      "text/html": [
       "<pre>+---------+--------------+-------------------+-----------------------+-------------+</pre>"
      ],
      "text/plain": [
       "+---------+--------------+-------------------+-----------------------+-------------+"
      ]
     },
     "metadata": {},
     "output_type": "display_data"
    },
    {
     "data": {
      "text/html": [
       "<pre>| Initial | 109us        | 0.903086          | 0.950308              |             |</pre>"
      ],
      "text/plain": [
       "| Initial | 109us        | 0.903086          | 0.950308              |             |"
      ]
     },
     "metadata": {},
     "output_type": "display_data"
    },
    {
     "data": {
      "text/html": [
       "<pre>+---------+--------------+-------------------+-----------------------+-------------+</pre>"
      ],
      "text/plain": [
       "+---------+--------------+-------------------+-----------------------+-------------+"
      ]
     },
     "metadata": {},
     "output_type": "display_data"
    },
    {
     "data": {
      "text/html": [
       "<pre>| 1       | 1.46s        | 0.972081          | 0.907352              | 0.072272    |</pre>"
      ],
      "text/plain": [
       "| 1       | 1.46s        | 0.972081          | 0.907352              | 0.072272    |"
      ]
     },
     "metadata": {},
     "output_type": "display_data"
    },
    {
     "data": {
      "text/html": [
       "<pre>| 2       | 2.66s        | 0.710512          | 0.769607              | 0.072272    |</pre>"
      ],
      "text/plain": [
       "| 2       | 2.66s        | 0.710512          | 0.769607              | 0.072272    |"
      ]
     },
     "metadata": {},
     "output_type": "display_data"
    },
    {
     "data": {
      "text/html": [
       "<pre>| 3       | 3.98s        | 0.731703          | 0.795781              | 0.072272    |</pre>"
      ],
      "text/plain": [
       "| 3       | 3.98s        | 0.731703          | 0.795781              | 0.072272    |"
      ]
     },
     "metadata": {},
     "output_type": "display_data"
    },
    {
     "data": {
      "text/html": [
       "<pre>| 4       | 5.20s        | 0.742618          | 0.793057              | 0.072272    |</pre>"
      ],
      "text/plain": [
       "| 4       | 5.20s        | 0.742618          | 0.793057              | 0.072272    |"
      ]
     },
     "metadata": {},
     "output_type": "display_data"
    },
    {
     "data": {
      "text/html": [
       "<pre>| 5       | 6.53s        | 0.689738          | 0.756637              | 0.072272    |</pre>"
      ],
      "text/plain": [
       "| 5       | 6.53s        | 0.689738          | 0.756637              | 0.072272    |"
      ]
     },
     "metadata": {},
     "output_type": "display_data"
    },
    {
     "data": {
      "text/html": [
       "<pre>| 6       | 7.73s        | 0.635758          | 0.714687              | 0.072272    |</pre>"
      ],
      "text/plain": [
       "| 6       | 7.73s        | 0.635758          | 0.714687              | 0.072272    |"
      ]
     },
     "metadata": {},
     "output_type": "display_data"
    },
    {
     "data": {
      "text/html": [
       "<pre>| 7       | 9.07s        | 0.614198          | 0.695017              | 0.072272    |</pre>"
      ],
      "text/plain": [
       "| 7       | 9.07s        | 0.614198          | 0.695017              | 0.072272    |"
      ]
     },
     "metadata": {},
     "output_type": "display_data"
    },
    {
     "data": {
      "text/html": [
       "<pre>| 8       | 10.34s       | 0.597185          | 0.67816               | 0.072272    |</pre>"
      ],
      "text/plain": [
       "| 8       | 10.34s       | 0.597185          | 0.67816               | 0.072272    |"
      ]
     },
     "metadata": {},
     "output_type": "display_data"
    },
    {
     "data": {
      "text/html": [
       "<pre>| 9       | 11.48s       | 0.631571          | 0.698988              | 0.072272    |</pre>"
      ],
      "text/plain": [
       "| 9       | 11.48s       | 0.631571          | 0.698988              | 0.072272    |"
      ]
     },
     "metadata": {},
     "output_type": "display_data"
    },
    {
     "data": {
      "text/html": [
       "<pre>| 10      | 12.92s       | 0.696175          | 0.747978              | 0.072272    |</pre>"
      ],
      "text/plain": [
       "| 10      | 12.92s       | 0.696175          | 0.747978              | 0.072272    |"
      ]
     },
     "metadata": {},
     "output_type": "display_data"
    },
    {
     "data": {
      "text/html": [
       "<pre>| 11      | 14.11s       | 0.683806          | 0.738133              | 0.072272    |</pre>"
      ],
      "text/plain": [
       "| 11      | 14.11s       | 0.683806          | 0.738133              | 0.072272    |"
      ]
     },
     "metadata": {},
     "output_type": "display_data"
    },
    {
     "data": {
      "text/html": [
       "<pre>| 12      | 15.29s       | 0.678904          | 0.732959              | 0.072272    |</pre>"
      ],
      "text/plain": [
       "| 12      | 15.29s       | 0.678904          | 0.732959              | 0.072272    |"
      ]
     },
     "metadata": {},
     "output_type": "display_data"
    },
    {
     "data": {
      "text/html": [
       "<pre>| 13      | 16.44s       | 0.651021          | 0.712551              | 0.072272    |</pre>"
      ],
      "text/plain": [
       "| 13      | 16.44s       | 0.651021          | 0.712551              | 0.072272    |"
      ]
     },
     "metadata": {},
     "output_type": "display_data"
    },
    {
     "data": {
      "text/html": [
       "<pre>| 14      | 17.80s       | 0.630315          | 0.69675               | 0.072272    |</pre>"
      ],
      "text/plain": [
       "| 14      | 17.80s       | 0.630315          | 0.69675               | 0.072272    |"
      ]
     },
     "metadata": {},
     "output_type": "display_data"
    },
    {
     "data": {
      "text/html": [
       "<pre>| 15      | 19.04s       | 0.616334          | 0.685604              | 0.072272    |</pre>"
      ],
      "text/plain": [
       "| 15      | 19.04s       | 0.616334          | 0.685604              | 0.072272    |"
      ]
     },
     "metadata": {},
     "output_type": "display_data"
    },
    {
     "data": {
      "text/html": [
       "<pre>| 16      | 20.26s       | 0.603796          | 0.675392              | 0.072272    |</pre>"
      ],
      "text/plain": [
       "| 16      | 20.26s       | 0.603796          | 0.675392              | 0.072272    |"
      ]
     },
     "metadata": {},
     "output_type": "display_data"
    },
    {
     "data": {
      "text/html": [
       "<pre>| 17      | 21.42s       | 0.594487          | 0.66753               | 0.072272    |</pre>"
      ],
      "text/plain": [
       "| 17      | 21.42s       | 0.594487          | 0.66753               | 0.072272    |"
      ]
     },
     "metadata": {},
     "output_type": "display_data"
    },
    {
     "data": {
      "text/html": [
       "<pre>| 18      | 22.73s       | 0.585046          | 0.659547              | 0.072272    |</pre>"
      ],
      "text/plain": [
       "| 18      | 22.73s       | 0.585046          | 0.659547              | 0.072272    |"
      ]
     },
     "metadata": {},
     "output_type": "display_data"
    },
    {
     "data": {
      "text/html": [
       "<pre>| 19      | 23.97s       | 0.576927          | 0.651994              | 0.072272    |</pre>"
      ],
      "text/plain": [
       "| 19      | 23.97s       | 0.576927          | 0.651994              | 0.072272    |"
      ]
     },
     "metadata": {},
     "output_type": "display_data"
    },
    {
     "data": {
      "text/html": [
       "<pre>| 20      | 25.12s       | 0.619956          | 0.681832              | 0.072272    |</pre>"
      ],
      "text/plain": [
       "| 20      | 25.12s       | 0.619956          | 0.681832              | 0.072272    |"
      ]
     },
     "metadata": {},
     "output_type": "display_data"
    },
    {
     "data": {
      "text/html": [
       "<pre>| 21      | 26.36s       | 0.688094          | 0.732454              | 0.072272    |</pre>"
      ],
      "text/plain": [
       "| 21      | 26.36s       | 0.688094          | 0.732454              | 0.072272    |"
      ]
     },
     "metadata": {},
     "output_type": "display_data"
    },
    {
     "data": {
      "text/html": [
       "<pre>| 22      | 27.75s       | 0.681054          | 0.727706              | 0.072272    |</pre>"
      ],
      "text/plain": [
       "| 22      | 27.75s       | 0.681054          | 0.727706              | 0.072272    |"
      ]
     },
     "metadata": {},
     "output_type": "display_data"
    },
    {
     "data": {
      "text/html": [
       "<pre>| 23      | 29.02s       | 0.680571          | 0.726003              | 0.072272    |</pre>"
      ],
      "text/plain": [
       "| 23      | 29.02s       | 0.680571          | 0.726003              | 0.072272    |"
      ]
     },
     "metadata": {},
     "output_type": "display_data"
    },
    {
     "data": {
      "text/html": [
       "<pre>| 24      | 30.40s       | 0.665717          | 0.71526               | 0.072272    |</pre>"
      ],
      "text/plain": [
       "| 24      | 30.40s       | 0.665717          | 0.71526               | 0.072272    |"
      ]
     },
     "metadata": {},
     "output_type": "display_data"
    },
    {
     "data": {
      "text/html": [
       "<pre>| 25      | 32.07s       | 0.643758          | 0.699433              | 0.072272    |</pre>"
      ],
      "text/plain": [
       "| 25      | 32.07s       | 0.643758          | 0.699433              | 0.072272    |"
      ]
     },
     "metadata": {},
     "output_type": "display_data"
    },
    {
     "data": {
      "text/html": [
       "<pre>| 26      | 33.50s       | 0.62821           | 0.687963              | 0.072272    |</pre>"
      ],
      "text/plain": [
       "| 26      | 33.50s       | 0.62821           | 0.687963              | 0.072272    |"
      ]
     },
     "metadata": {},
     "output_type": "display_data"
    },
    {
     "data": {
      "text/html": [
       "<pre>| 27      | 35.26s       | 0.617181          | 0.67968               | 0.072272    |</pre>"
      ],
      "text/plain": [
       "| 27      | 35.26s       | 0.617181          | 0.67968               | 0.072272    |"
      ]
     },
     "metadata": {},
     "output_type": "display_data"
    },
    {
     "data": {
      "text/html": [
       "<pre>| 28      | 36.42s       | 0.609602          | 0.673878              | 0.072272    |</pre>"
      ],
      "text/plain": [
       "| 28      | 36.42s       | 0.609602          | 0.673878              | 0.072272    |"
      ]
     },
     "metadata": {},
     "output_type": "display_data"
    },
    {
     "data": {
      "text/html": [
       "<pre>| 29      | 37.79s       | 0.603835          | 0.669469              | 0.072272    |</pre>"
      ],
      "text/plain": [
       "| 29      | 37.79s       | 0.603835          | 0.669469              | 0.072272    |"
      ]
     },
     "metadata": {},
     "output_type": "display_data"
    },
    {
     "data": {
      "text/html": [
       "<pre>| 30      | 39.04s       | 0.59686           | 0.664182              | 0.072272    |</pre>"
      ],
      "text/plain": [
       "| 30      | 39.04s       | 0.59686           | 0.664182              | 0.072272    |"
      ]
     },
     "metadata": {},
     "output_type": "display_data"
    },
    {
     "data": {
      "text/html": [
       "<pre>| 31      | 40.72s       | 0.590633          | 0.659353              | 0.072272    |</pre>"
      ],
      "text/plain": [
       "| 31      | 40.72s       | 0.590633          | 0.659353              | 0.072272    |"
      ]
     },
     "metadata": {},
     "output_type": "display_data"
    },
    {
     "data": {
      "text/html": [
       "<pre>| 32      | 42.82s       | 0.58439           | 0.654515              | 0.072272    |</pre>"
      ],
      "text/plain": [
       "| 32      | 42.82s       | 0.58439           | 0.654515              | 0.072272    |"
      ]
     },
     "metadata": {},
     "output_type": "display_data"
    },
    {
     "data": {
      "text/html": [
       "<pre>| 33      | 45.12s       | 0.576945          | 0.648623              | 0.072272    |</pre>"
      ],
      "text/plain": [
       "| 33      | 45.12s       | 0.576945          | 0.648623              | 0.072272    |"
      ]
     },
     "metadata": {},
     "output_type": "display_data"
    },
    {
     "data": {
      "text/html": [
       "<pre>| 34      | 46.99s       | 0.569734          | 0.642709              | 0.072272    |</pre>"
      ],
      "text/plain": [
       "| 34      | 46.99s       | 0.569734          | 0.642709              | 0.072272    |"
      ]
     },
     "metadata": {},
     "output_type": "display_data"
    },
    {
     "data": {
      "text/html": [
       "<pre>| 35      | 49.71s       | 0.580023          | 0.649227              | 0.072272    |</pre>"
      ],
      "text/plain": [
       "| 35      | 49.71s       | 0.580023          | 0.649227              | 0.072272    |"
      ]
     },
     "metadata": {},
     "output_type": "display_data"
    },
    {
     "data": {
      "text/html": [
       "<pre>| 36      | 51.85s       | 0.705047          | 0.7398                | 0.072272    |</pre>"
      ],
      "text/plain": [
       "| 36      | 51.85s       | 0.705047          | 0.7398                | 0.072272    |"
      ]
     },
     "metadata": {},
     "output_type": "display_data"
    },
    {
     "data": {
      "text/html": [
       "<pre>| 37      | 53.64s       | 0.688205          | 0.728789              | 0.072272    |</pre>"
      ],
      "text/plain": [
       "| 37      | 53.64s       | 0.688205          | 0.728789              | 0.072272    |"
      ]
     },
     "metadata": {},
     "output_type": "display_data"
    },
    {
     "data": {
      "text/html": [
       "<pre>| 38      | 55.89s       | 0.699695          | 0.735179              | 0.072272    |</pre>"
      ],
      "text/plain": [
       "| 38      | 55.89s       | 0.699695          | 0.735179              | 0.072272    |"
      ]
     },
     "metadata": {},
     "output_type": "display_data"
    },
    {
     "data": {
      "text/html": [
       "<pre>| 39      | 57.23s       | 0.698552          | 0.733959              | 0.072272    |</pre>"
      ],
      "text/plain": [
       "| 39      | 57.23s       | 0.698552          | 0.733959              | 0.072272    |"
      ]
     },
     "metadata": {},
     "output_type": "display_data"
    },
    {
     "data": {
      "text/html": [
       "<pre>| 40      | 58.51s       | 0.670742          | 0.714694              | 0.072272    |</pre>"
      ],
      "text/plain": [
       "| 40      | 58.51s       | 0.670742          | 0.714694              | 0.072272    |"
      ]
     },
     "metadata": {},
     "output_type": "display_data"
    },
    {
     "data": {
      "text/html": [
       "<pre>| 41      | 59.67s       | 0.651189          | 0.700911              | 0.072272    |</pre>"
      ],
      "text/plain": [
       "| 41      | 59.67s       | 0.651189          | 0.700911              | 0.072272    |"
      ]
     },
     "metadata": {},
     "output_type": "display_data"
    },
    {
     "data": {
      "text/html": [
       "<pre>| 42      | 1m 0s        | 0.636755          | 0.690531              | 0.072272    |</pre>"
      ],
      "text/plain": [
       "| 42      | 1m 0s        | 0.636755          | 0.690531              | 0.072272    |"
      ]
     },
     "metadata": {},
     "output_type": "display_data"
    },
    {
     "data": {
      "text/html": [
       "<pre>| 43      | 1m 2s        | 0.629552          | 0.685369              | 0.072272    |</pre>"
      ],
      "text/plain": [
       "| 43      | 1m 2s        | 0.629552          | 0.685369              | 0.072272    |"
      ]
     },
     "metadata": {},
     "output_type": "display_data"
    },
    {
     "data": {
      "text/html": [
       "<pre>| 44      | 1m 3s        | 0.62228           | 0.680095              | 0.072272    |</pre>"
      ],
      "text/plain": [
       "| 44      | 1m 3s        | 0.62228           | 0.680095              | 0.072272    |"
      ]
     },
     "metadata": {},
     "output_type": "display_data"
    },
    {
     "data": {
      "text/html": [
       "<pre>| 45      | 1m 5s        | 0.616751          | 0.676081              | 0.072272    |</pre>"
      ],
      "text/plain": [
       "| 45      | 1m 5s        | 0.616751          | 0.676081              | 0.072272    |"
      ]
     },
     "metadata": {},
     "output_type": "display_data"
    },
    {
     "data": {
      "text/html": [
       "<pre>| 46      | 1m 7s        | 0.615633          | 0.675352              | 0.072272    |</pre>"
      ],
      "text/plain": [
       "| 46      | 1m 7s        | 0.615633          | 0.675352              | 0.072272    |"
      ]
     },
     "metadata": {},
     "output_type": "display_data"
    },
    {
     "data": {
      "text/html": [
       "<pre>| 47      | 1m 8s        | 0.613014          | 0.67349               | 0.072272    |</pre>"
      ],
      "text/plain": [
       "| 47      | 1m 8s        | 0.613014          | 0.67349               | 0.072272    |"
      ]
     },
     "metadata": {},
     "output_type": "display_data"
    },
    {
     "data": {
      "text/html": [
       "<pre>| 48      | 1m 10s       | 0.609481          | 0.670977              | 0.072272    |</pre>"
      ],
      "text/plain": [
       "| 48      | 1m 10s       | 0.609481          | 0.670977              | 0.072272    |"
      ]
     },
     "metadata": {},
     "output_type": "display_data"
    },
    {
     "data": {
      "text/html": [
       "<pre>| 49      | 1m 12s       | 0.607991          | 0.669986              | 0.072272    |</pre>"
      ],
      "text/plain": [
       "| 49      | 1m 12s       | 0.607991          | 0.669986              | 0.072272    |"
      ]
     },
     "metadata": {},
     "output_type": "display_data"
    },
    {
     "data": {
      "text/html": [
       "<pre>| 50      | 1m 14s       | 0.605789          | 0.668518              | 0.072272    |</pre>"
      ],
      "text/plain": [
       "| 50      | 1m 14s       | 0.605789          | 0.668518              | 0.072272    |"
      ]
     },
     "metadata": {},
     "output_type": "display_data"
    },
    {
     "data": {
      "text/html": [
       "<pre>| 51      | 1m 16s       | 0.604665          | 0.667801              | 0.072272    |</pre>"
      ],
      "text/plain": [
       "| 51      | 1m 16s       | 0.604665          | 0.667801              | 0.072272    |"
      ]
     },
     "metadata": {},
     "output_type": "display_data"
    },
    {
     "data": {
      "text/html": [
       "<pre>| 52      | 1m 17s       | 0.603158          | 0.666837              | 0.072272    |</pre>"
      ],
      "text/plain": [
       "| 52      | 1m 17s       | 0.603158          | 0.666837              | 0.072272    |"
      ]
     },
     "metadata": {},
     "output_type": "display_data"
    },
    {
     "data": {
      "text/html": [
       "<pre>| 53      | 1m 19s       | 0.599653          | 0.664337              | 0.072272    |</pre>"
      ],
      "text/plain": [
       "| 53      | 1m 19s       | 0.599653          | 0.664337              | 0.072272    |"
      ]
     },
     "metadata": {},
     "output_type": "display_data"
    },
    {
     "data": {
      "text/html": [
       "<pre>| 54      | 1m 21s       | 0.598033          | 0.663306              | 0.072272    |</pre>"
      ],
      "text/plain": [
       "| 54      | 1m 21s       | 0.598033          | 0.663306              | 0.072272    |"
      ]
     },
     "metadata": {},
     "output_type": "display_data"
    },
    {
     "data": {
      "text/html": [
       "<pre>| 55      | 1m 23s       | 0.596717          | 0.662456              | 0.072272    |</pre>"
      ],
      "text/plain": [
       "| 55      | 1m 23s       | 0.596717          | 0.662456              | 0.072272    |"
      ]
     },
     "metadata": {},
     "output_type": "display_data"
    },
    {
     "data": {
      "text/html": [
       "<pre>| 56      | 1m 25s       | 0.59563           | 0.661826              | 0.072272    |</pre>"
      ],
      "text/plain": [
       "| 56      | 1m 25s       | 0.59563           | 0.661826              | 0.072272    |"
      ]
     },
     "metadata": {},
     "output_type": "display_data"
    },
    {
     "data": {
      "text/html": [
       "<pre>| 57      | 1m 27s       | 0.5915            | 0.65885               | 0.072272    |</pre>"
      ],
      "text/plain": [
       "| 57      | 1m 27s       | 0.5915            | 0.65885               | 0.072272    |"
      ]
     },
     "metadata": {},
     "output_type": "display_data"
    },
    {
     "data": {
      "text/html": [
       "<pre>| 58      | 1m 28s       | 0.588687          | 0.656906              | 0.072272    |</pre>"
      ],
      "text/plain": [
       "| 58      | 1m 28s       | 0.588687          | 0.656906              | 0.072272    |"
      ]
     },
     "metadata": {},
     "output_type": "display_data"
    },
    {
     "data": {
      "text/html": [
       "<pre>| 59      | 1m 29s       | 0.586098          | 0.655108              | 0.072272    |</pre>"
      ],
      "text/plain": [
       "| 59      | 1m 29s       | 0.586098          | 0.655108              | 0.072272    |"
      ]
     },
     "metadata": {},
     "output_type": "display_data"
    },
    {
     "data": {
      "text/html": [
       "<pre>| 60      | 1m 31s       | 0.583172          | 0.653036              | 0.072272    |</pre>"
      ],
      "text/plain": [
       "| 60      | 1m 31s       | 0.583172          | 0.653036              | 0.072272    |"
      ]
     },
     "metadata": {},
     "output_type": "display_data"
    },
    {
     "data": {
      "text/html": [
       "<pre>| 61      | 1m 32s       | 0.57864           | 0.649722              | 0.072272    |</pre>"
      ],
      "text/plain": [
       "| 61      | 1m 32s       | 0.57864           | 0.649722              | 0.072272    |"
      ]
     },
     "metadata": {},
     "output_type": "display_data"
    },
    {
     "data": {
      "text/html": [
       "<pre>| 62      | 1m 34s       | 0.574784          | 0.646928              | 0.072272    |</pre>"
      ],
      "text/plain": [
       "| 62      | 1m 34s       | 0.574784          | 0.646928              | 0.072272    |"
      ]
     },
     "metadata": {},
     "output_type": "display_data"
    },
    {
     "data": {
      "text/html": [
       "<pre>| 63      | 1m 35s       | 0.568983          | 0.642622              | 0.072272    |</pre>"
      ],
      "text/plain": [
       "| 63      | 1m 35s       | 0.568983          | 0.642622              | 0.072272    |"
      ]
     },
     "metadata": {},
     "output_type": "display_data"
    },
    {
     "data": {
      "text/html": [
       "<pre>| 64      | 1m 37s       | 0.563757          | 0.638672              | 0.072272    |</pre>"
      ],
      "text/plain": [
       "| 64      | 1m 37s       | 0.563757          | 0.638672              | 0.072272    |"
      ]
     },
     "metadata": {},
     "output_type": "display_data"
    },
    {
     "data": {
      "text/html": [
       "<pre>| 65      | 1m 38s       | 0.557994          | 0.634187              | 0.072272    |</pre>"
      ],
      "text/plain": [
       "| 65      | 1m 38s       | 0.557994          | 0.634187              | 0.072272    |"
      ]
     },
     "metadata": {},
     "output_type": "display_data"
    },
    {
     "data": {
      "text/html": [
       "<pre>| 66      | 1m 39s       | 0.568052          | 0.641796              | 0.072272    |</pre>"
      ],
      "text/plain": [
       "| 66      | 1m 39s       | 0.568052          | 0.641796              | 0.072272    |"
      ]
     },
     "metadata": {},
     "output_type": "display_data"
    },
    {
     "data": {
      "text/html": [
       "<pre>| 67      | 1m 41s       | 0.723684          | 0.75325               | 0.072272    |</pre>"
      ],
      "text/plain": [
       "| 67      | 1m 41s       | 0.723684          | 0.75325               | 0.072272    |"
      ]
     },
     "metadata": {},
     "output_type": "display_data"
    },
    {
     "data": {
      "text/html": [
       "<pre>| 68      | 1m 42s       | 0.704129          | 0.740436              | 0.072272    |</pre>"
      ],
      "text/plain": [
       "| 68      | 1m 42s       | 0.704129          | 0.740436              | 0.072272    |"
      ]
     },
     "metadata": {},
     "output_type": "display_data"
    },
    {
     "data": {
      "text/html": [
       "<pre>| 69      | 1m 44s       | 0.701872          | 0.73779               | 0.072272    |</pre>"
      ],
      "text/plain": [
       "| 69      | 1m 44s       | 0.701872          | 0.73779               | 0.072272    |"
      ]
     },
     "metadata": {},
     "output_type": "display_data"
    },
    {
     "data": {
      "text/html": [
       "<pre>| 70      | 1m 45s       | 0.700969          | 0.736094              | 0.072272    |</pre>"
      ],
      "text/plain": [
       "| 70      | 1m 45s       | 0.700969          | 0.736094              | 0.072272    |"
      ]
     },
     "metadata": {},
     "output_type": "display_data"
    },
    {
     "data": {
      "text/html": [
       "<pre>| 71      | 1m 46s       | 0.687487          | 0.726638              | 0.072272    |</pre>"
      ],
      "text/plain": [
       "| 71      | 1m 46s       | 0.687487          | 0.726638              | 0.072272    |"
      ]
     },
     "metadata": {},
     "output_type": "display_data"
    },
    {
     "data": {
      "text/html": [
       "<pre>| 72      | 1m 48s       | 0.668531          | 0.713557              | 0.072272    |</pre>"
      ],
      "text/plain": [
       "| 72      | 1m 48s       | 0.668531          | 0.713557              | 0.072272    |"
      ]
     },
     "metadata": {},
     "output_type": "display_data"
    },
    {
     "data": {
      "text/html": [
       "<pre>| 73      | 1m 49s       | 0.649089          | 0.699928              | 0.072272    |</pre>"
      ],
      "text/plain": [
       "| 73      | 1m 49s       | 0.649089          | 0.699928              | 0.072272    |"
      ]
     },
     "metadata": {},
     "output_type": "display_data"
    },
    {
     "data": {
      "text/html": [
       "<pre>| 74      | 1m 50s       | 0.637264          | 0.691551              | 0.072272    |</pre>"
      ],
      "text/plain": [
       "| 74      | 1m 50s       | 0.637264          | 0.691551              | 0.072272    |"
      ]
     },
     "metadata": {},
     "output_type": "display_data"
    },
    {
     "data": {
      "text/html": [
       "<pre>| 75      | 1m 51s       | 0.626482          | 0.683816              | 0.072272    |</pre>"
      ],
      "text/plain": [
       "| 75      | 1m 51s       | 0.626482          | 0.683816              | 0.072272    |"
      ]
     },
     "metadata": {},
     "output_type": "display_data"
    },
    {
     "data": {
      "text/html": [
       "<pre>| 76      | 1m 53s       | 0.618947          | 0.6784                | 0.072272    |</pre>"
      ],
      "text/plain": [
       "| 76      | 1m 53s       | 0.618947          | 0.6784                | 0.072272    |"
      ]
     },
     "metadata": {},
     "output_type": "display_data"
    },
    {
     "data": {
      "text/html": [
       "<pre>| 77      | 1m 54s       | 0.613876          | 0.674734              | 0.072272    |</pre>"
      ],
      "text/plain": [
       "| 77      | 1m 54s       | 0.613876          | 0.674734              | 0.072272    |"
      ]
     },
     "metadata": {},
     "output_type": "display_data"
    },
    {
     "data": {
      "text/html": [
       "<pre>| 78      | 1m 55s       | 0.610263          | 0.672158              | 0.072272    |</pre>"
      ],
      "text/plain": [
       "| 78      | 1m 55s       | 0.610263          | 0.672158              | 0.072272    |"
      ]
     },
     "metadata": {},
     "output_type": "display_data"
    },
    {
     "data": {
      "text/html": [
       "<pre>| 79      | 1m 56s       | 0.605114          | 0.668422              | 0.072272    |</pre>"
      ],
      "text/plain": [
       "| 79      | 1m 56s       | 0.605114          | 0.668422              | 0.072272    |"
      ]
     },
     "metadata": {},
     "output_type": "display_data"
    },
    {
     "data": {
      "text/html": [
       "<pre>| 80      | 1m 58s       | 0.602262          | 0.6664                | 0.072272    |</pre>"
      ],
      "text/plain": [
       "| 80      | 1m 58s       | 0.602262          | 0.6664                | 0.072272    |"
      ]
     },
     "metadata": {},
     "output_type": "display_data"
    },
    {
     "data": {
      "text/html": [
       "<pre>| 81      | 1m 59s       | 0.599766          | 0.664648              | 0.072272    |</pre>"
      ],
      "text/plain": [
       "| 81      | 1m 59s       | 0.599766          | 0.664648              | 0.072272    |"
      ]
     },
     "metadata": {},
     "output_type": "display_data"
    },
    {
     "data": {
      "text/html": [
       "<pre>| 82      | 2m 0s        | 0.597224          | 0.662874              | 0.072272    |</pre>"
      ],
      "text/plain": [
       "| 82      | 2m 0s        | 0.597224          | 0.662874              | 0.072272    |"
      ]
     },
     "metadata": {},
     "output_type": "display_data"
    },
    {
     "data": {
      "text/html": [
       "<pre>| 83      | 2m 1s        | 0.59491           | 0.661234              | 0.072272    |</pre>"
      ],
      "text/plain": [
       "| 83      | 2m 1s        | 0.59491           | 0.661234              | 0.072272    |"
      ]
     },
     "metadata": {},
     "output_type": "display_data"
    },
    {
     "data": {
      "text/html": [
       "<pre>| 84      | 2m 3s        | 0.593292          | 0.660185              | 0.072272    |</pre>"
      ],
      "text/plain": [
       "| 84      | 2m 3s        | 0.593292          | 0.660185              | 0.072272    |"
      ]
     },
     "metadata": {},
     "output_type": "display_data"
    },
    {
     "data": {
      "text/html": [
       "<pre>| 85      | 2m 4s        | 0.590047          | 0.657898              | 0.072272    |</pre>"
      ],
      "text/plain": [
       "| 85      | 2m 4s        | 0.590047          | 0.657898              | 0.072272    |"
      ]
     },
     "metadata": {},
     "output_type": "display_data"
    },
    {
     "data": {
      "text/html": [
       "<pre>| 86      | 2m 5s        | 0.587146          | 0.655855              | 0.072272    |</pre>"
      ],
      "text/plain": [
       "| 86      | 2m 5s        | 0.587146          | 0.655855              | 0.072272    |"
      ]
     },
     "metadata": {},
     "output_type": "display_data"
    },
    {
     "data": {
      "text/html": [
       "<pre>| 87      | 2m 6s        | 0.584657          | 0.654088              | 0.072272    |</pre>"
      ],
      "text/plain": [
       "| 87      | 2m 6s        | 0.584657          | 0.654088              | 0.072272    |"
      ]
     },
     "metadata": {},
     "output_type": "display_data"
    },
    {
     "data": {
      "text/html": [
       "<pre>| 88      | 2m 8s        | 0.581538          | 0.651883              | 0.072272    |</pre>"
      ],
      "text/plain": [
       "| 88      | 2m 8s        | 0.581538          | 0.651883              | 0.072272    |"
      ]
     },
     "metadata": {},
     "output_type": "display_data"
    },
    {
     "data": {
      "text/html": [
       "<pre>| 89      | 2m 9s        | 0.579947          | 0.65079               | 0.072272    |</pre>"
      ],
      "text/plain": [
       "| 89      | 2m 9s        | 0.579947          | 0.65079               | 0.072272    |"
      ]
     },
     "metadata": {},
     "output_type": "display_data"
    },
    {
     "data": {
      "text/html": [
       "<pre>| 90      | 2m 10s       | 0.575783          | 0.647777              | 0.072272    |</pre>"
      ],
      "text/plain": [
       "| 90      | 2m 10s       | 0.575783          | 0.647777              | 0.072272    |"
      ]
     },
     "metadata": {},
     "output_type": "display_data"
    },
    {
     "data": {
      "text/html": [
       "<pre>| 91      | 2m 12s       | 0.573137          | 0.645914              | 0.072272    |</pre>"
      ],
      "text/plain": [
       "| 91      | 2m 12s       | 0.573137          | 0.645914              | 0.072272    |"
      ]
     },
     "metadata": {},
     "output_type": "display_data"
    },
    {
     "data": {
      "text/html": [
       "<pre>| 92      | 2m 14s       | 0.570121          | 0.643755              | 0.072272    |</pre>"
      ],
      "text/plain": [
       "| 92      | 2m 14s       | 0.570121          | 0.643755              | 0.072272    |"
      ]
     },
     "metadata": {},
     "output_type": "display_data"
    },
    {
     "data": {
      "text/html": [
       "<pre>| 93      | 2m 16s       | 0.566198          | 0.640878              | 0.072272    |</pre>"
      ],
      "text/plain": [
       "| 93      | 2m 16s       | 0.566198          | 0.640878              | 0.072272    |"
      ]
     },
     "metadata": {},
     "output_type": "display_data"
    },
    {
     "data": {
      "text/html": [
       "<pre>| 94      | 2m 18s       | 0.562525          | 0.638165              | 0.072272    |</pre>"
      ],
      "text/plain": [
       "| 94      | 2m 18s       | 0.562525          | 0.638165              | 0.072272    |"
      ]
     },
     "metadata": {},
     "output_type": "display_data"
    },
    {
     "data": {
      "text/html": [
       "<pre>| 95      | 2m 20s       | 0.558027          | 0.634792              | 0.072272    |</pre>"
      ],
      "text/plain": [
       "| 95      | 2m 20s       | 0.558027          | 0.634792              | 0.072272    |"
      ]
     },
     "metadata": {},
     "output_type": "display_data"
    },
    {
     "data": {
      "text/html": [
       "<pre>| 96      | 2m 21s       | 0.553559          | 0.631367              | 0.072272    |</pre>"
      ],
      "text/plain": [
       "| 96      | 2m 21s       | 0.553559          | 0.631367              | 0.072272    |"
      ]
     },
     "metadata": {},
     "output_type": "display_data"
    },
    {
     "data": {
      "text/html": [
       "<pre>| 97      | 2m 22s       | 0.549622          | 0.628311              | 0.072272    |</pre>"
      ],
      "text/plain": [
       "| 97      | 2m 22s       | 0.549622          | 0.628311              | 0.072272    |"
      ]
     },
     "metadata": {},
     "output_type": "display_data"
    },
    {
     "data": {
      "text/html": [
       "<pre>| 98      | 2m 23s       | 0.562377          | 0.638254              | 0.072272    |</pre>"
      ],
      "text/plain": [
       "| 98      | 2m 23s       | 0.562377          | 0.638254              | 0.072272    |"
      ]
     },
     "metadata": {},
     "output_type": "display_data"
    },
    {
     "data": {
      "text/html": [
       "<pre>| 99      | 2m 25s       | 0.736753          | 0.762581              | 0.072272    |</pre>"
      ],
      "text/plain": [
       "| 99      | 2m 25s       | 0.736753          | 0.762581              | 0.072272    |"
      ]
     },
     "metadata": {},
     "output_type": "display_data"
    },
    {
     "data": {
      "text/html": [
       "<pre>| 100     | 2m 27s       | 0.680588          | 0.7249                | 0.072272    |</pre>"
      ],
      "text/plain": [
       "| 100     | 2m 27s       | 0.680588          | 0.7249                | 0.072272    |"
      ]
     },
     "metadata": {},
     "output_type": "display_data"
    },
    {
     "data": {
      "text/html": [
       "<pre>+---------+--------------+-------------------+-----------------------+-------------+</pre>"
      ],
      "text/plain": [
       "+---------+--------------+-------------------+-----------------------+-------------+"
      ]
     },
     "metadata": {},
     "output_type": "display_data"
    },
    {
     "data": {
      "text/html": [
       "<pre>Optimization Complete: Maximum number of passes through the data reached.</pre>"
      ],
      "text/plain": [
       "Optimization Complete: Maximum number of passes through the data reached."
      ]
     },
     "metadata": {},
     "output_type": "display_data"
    },
    {
     "data": {
      "text/html": [
       "<pre>Computing final objective value and training RMSE.</pre>"
      ],
      "text/plain": [
       "Computing final objective value and training RMSE."
      ]
     },
     "metadata": {},
     "output_type": "display_data"
    },
    {
     "data": {
      "text/html": [
       "<pre>       Final objective value: 0.641289</pre>"
      ],
      "text/plain": [
       "       Final objective value: 0.641289"
      ]
     },
     "metadata": {},
     "output_type": "display_data"
    },
    {
     "data": {
      "text/html": [
       "<pre>       Final training RMSE: 0.697267</pre>"
      ],
      "text/plain": [
       "       Final training RMSE: 0.697267"
      ]
     },
     "metadata": {},
     "output_type": "display_data"
    }
   ],
   "source": [
    "m = gl.ranking_factorization_recommender.create(data_sframe, user_id='user_id', \\\n",
    "                                                item_id='media_id', target='target', \\\n",
    "                                                binary_target=False, linear_regularization=0.00001, \\\n",
    "                                                regularization=0.00001, num_factors=50, ranking_regularization=0,\\\n",
    "                                                num_sampled_negative_examples=4, max_iterations=100)"
   ]
  },
  {
   "cell_type": "code",
   "execution_count": 192,
   "metadata": {
    "scrolled": false
   },
   "outputs": [
    {
     "data": {
      "text/html": [
       "<pre>Finished parsing file /Users/tushar/Desktop/Data Science Game/data/test.csv</pre>"
      ],
      "text/plain": [
       "Finished parsing file /Users/tushar/Desktop/Data Science Game/data/test.csv"
      ]
     },
     "metadata": {},
     "output_type": "display_data"
    },
    {
     "data": {
      "text/html": [
       "<pre>Parsing completed. Parsed 100 lines in 0.098038 secs.</pre>"
      ],
      "text/plain": [
       "Parsing completed. Parsed 100 lines in 0.098038 secs."
      ]
     },
     "metadata": {},
     "output_type": "display_data"
    },
    {
     "name": "stdout",
     "output_type": "stream",
     "text": [
      "------------------------------------------------------\n",
      "Inferred types from first 100 line(s) of file as \n",
      "column_type_hints=[int,int,int,int,int,int,int,int,int,int,int,int,int,int,int]\n",
      "If parsing fails due to incorrect types, you can correct\n",
      "the inferred type list above and pass it to read_csv in\n",
      "the column_type_hints argument\n",
      "------------------------------------------------------\n"
     ]
    },
    {
     "data": {
      "text/html": [
       "<pre>Finished parsing file /Users/tushar/Desktop/Data Science Game/data/test.csv</pre>"
      ],
      "text/plain": [
       "Finished parsing file /Users/tushar/Desktop/Data Science Game/data/test.csv"
      ]
     },
     "metadata": {},
     "output_type": "display_data"
    },
    {
     "data": {
      "text/html": [
       "<pre>Parsing completed. Parsed 19918 lines in 0.157069 secs.</pre>"
      ],
      "text/plain": [
       "Parsing completed. Parsed 19918 lines in 0.157069 secs."
      ]
     },
     "metadata": {},
     "output_type": "display_data"
    }
   ],
   "source": [
    "test_data_sframe = gl.SFrame.read_csv('data/test.csv')"
   ]
  },
  {
   "cell_type": "code",
   "execution_count": 193,
   "metadata": {
    "collapsed": true
   },
   "outputs": [],
   "source": [
    "pred = m.predict(test_data_sframe)"
   ]
  },
  {
   "cell_type": "code",
   "execution_count": 194,
   "metadata": {
    "collapsed": true
   },
   "outputs": [],
   "source": [
    "submission_file_name = \"deezer_predict_\" + time.strftime(\"%Y%m%d_%H%M%S\") + \".csv\"\n",
    "test_data['is_listened'] = pred\n",
    "\n",
    "to_push = [\"sample_id\", \"is_listened\"]\n",
    "test_data[to_push].to_csv(submission_file_name, index=False)"
   ]
  },
  {
   "cell_type": "markdown",
   "metadata": {},
   "source": [
    "## Results on validation"
   ]
  },
  {
   "cell_type": "code",
   "execution_count": null,
   "metadata": {
    "collapsed": true
   },
   "outputs": [],
   "source": [
    "# 0.576197031625 for 10^-8\n",
    "# 0.713714426378 for 10^-8 and modifying the input matrix\n",
    "# 0.663766337849 for 10^-6 and modifying the input matrix\n",
    "# 0.714364968875 for 10^-7 and modifying the input matrix\n",
    "# 0.701378049512 for 10^-7 and modifying the input matrix and 10 latent factors\n",
    "# 0.704926824027 for 10^-7 and modifying the input matrix and 60 latent factors: RMSE is less.\n",
    "# 0.707957981743 for 10^-7 and modifying the input matrix and 60 latent factors: RMSE is less.\n",
    "# 0.663387281063 for 10^-7 and modifying the input matrix and 25 latent factors.\n",
    "# 0.651746652396 for 10^-7 and modifying the input matrix and neg_sampls = 6\n",
    "# 0.714348039988 for 10^-7 and reg = 10-8 modifying the input matrix.\n",
    "# 0.750114088083 for 10^-6 and reg = 10-8 modifying the input matrix.\n",
    "# 0.778038465954 for 10^-5 and reg = 10-8 modifying the input matrix.\n",
    "# 0.792415769025 for 10^-5 and reg = 10-5 modifying the input matrix.\n",
    "# 0.79231144059 for 10^-5 and reg = 10^-5 modifying the input matrix, latent factors=50.\n",
    "# 0.791978838071 for 10^-5 and reg = 10^-5 modifying the input matrix, latent factors=40.\n",
    "# 0.792187575802 for 10^-5 and reg = 10^-5 modifying the input matrix, latent factors=80.\n",
    "# 0.792163807012 for 10^-5 and reg = 10^-5 modifying the input matrix, latent factors=100.\n",
    "# 0.792215850001 for 10^-5 and reg = 10^-5 modifying the input matrix, latent factors=20.\n",
    "# 0.79227342532 for 10^-5 and reg = 10^-5 modifying the input matrix, latent factors=15.\n",
    "# 0.824881834992 for 10^-5 and reg = 10^-5 modifying the input matrix, latent factors=15, ranking_regularization=0.\n",
    "# 0.818495085215 for 10^-5 and reg = 10^-5 modifying the input matrix, latent factors=15, ranking_regularization=0.1.\n",
    "# 0.750087546363 for 10^-5 and reg = 10^-5 modifying the input matrix, latent factors=15, ranking_regularization=0.5.\n",
    "# 0.825061387873 for 10^-5 and reg = 10^-5 modifying the input matrix, ranking_regularization=0.\n",
    "# 0.815397112278 for 10^-5 and reg = 10^-4 modifying the input matrix, ranking_regularization=0.\n",
    "# 0.824878198452 for 10^-5 and reg = 10^-5 modifying the input matrix, ranking_regularization=0 and num_sampled_ne_exm=6.\n",
    "# 0.825013429366 for 10^-5 and reg = 10^-5 modifying the input matrix, ranking_regularization=0 and num_sampled_ne_exm=9.\n",
    "# 0.824995166848 for 10^-5 and reg = 10^-5 modifying the input matrix, ranking_regularization=0 and num_sampled_ne_exm=15.\n",
    "# 0.824992010313 for 10^-5 and reg = 10^-5 modifying the input matrix, ranking_regularization=0 and num_sampled_ne_exm=15.\n",
    "# 0.818962581465 for 10^-7 and reg = 10^-9 modifying the input matrix, ranking_regularization=0.\n",
    "# 0.841567184649 for 10^-5 and reg = 10^-5 modifying the input matrix, ranking_regularization=0, listen_type=1.\n",
    "# 0.841681974138 for 10^-5 and reg = 10^-5 modifying the input matrix, ranking_regularization=0, listen_type=1 and num_factors=40.\n",
    "# 0.841715060603 for 10^-5 and reg = 10^-5 modifying the input matrix, ranking_regularization=0, listen_type=1 and num_factors=50.\n",
    "# 0.842069126545 for 10^-5 and reg = 10^-5 modifying the input matrix, ranking_regularization=0, listen_type=1 and num_factors=70.\n",
    "# 0.84232855216 for 10^-5 and reg = 10^-5 modifying the input matrix, ranking_regularization=0, listen_type=1 and num_factors=100.\n",
    "# 0.810082619687 for 10^-5 and reg = 10^-5 modifying the input matrix, ranking_regularization=0, listen_type=1, c_t=1 and num_factors=32.\n",
    "\n",
    "\n",
    "# 0.833945748416 \n",
    "\n",
    "# Best-> 50 lf and 100 iter.\n",
    "\n",
    "#0.842997137215\n",
    "\n"
   ]
  },
  {
   "cell_type": "markdown",
   "metadata": {},
   "source": [
    "# Collaborative Filtering"
   ]
  },
  {
   "cell_type": "code",
   "execution_count": null,
   "metadata": {
    "scrolled": true
   },
   "outputs": [
    {
     "data": {
      "text/html": [
       "<pre>Recsys training: model = item_similarity</pre>"
      ],
      "text/plain": [
       "Recsys training: model = item_similarity"
      ]
     },
     "metadata": {},
     "output_type": "display_data"
    },
    {
     "data": {
      "text/html": [
       "<pre>Preparing data set.</pre>"
      ],
      "text/plain": [
       "Preparing data set."
      ]
     },
     "metadata": {},
     "output_type": "display_data"
    },
    {
     "data": {
      "text/html": [
       "<pre>    Data has 1592963 observations with 15971 users and 151720 items.</pre>"
      ],
      "text/plain": [
       "    Data has 1592963 observations with 15971 users and 151720 items."
      ]
     },
     "metadata": {},
     "output_type": "display_data"
    },
    {
     "data": {
      "text/html": [
       "<pre>    Data prepared in: 1.92329s</pre>"
      ],
      "text/plain": [
       "    Data prepared in: 1.92329s"
      ]
     },
     "metadata": {},
     "output_type": "display_data"
    },
    {
     "data": {
      "text/html": [
       "<pre>Training model from provided data.</pre>"
      ],
      "text/plain": [
       "Training model from provided data."
      ]
     },
     "metadata": {},
     "output_type": "display_data"
    },
    {
     "data": {
      "text/html": [
       "<pre>Gathering per-item and per-user statistics.</pre>"
      ],
      "text/plain": [
       "Gathering per-item and per-user statistics."
      ]
     },
     "metadata": {},
     "output_type": "display_data"
    },
    {
     "data": {
      "text/html": [
       "<pre>+--------------------------------+------------+</pre>"
      ],
      "text/plain": [
       "+--------------------------------+------------+"
      ]
     },
     "metadata": {},
     "output_type": "display_data"
    },
    {
     "data": {
      "text/html": [
       "<pre>| Elapsed Time (Item Statistics) | % Complete |</pre>"
      ],
      "text/plain": [
       "| Elapsed Time (Item Statistics) | % Complete |"
      ]
     },
     "metadata": {},
     "output_type": "display_data"
    },
    {
     "data": {
      "text/html": [
       "<pre>+--------------------------------+------------+</pre>"
      ],
      "text/plain": [
       "+--------------------------------+------------+"
      ]
     },
     "metadata": {},
     "output_type": "display_data"
    },
    {
     "data": {
      "text/html": [
       "<pre>| 11.249ms                       | 6.25       |</pre>"
      ],
      "text/plain": [
       "| 11.249ms                       | 6.25       |"
      ]
     },
     "metadata": {},
     "output_type": "display_data"
    },
    {
     "data": {
      "text/html": [
       "<pre>| 86.348ms                       | 100        |</pre>"
      ],
      "text/plain": [
       "| 86.348ms                       | 100        |"
      ]
     },
     "metadata": {},
     "output_type": "display_data"
    },
    {
     "data": {
      "text/html": [
       "<pre>+--------------------------------+------------+</pre>"
      ],
      "text/plain": [
       "+--------------------------------+------------+"
      ]
     },
     "metadata": {},
     "output_type": "display_data"
    },
    {
     "data": {
      "text/html": [
       "<pre>Setting up lookup tables.</pre>"
      ],
      "text/plain": [
       "Setting up lookup tables."
      ]
     },
     "metadata": {},
     "output_type": "display_data"
    },
    {
     "data": {
      "text/html": [
       "<pre>Processing the 519 most common items by brute force search.</pre>"
      ],
      "text/plain": [
       "Processing the 519 most common items by brute force search."
      ]
     },
     "metadata": {},
     "output_type": "display_data"
    },
    {
     "data": {
      "text/html": [
       "<pre>Transposing user-item lists for use in nearest neighbor search.</pre>"
      ],
      "text/plain": [
       "Transposing user-item lists for use in nearest neighbor search."
      ]
     },
     "metadata": {},
     "output_type": "display_data"
    },
    {
     "data": {
      "text/html": [
       "<pre>+------------------------------------+------------+</pre>"
      ],
      "text/plain": [
       "+------------------------------------+------------+"
      ]
     },
     "metadata": {},
     "output_type": "display_data"
    },
    {
     "data": {
      "text/html": [
       "<pre>| Elapsed Time (Data Transposition)) | % Complete |</pre>"
      ],
      "text/plain": [
       "| Elapsed Time (Data Transposition)) | % Complete |"
      ]
     },
     "metadata": {},
     "output_type": "display_data"
    },
    {
     "data": {
      "text/html": [
       "<pre>+------------------------------------+------------+</pre>"
      ],
      "text/plain": [
       "+------------------------------------+------------+"
      ]
     },
     "metadata": {},
     "output_type": "display_data"
    },
    {
     "data": {
      "text/html": [
       "<pre>| 73.842ms                           | 0          |</pre>"
      ],
      "text/plain": [
       "| 73.842ms                           | 0          |"
      ]
     },
     "metadata": {},
     "output_type": "display_data"
    },
    {
     "data": {
      "text/html": [
       "<pre>| 582.128ms                          | 100        |</pre>"
      ],
      "text/plain": [
       "| 582.128ms                          | 100        |"
      ]
     },
     "metadata": {},
     "output_type": "display_data"
    },
    {
     "data": {
      "text/html": [
       "<pre>+------------------------------------+------------+</pre>"
      ],
      "text/plain": [
       "+------------------------------------+------------+"
      ]
     },
     "metadata": {},
     "output_type": "display_data"
    },
    {
     "data": {
      "text/html": [
       "<pre>+-------------------------------------+------------------+-----------------+</pre>"
      ],
      "text/plain": [
       "+-------------------------------------+------------------+-----------------+"
      ]
     },
     "metadata": {},
     "output_type": "display_data"
    },
    {
     "data": {
      "text/html": [
       "<pre>| Elapsed Time (Constructing Lookups) | Total % Complete | Items Processed |</pre>"
      ],
      "text/plain": [
       "| Elapsed Time (Constructing Lookups) | Total % Complete | Items Processed |"
      ]
     },
     "metadata": {},
     "output_type": "display_data"
    },
    {
     "data": {
      "text/html": [
       "<pre>+-------------------------------------+------------------+-----------------+</pre>"
      ],
      "text/plain": [
       "+-------------------------------------+------------------+-----------------+"
      ]
     },
     "metadata": {},
     "output_type": "display_data"
    },
    {
     "data": {
      "text/html": [
       "<pre>| 1.19s                               | 0                | 0               |</pre>"
      ],
      "text/plain": [
       "| 1.19s                               | 0                | 0               |"
      ]
     },
     "metadata": {},
     "output_type": "display_data"
    },
    {
     "data": {
      "text/html": [
       "<pre>| 2.19s                               | 0                | 104             |</pre>"
      ],
      "text/plain": [
       "| 2.19s                               | 0                | 104             |"
      ]
     },
     "metadata": {},
     "output_type": "display_data"
    },
    {
     "data": {
      "text/html": [
       "<pre>| 3.19s                               | 0                | 239             |</pre>"
      ],
      "text/plain": [
       "| 3.19s                               | 0                | 239             |"
      ]
     },
     "metadata": {},
     "output_type": "display_data"
    },
    {
     "data": {
      "text/html": [
       "<pre>| 4.19s                               | 0                | 374             |</pre>"
      ],
      "text/plain": [
       "| 4.19s                               | 0                | 374             |"
      ]
     },
     "metadata": {},
     "output_type": "display_data"
    },
    {
     "data": {
      "text/html": [
       "<pre>| 5.20s                               | 0.25             | 419             |</pre>"
      ],
      "text/plain": [
       "| 5.20s                               | 0.25             | 419             |"
      ]
     },
     "metadata": {},
     "output_type": "display_data"
    },
    {
     "data": {
      "text/html": [
       "<pre>| 6.19s                               | 0.25             | 458             |</pre>"
      ],
      "text/plain": [
       "| 6.19s                               | 0.25             | 458             |"
      ]
     },
     "metadata": {},
     "output_type": "display_data"
    },
    {
     "data": {
      "text/html": [
       "<pre>+-------------------------------------+------------------+-----------------+</pre>"
      ],
      "text/plain": [
       "+-------------------------------------+------------------+-----------------+"
      ]
     },
     "metadata": {},
     "output_type": "display_data"
    },
    {
     "data": {
      "text/html": [
       "<pre>Processing data in one pass using sparse lookup tables.</pre>"
      ],
      "text/plain": [
       "Processing data in one pass using sparse lookup tables."
      ]
     },
     "metadata": {},
     "output_type": "display_data"
    },
    {
     "data": {
      "text/html": [
       "<pre>+-------------------------------------+------------------+-----------------+</pre>"
      ],
      "text/plain": [
       "+-------------------------------------+------------------+-----------------+"
      ]
     },
     "metadata": {},
     "output_type": "display_data"
    },
    {
     "data": {
      "text/html": [
       "<pre>| Elapsed Time (Constructing Lookups) | Total % Complete | Items Processed |</pre>"
      ],
      "text/plain": [
       "| Elapsed Time (Constructing Lookups) | Total % Complete | Items Processed |"
      ]
     },
     "metadata": {},
     "output_type": "display_data"
    },
    {
     "data": {
      "text/html": [
       "<pre>+-------------------------------------+------------------+-----------------+</pre>"
      ],
      "text/plain": [
       "+-------------------------------------+------------------+-----------------+"
      ]
     },
     "metadata": {},
     "output_type": "display_data"
    },
    {
     "data": {
      "text/html": [
       "<pre>| 7.82s                               | 0.25             | 730             |</pre>"
      ],
      "text/plain": [
       "| 7.82s                               | 0.25             | 730             |"
      ]
     },
     "metadata": {},
     "output_type": "display_data"
    },
    {
     "data": {
      "text/html": [
       "<pre>| 8.19s                               | 2.5              | 4144            |</pre>"
      ],
      "text/plain": [
       "| 8.19s                               | 2.5              | 4144            |"
      ]
     },
     "metadata": {},
     "output_type": "display_data"
    },
    {
     "data": {
      "text/html": [
       "<pre>| 9.19s                               | 7                | 10666           |</pre>"
      ],
      "text/plain": [
       "| 9.19s                               | 7                | 10666           |"
      ]
     },
     "metadata": {},
     "output_type": "display_data"
    },
    {
     "data": {
      "text/html": [
       "<pre>| 10.24s                              | 12               | 18513           |</pre>"
      ],
      "text/plain": [
       "| 10.24s                              | 12               | 18513           |"
      ]
     },
     "metadata": {},
     "output_type": "display_data"
    },
    {
     "data": {
      "text/html": [
       "<pre>| 11.44s                              | 13.25            | 20476           |</pre>"
      ],
      "text/plain": [
       "| 11.44s                              | 13.25            | 20476           |"
      ]
     },
     "metadata": {},
     "output_type": "display_data"
    },
    {
     "data": {
      "text/html": [
       "<pre>| 12.20s                              | 14               | 21567           |</pre>"
      ],
      "text/plain": [
       "| 12.20s                              | 14               | 21567           |"
      ]
     },
     "metadata": {},
     "output_type": "display_data"
    },
    {
     "data": {
      "text/html": [
       "<pre>| 13.19s                              | 19.25            | 29580           |</pre>"
      ],
      "text/plain": [
       "| 13.19s                              | 19.25            | 29580           |"
      ]
     },
     "metadata": {},
     "output_type": "display_data"
    },
    {
     "data": {
      "text/html": [
       "<pre>| 14.21s                              | 26.5             | 40581           |</pre>"
      ],
      "text/plain": [
       "| 14.21s                              | 26.5             | 40581           |"
      ]
     },
     "metadata": {},
     "output_type": "display_data"
    },
    {
     "data": {
      "text/html": [
       "<pre>| 15.19s                              | 28.25            | 42918           |</pre>"
      ],
      "text/plain": [
       "| 15.19s                              | 28.25            | 42918           |"
      ]
     },
     "metadata": {},
     "output_type": "display_data"
    },
    {
     "data": {
      "text/html": [
       "<pre>| 16.21s                              | 29.25            | 44395           |</pre>"
      ],
      "text/plain": [
       "| 16.21s                              | 29.25            | 44395           |"
      ]
     },
     "metadata": {},
     "output_type": "display_data"
    },
    {
     "data": {
      "text/html": [
       "<pre>| 17.20s                              | 30               | 45678           |</pre>"
      ],
      "text/plain": [
       "| 17.20s                              | 30               | 45678           |"
      ]
     },
     "metadata": {},
     "output_type": "display_data"
    },
    {
     "data": {
      "text/html": [
       "<pre>| 18.23s                              | 30.5             | 46549           |</pre>"
      ],
      "text/plain": [
       "| 18.23s                              | 30.5             | 46549           |"
      ]
     },
     "metadata": {},
     "output_type": "display_data"
    },
    {
     "data": {
      "text/html": [
       "<pre>| 19.20s                              | 31.5             | 47906           |</pre>"
      ],
      "text/plain": [
       "| 19.20s                              | 31.5             | 47906           |"
      ]
     },
     "metadata": {},
     "output_type": "display_data"
    },
    {
     "data": {
      "text/html": [
       "<pre>| 20.20s                              | 32.75            | 49692           |</pre>"
      ],
      "text/plain": [
       "| 20.20s                              | 32.75            | 49692           |"
      ]
     },
     "metadata": {},
     "output_type": "display_data"
    },
    {
     "data": {
      "text/html": [
       "<pre>| 21.20s                              | 36.5             | 55452           |</pre>"
      ],
      "text/plain": [
       "| 21.20s                              | 36.5             | 55452           |"
      ]
     },
     "metadata": {},
     "output_type": "display_data"
    },
    {
     "data": {
      "text/html": [
       "<pre>| 22.26s                              | 37.75            | 57497           |</pre>"
      ],
      "text/plain": [
       "| 22.26s                              | 37.75            | 57497           |"
      ]
     },
     "metadata": {},
     "output_type": "display_data"
    },
    {
     "data": {
      "text/html": [
       "<pre>| 23.21s                              | 39.25            | 59727           |</pre>"
      ],
      "text/plain": [
       "| 23.21s                              | 39.25            | 59727           |"
      ]
     },
     "metadata": {},
     "output_type": "display_data"
    },
    {
     "data": {
      "text/html": [
       "<pre>| 24.20s                              | 41               | 62300           |</pre>"
      ],
      "text/plain": [
       "| 24.20s                              | 41               | 62300           |"
      ]
     },
     "metadata": {},
     "output_type": "display_data"
    },
    {
     "data": {
      "text/html": [
       "<pre>| 25.20s                              | 43               | 65422           |</pre>"
      ],
      "text/plain": [
       "| 25.20s                              | 43               | 65422           |"
      ]
     },
     "metadata": {},
     "output_type": "display_data"
    },
    {
     "data": {
      "text/html": [
       "<pre>| 26.20s                              | 45               | 68343           |</pre>"
      ],
      "text/plain": [
       "| 26.20s                              | 45               | 68343           |"
      ]
     },
     "metadata": {},
     "output_type": "display_data"
    },
    {
     "data": {
      "text/html": [
       "<pre>| 27.23s                              | 48.5             | 73710           |</pre>"
      ],
      "text/plain": [
       "| 27.23s                              | 48.5             | 73710           |"
      ]
     },
     "metadata": {},
     "output_type": "display_data"
    },
    {
     "data": {
      "text/html": [
       "<pre>| 28.20s                              | 56               | 85281           |</pre>"
      ],
      "text/plain": [
       "| 28.20s                              | 56               | 85281           |"
      ]
     },
     "metadata": {},
     "output_type": "display_data"
    },
    {
     "data": {
      "text/html": [
       "<pre>| 29.20s                              | 62.75            | 95472           |</pre>"
      ],
      "text/plain": [
       "| 29.20s                              | 62.75            | 95472           |"
      ]
     },
     "metadata": {},
     "output_type": "display_data"
    },
    {
     "data": {
      "text/html": [
       "<pre>| 30.20s                              | 66.5             | 100925          |</pre>"
      ],
      "text/plain": [
       "| 30.20s                              | 66.5             | 100925          |"
      ]
     },
     "metadata": {},
     "output_type": "display_data"
    },
    {
     "data": {
      "text/html": [
       "<pre>| 31.20s                              | 68               | 103473          |</pre>"
      ],
      "text/plain": [
       "| 31.20s                              | 68               | 103473          |"
      ]
     },
     "metadata": {},
     "output_type": "display_data"
    },
    {
     "data": {
      "text/html": [
       "<pre>| 32.25s                              | 69.5             | 105768          |</pre>"
      ],
      "text/plain": [
       "| 32.25s                              | 69.5             | 105768          |"
      ]
     },
     "metadata": {},
     "output_type": "display_data"
    },
    {
     "data": {
      "text/html": [
       "<pre>| 33.22s                              | 70.25            | 106741          |</pre>"
      ],
      "text/plain": [
       "| 33.22s                              | 70.25            | 106741          |"
      ]
     },
     "metadata": {},
     "output_type": "display_data"
    },
    {
     "data": {
      "text/html": [
       "<pre>| 34.23s                              | 70.75            | 107660          |</pre>"
      ],
      "text/plain": [
       "| 34.23s                              | 70.75            | 107660          |"
      ]
     },
     "metadata": {},
     "output_type": "display_data"
    },
    {
     "data": {
      "text/html": [
       "<pre>| 35.22s                              | 71.5             | 108646          |</pre>"
      ],
      "text/plain": [
       "| 35.22s                              | 71.5             | 108646          |"
      ]
     },
     "metadata": {},
     "output_type": "display_data"
    },
    {
     "data": {
      "text/html": [
       "<pre>| 36.21s                              | 72               | 109527          |</pre>"
      ],
      "text/plain": [
       "| 36.21s                              | 72               | 109527          |"
      ]
     },
     "metadata": {},
     "output_type": "display_data"
    },
    {
     "data": {
      "text/html": [
       "<pre>| 37.23s                              | 72.75            | 110436          |</pre>"
      ],
      "text/plain": [
       "| 37.23s                              | 72.75            | 110436          |"
      ]
     },
     "metadata": {},
     "output_type": "display_data"
    },
    {
     "data": {
      "text/html": [
       "<pre>| 38.29s                              | 73.25            | 111460          |</pre>"
      ],
      "text/plain": [
       "| 38.29s                              | 73.25            | 111460          |"
      ]
     },
     "metadata": {},
     "output_type": "display_data"
    },
    {
     "data": {
      "text/html": [
       "<pre>| 39.21s                              | 73.5             | 111875          |</pre>"
      ],
      "text/plain": [
       "| 39.21s                              | 73.5             | 111875          |"
      ]
     },
     "metadata": {},
     "output_type": "display_data"
    },
    {
     "data": {
      "text/html": [
       "<pre>| 40.21s                              | 74               | 112293          |</pre>"
      ],
      "text/plain": [
       "| 40.21s                              | 74               | 112293          |"
      ]
     },
     "metadata": {},
     "output_type": "display_data"
    },
    {
     "data": {
      "text/html": [
       "<pre>| 41.26s                              | 74.25            | 112861          |</pre>"
      ],
      "text/plain": [
       "| 41.26s                              | 74.25            | 112861          |"
      ]
     },
     "metadata": {},
     "output_type": "display_data"
    },
    {
     "data": {
      "text/html": [
       "<pre>| 42.24s                              | 74.5             | 113078          |</pre>"
      ],
      "text/plain": [
       "| 42.24s                              | 74.5             | 113078          |"
      ]
     },
     "metadata": {},
     "output_type": "display_data"
    },
    {
     "data": {
      "text/html": [
       "<pre>| 43.41s                              | 74.75            | 113621          |</pre>"
      ],
      "text/plain": [
       "| 43.41s                              | 74.75            | 113621          |"
      ]
     },
     "metadata": {},
     "output_type": "display_data"
    },
    {
     "data": {
      "text/html": [
       "<pre>| 44.26s                              | 75               | 114129          |</pre>"
      ],
      "text/plain": [
       "| 44.26s                              | 75               | 114129          |"
      ]
     },
     "metadata": {},
     "output_type": "display_data"
    },
    {
     "data": {
      "text/html": [
       "<pre>| 45.21s                              | 75.25            | 114466          |</pre>"
      ],
      "text/plain": [
       "| 45.21s                              | 75.25            | 114466          |"
      ]
     },
     "metadata": {},
     "output_type": "display_data"
    },
    {
     "data": {
      "text/html": [
       "<pre>| 46.23s                              | 75.75            | 115063          |</pre>"
      ],
      "text/plain": [
       "| 46.23s                              | 75.75            | 115063          |"
      ]
     },
     "metadata": {},
     "output_type": "display_data"
    },
    {
     "data": {
      "text/html": [
       "<pre>| 47.25s                              | 75.75            | 115303          |</pre>"
      ],
      "text/plain": [
       "| 47.25s                              | 75.75            | 115303          |"
      ]
     },
     "metadata": {},
     "output_type": "display_data"
    },
    {
     "data": {
      "text/html": [
       "<pre>| 48.22s                              | 76               | 115654          |</pre>"
      ],
      "text/plain": [
       "| 48.22s                              | 76               | 115654          |"
      ]
     },
     "metadata": {},
     "output_type": "display_data"
    },
    {
     "data": {
      "text/html": [
       "<pre>| 49.21s                              | 76.25            | 115901          |</pre>"
      ],
      "text/plain": [
       "| 49.21s                              | 76.25            | 115901          |"
      ]
     },
     "metadata": {},
     "output_type": "display_data"
    },
    {
     "data": {
      "text/html": [
       "<pre>| 50.30s                              | 76.5             | 116165          |</pre>"
      ],
      "text/plain": [
       "| 50.30s                              | 76.5             | 116165          |"
      ]
     },
     "metadata": {},
     "output_type": "display_data"
    },
    {
     "data": {
      "text/html": [
       "<pre>| 51.23s                              | 76.5             | 116404          |</pre>"
      ],
      "text/plain": [
       "| 51.23s                              | 76.5             | 116404          |"
      ]
     },
     "metadata": {},
     "output_type": "display_data"
    },
    {
     "data": {
      "text/html": [
       "<pre>| 52.48s                              | 76.75            | 116581          |</pre>"
      ],
      "text/plain": [
       "| 52.48s                              | 76.75            | 116581          |"
      ]
     },
     "metadata": {},
     "output_type": "display_data"
    },
    {
     "data": {
      "text/html": [
       "<pre>| 53.29s                              | 77               | 116847          |</pre>"
      ],
      "text/plain": [
       "| 53.29s                              | 77               | 116847          |"
      ]
     },
     "metadata": {},
     "output_type": "display_data"
    },
    {
     "data": {
      "text/html": [
       "<pre>| 54.66s                              | 77               | 117179          |</pre>"
      ],
      "text/plain": [
       "| 54.66s                              | 77               | 117179          |"
      ]
     },
     "metadata": {},
     "output_type": "display_data"
    },
    {
     "data": {
      "text/html": [
       "<pre>| 55.37s                              | 77.25            | 117289          |</pre>"
      ],
      "text/plain": [
       "| 55.37s                              | 77.25            | 117289          |"
      ]
     },
     "metadata": {},
     "output_type": "display_data"
    },
    {
     "data": {
      "text/html": [
       "<pre>| 56.25s                              | 77.25            | 117371          |</pre>"
      ],
      "text/plain": [
       "| 56.25s                              | 77.25            | 117371          |"
      ]
     },
     "metadata": {},
     "output_type": "display_data"
    },
    {
     "data": {
      "text/html": [
       "<pre>| 57.31s                              | 77.25            | 117550          |</pre>"
      ],
      "text/plain": [
       "| 57.31s                              | 77.25            | 117550          |"
      ]
     },
     "metadata": {},
     "output_type": "display_data"
    },
    {
     "data": {
      "text/html": [
       "<pre>| 58.28s                              | 77.5             | 117727          |</pre>"
      ],
      "text/plain": [
       "| 58.28s                              | 77.5             | 117727          |"
      ]
     },
     "metadata": {},
     "output_type": "display_data"
    },
    {
     "data": {
      "text/html": [
       "<pre>| 59.20s                              | 77.5             | 117946          |</pre>"
      ],
      "text/plain": [
       "| 59.20s                              | 77.5             | 117946          |"
      ]
     },
     "metadata": {},
     "output_type": "display_data"
    },
    {
     "data": {
      "text/html": [
       "<pre>| 1m 0s                               | 77.75            | 118285          |</pre>"
      ],
      "text/plain": [
       "| 1m 0s                               | 77.75            | 118285          |"
      ]
     },
     "metadata": {},
     "output_type": "display_data"
    },
    {
     "data": {
      "text/html": [
       "<pre>| 1m 1s                               | 78               | 118440          |</pre>"
      ],
      "text/plain": [
       "| 1m 1s                               | 78               | 118440          |"
      ]
     },
     "metadata": {},
     "output_type": "display_data"
    },
    {
     "data": {
      "text/html": [
       "<pre>| 1m 2s                               | 78               | 118606          |</pre>"
      ],
      "text/plain": [
       "| 1m 2s                               | 78               | 118606          |"
      ]
     },
     "metadata": {},
     "output_type": "display_data"
    },
    {
     "data": {
      "text/html": [
       "<pre>| 1m 3s                               | 78.25            | 119015          |</pre>"
      ],
      "text/plain": [
       "| 1m 3s                               | 78.25            | 119015          |"
      ]
     },
     "metadata": {},
     "output_type": "display_data"
    },
    {
     "data": {
      "text/html": [
       "<pre>| 1m 4s                               | 78.5             | 119312          |</pre>"
      ],
      "text/plain": [
       "| 1m 4s                               | 78.5             | 119312          |"
      ]
     },
     "metadata": {},
     "output_type": "display_data"
    },
    {
     "data": {
      "text/html": [
       "<pre>| 1m 5s                               | 78.75            | 119498          |</pre>"
      ],
      "text/plain": [
       "| 1m 5s                               | 78.75            | 119498          |"
      ]
     },
     "metadata": {},
     "output_type": "display_data"
    },
    {
     "data": {
      "text/html": [
       "<pre>| 1m 6s                               | 79               | 119880          |</pre>"
      ],
      "text/plain": [
       "| 1m 6s                               | 79               | 119880          |"
      ]
     },
     "metadata": {},
     "output_type": "display_data"
    },
    {
     "data": {
      "text/html": [
       "<pre>| 1m 7s                               | 79               | 119978          |</pre>"
      ],
      "text/plain": [
       "| 1m 7s                               | 79               | 119978          |"
      ]
     },
     "metadata": {},
     "output_type": "display_data"
    },
    {
     "data": {
      "text/html": [
       "<pre>| 1m 8s                               | 79               | 120164          |</pre>"
      ],
      "text/plain": [
       "| 1m 8s                               | 79               | 120164          |"
      ]
     },
     "metadata": {},
     "output_type": "display_data"
    },
    {
     "data": {
      "text/html": [
       "<pre>| 1m 9s                               | 79.25            | 120341          |</pre>"
      ],
      "text/plain": [
       "| 1m 9s                               | 79.25            | 120341          |"
      ]
     },
     "metadata": {},
     "output_type": "display_data"
    },
    {
     "data": {
      "text/html": [
       "<pre>| 1m 10s                              | 79.5             | 120673          |</pre>"
      ],
      "text/plain": [
       "| 1m 10s                              | 79.5             | 120673          |"
      ]
     },
     "metadata": {},
     "output_type": "display_data"
    },
    {
     "data": {
      "text/html": [
       "<pre>| 1m 11s                              | 79.5             | 120743          |</pre>"
      ],
      "text/plain": [
       "| 1m 11s                              | 79.5             | 120743          |"
      ]
     },
     "metadata": {},
     "output_type": "display_data"
    },
    {
     "data": {
      "text/html": [
       "<pre>| 1m 12s                              | 79.75            | 121014          |</pre>"
      ],
      "text/plain": [
       "| 1m 12s                              | 79.75            | 121014          |"
      ]
     },
     "metadata": {},
     "output_type": "display_data"
    },
    {
     "data": {
      "text/html": [
       "<pre>| 1m 13s                              | 79.75            | 121199          |</pre>"
      ],
      "text/plain": [
       "| 1m 13s                              | 79.75            | 121199          |"
      ]
     },
     "metadata": {},
     "output_type": "display_data"
    },
    {
     "data": {
      "text/html": [
       "<pre>| 1m 14s                              | 80               | 121470          |</pre>"
      ],
      "text/plain": [
       "| 1m 14s                              | 80               | 121470          |"
      ]
     },
     "metadata": {},
     "output_type": "display_data"
    },
    {
     "data": {
      "text/html": [
       "<pre>| 1m 15s                              | 80               | 121657          |</pre>"
      ],
      "text/plain": [
       "| 1m 15s                              | 80               | 121657          |"
      ]
     },
     "metadata": {},
     "output_type": "display_data"
    },
    {
     "data": {
      "text/html": [
       "<pre>| 1m 16s                              | 80.25            | 121783          |</pre>"
      ],
      "text/plain": [
       "| 1m 16s                              | 80.25            | 121783          |"
      ]
     },
     "metadata": {},
     "output_type": "display_data"
    },
    {
     "data": {
      "text/html": [
       "<pre>| 1m 17s                              | 80.25            | 121848          |</pre>"
      ],
      "text/plain": [
       "| 1m 17s                              | 80.25            | 121848          |"
      ]
     },
     "metadata": {},
     "output_type": "display_data"
    },
    {
     "data": {
      "text/html": [
       "<pre>| 1m 18s                              | 80.5             | 122143          |</pre>"
      ],
      "text/plain": [
       "| 1m 18s                              | 80.5             | 122143          |"
      ]
     },
     "metadata": {},
     "output_type": "display_data"
    },
    {
     "data": {
      "text/html": [
       "<pre>| 1m 19s                              | 80.5             | 122352          |</pre>"
      ],
      "text/plain": [
       "| 1m 19s                              | 80.5             | 122352          |"
      ]
     },
     "metadata": {},
     "output_type": "display_data"
    },
    {
     "data": {
      "text/html": [
       "<pre>| 1m 20s                              | 80.75            | 122552          |</pre>"
      ],
      "text/plain": [
       "| 1m 20s                              | 80.75            | 122552          |"
      ]
     },
     "metadata": {},
     "output_type": "display_data"
    },
    {
     "data": {
      "text/html": [
       "<pre>| 1m 21s                              | 80.75            | 122712          |</pre>"
      ],
      "text/plain": [
       "| 1m 21s                              | 80.75            | 122712          |"
      ]
     },
     "metadata": {},
     "output_type": "display_data"
    },
    {
     "data": {
      "text/html": [
       "<pre>| 1m 22s                              | 81               | 123211          |</pre>"
      ],
      "text/plain": [
       "| 1m 22s                              | 81               | 123211          |"
      ]
     },
     "metadata": {},
     "output_type": "display_data"
    },
    {
     "data": {
      "text/html": [
       "<pre>| 1m 23s                              | 81.25            | 123436          |</pre>"
      ],
      "text/plain": [
       "| 1m 23s                              | 81.25            | 123436          |"
      ]
     },
     "metadata": {},
     "output_type": "display_data"
    },
    {
     "data": {
      "text/html": [
       "<pre>| 1m 24s                              | 81.25            | 123543          |</pre>"
      ],
      "text/plain": [
       "| 1m 24s                              | 81.25            | 123543          |"
      ]
     },
     "metadata": {},
     "output_type": "display_data"
    },
    {
     "data": {
      "text/html": [
       "<pre>| 1m 25s                              | 81.5             | 123777          |</pre>"
      ],
      "text/plain": [
       "| 1m 25s                              | 81.5             | 123777          |"
      ]
     },
     "metadata": {},
     "output_type": "display_data"
    },
    {
     "data": {
      "text/html": [
       "<pre>| 1m 26s                              | 81.5             | 123929          |</pre>"
      ],
      "text/plain": [
       "| 1m 26s                              | 81.5             | 123929          |"
      ]
     },
     "metadata": {},
     "output_type": "display_data"
    },
    {
     "data": {
      "text/html": [
       "<pre>| 1m 27s                              | 81.5             | 123995          |</pre>"
      ],
      "text/plain": [
       "| 1m 27s                              | 81.5             | 123995          |"
      ]
     },
     "metadata": {},
     "output_type": "display_data"
    },
    {
     "data": {
      "text/html": [
       "<pre>| 1m 28s                              | 81.75            | 124158          |</pre>"
      ],
      "text/plain": [
       "| 1m 28s                              | 81.75            | 124158          |"
      ]
     },
     "metadata": {},
     "output_type": "display_data"
    },
    {
     "data": {
      "text/html": [
       "<pre>| 1m 29s                              | 81.75            | 124228          |</pre>"
      ],
      "text/plain": [
       "| 1m 29s                              | 81.75            | 124228          |"
      ]
     },
     "metadata": {},
     "output_type": "display_data"
    },
    {
     "data": {
      "text/html": [
       "<pre>| 1m 30s                              | 81.75            | 124397          |</pre>"
      ],
      "text/plain": [
       "| 1m 30s                              | 81.75            | 124397          |"
      ]
     },
     "metadata": {},
     "output_type": "display_data"
    },
    {
     "data": {
      "text/html": [
       "<pre>| 1m 31s                              | 82               | 124686          |</pre>"
      ],
      "text/plain": [
       "| 1m 31s                              | 82               | 124686          |"
      ]
     },
     "metadata": {},
     "output_type": "display_data"
    },
    {
     "data": {
      "text/html": [
       "<pre>| 1m 32s                              | 82               | 124749          |</pre>"
      ],
      "text/plain": [
       "| 1m 32s                              | 82               | 124749          |"
      ]
     },
     "metadata": {},
     "output_type": "display_data"
    },
    {
     "data": {
      "text/html": [
       "<pre>| 1m 33s                              | 82.25            | 125061          |</pre>"
      ],
      "text/plain": [
       "| 1m 33s                              | 82.25            | 125061          |"
      ]
     },
     "metadata": {},
     "output_type": "display_data"
    },
    {
     "data": {
      "text/html": [
       "<pre>| 1m 34s                              | 82.25            | 125139          |</pre>"
      ],
      "text/plain": [
       "| 1m 34s                              | 82.25            | 125139          |"
      ]
     },
     "metadata": {},
     "output_type": "display_data"
    },
    {
     "data": {
      "text/html": [
       "<pre>| 1m 35s                              | 82.5             | 125239          |</pre>"
      ],
      "text/plain": [
       "| 1m 35s                              | 82.5             | 125239          |"
      ]
     },
     "metadata": {},
     "output_type": "display_data"
    },
    {
     "data": {
      "text/html": [
       "<pre>| 1m 36s                              | 82.75            | 125625          |</pre>"
      ],
      "text/plain": [
       "| 1m 36s                              | 82.75            | 125625          |"
      ]
     },
     "metadata": {},
     "output_type": "display_data"
    },
    {
     "data": {
      "text/html": [
       "<pre>| 1m 37s                              | 82.75            | 125892          |</pre>"
      ],
      "text/plain": [
       "| 1m 37s                              | 82.75            | 125892          |"
      ]
     },
     "metadata": {},
     "output_type": "display_data"
    },
    {
     "data": {
      "text/html": [
       "<pre>| 1m 38s                              | 83               | 126034          |</pre>"
      ],
      "text/plain": [
       "| 1m 38s                              | 83               | 126034          |"
      ]
     },
     "metadata": {},
     "output_type": "display_data"
    },
    {
     "data": {
      "text/html": [
       "<pre>| 1m 39s                              | 83.25            | 126417          |</pre>"
      ],
      "text/plain": [
       "| 1m 39s                              | 83.25            | 126417          |"
      ]
     },
     "metadata": {},
     "output_type": "display_data"
    },
    {
     "data": {
      "text/html": [
       "<pre>| 1m 40s                              | 83.25            | 126672          |</pre>"
      ],
      "text/plain": [
       "| 1m 40s                              | 83.25            | 126672          |"
      ]
     },
     "metadata": {},
     "output_type": "display_data"
    },
    {
     "data": {
      "text/html": [
       "<pre>| 1m 41s                              | 83.5             | 126823          |</pre>"
      ],
      "text/plain": [
       "| 1m 41s                              | 83.5             | 126823          |"
      ]
     },
     "metadata": {},
     "output_type": "display_data"
    },
    {
     "data": {
      "text/html": [
       "<pre>| 1m 42s                              | 83.5             | 126961          |</pre>"
      ],
      "text/plain": [
       "| 1m 42s                              | 83.5             | 126961          |"
      ]
     },
     "metadata": {},
     "output_type": "display_data"
    },
    {
     "data": {
      "text/html": [
       "<pre>| 1m 43s                              | 83.75            | 127209          |</pre>"
      ],
      "text/plain": [
       "| 1m 43s                              | 83.75            | 127209          |"
      ]
     },
     "metadata": {},
     "output_type": "display_data"
    },
    {
     "data": {
      "text/html": [
       "<pre>| 1m 44s                              | 83.75            | 127401          |</pre>"
      ],
      "text/plain": [
       "| 1m 44s                              | 83.75            | 127401          |"
      ]
     },
     "metadata": {},
     "output_type": "display_data"
    },
    {
     "data": {
      "text/html": [
       "<pre>| 1m 45s                              | 84               | 127494          |</pre>"
      ],
      "text/plain": [
       "| 1m 45s                              | 84               | 127494          |"
      ]
     },
     "metadata": {},
     "output_type": "display_data"
    },
    {
     "data": {
      "text/html": [
       "<pre>| 1m 46s                              | 84.25            | 128090          |</pre>"
      ],
      "text/plain": [
       "| 1m 46s                              | 84.25            | 128090          |"
      ]
     },
     "metadata": {},
     "output_type": "display_data"
    },
    {
     "data": {
      "text/html": [
       "<pre>| 1m 47s                              | 84.25            | 128147          |</pre>"
      ],
      "text/plain": [
       "| 1m 47s                              | 84.25            | 128147          |"
      ]
     },
     "metadata": {},
     "output_type": "display_data"
    },
    {
     "data": {
      "text/html": [
       "<pre>| 1m 48s                              | 84.5             | 128303          |</pre>"
      ],
      "text/plain": [
       "| 1m 48s                              | 84.5             | 128303          |"
      ]
     },
     "metadata": {},
     "output_type": "display_data"
    },
    {
     "data": {
      "text/html": [
       "<pre>| 1m 49s                              | 84.5             | 128361          |</pre>"
      ],
      "text/plain": [
       "| 1m 49s                              | 84.5             | 128361          |"
      ]
     },
     "metadata": {},
     "output_type": "display_data"
    },
    {
     "data": {
      "text/html": [
       "<pre>| 1m 50s                              | 84.75            | 128664          |</pre>"
      ],
      "text/plain": [
       "| 1m 50s                              | 84.75            | 128664          |"
      ]
     },
     "metadata": {},
     "output_type": "display_data"
    },
    {
     "data": {
      "text/html": [
       "<pre>| 1m 51s                              | 84.75            | 128747          |</pre>"
      ],
      "text/plain": [
       "| 1m 51s                              | 84.75            | 128747          |"
      ]
     },
     "metadata": {},
     "output_type": "display_data"
    },
    {
     "data": {
      "text/html": [
       "<pre>| 1m 52s                              | 85               | 129092          |</pre>"
      ],
      "text/plain": [
       "| 1m 52s                              | 85               | 129092          |"
      ]
     },
     "metadata": {},
     "output_type": "display_data"
    },
    {
     "data": {
      "text/html": [
       "<pre>| 1m 53s                              | 85               | 129340          |</pre>"
      ],
      "text/plain": [
       "| 1m 53s                              | 85               | 129340          |"
      ]
     },
     "metadata": {},
     "output_type": "display_data"
    },
    {
     "data": {
      "text/html": [
       "<pre>| 1m 54s                              | 85.25            | 129509          |</pre>"
      ],
      "text/plain": [
       "| 1m 54s                              | 85.25            | 129509          |"
      ]
     },
     "metadata": {},
     "output_type": "display_data"
    },
    {
     "data": {
      "text/html": [
       "<pre>| 1m 55s                              | 85.25            | 129613          |</pre>"
      ],
      "text/plain": [
       "| 1m 55s                              | 85.25            | 129613          |"
      ]
     },
     "metadata": {},
     "output_type": "display_data"
    },
    {
     "data": {
      "text/html": [
       "<pre>| 1m 56s                              | 85.25            | 129657          |</pre>"
      ],
      "text/plain": [
       "| 1m 56s                              | 85.25            | 129657          |"
      ]
     },
     "metadata": {},
     "output_type": "display_data"
    },
    {
     "data": {
      "text/html": [
       "<pre>| 1m 57s                              | 85.5             | 129827          |</pre>"
      ],
      "text/plain": [
       "| 1m 57s                              | 85.5             | 129827          |"
      ]
     },
     "metadata": {},
     "output_type": "display_data"
    },
    {
     "data": {
      "text/html": [
       "<pre>| 1m 58s                              | 85.5             | 130052          |</pre>"
      ],
      "text/plain": [
       "| 1m 58s                              | 85.5             | 130052          |"
      ]
     },
     "metadata": {},
     "output_type": "display_data"
    },
    {
     "data": {
      "text/html": [
       "<pre>| 1m 59s                              | 85.75            | 130260          |</pre>"
      ],
      "text/plain": [
       "| 1m 59s                              | 85.75            | 130260          |"
      ]
     },
     "metadata": {},
     "output_type": "display_data"
    },
    {
     "data": {
      "text/html": [
       "<pre>| 2m 0s                               | 85.75            | 130356          |</pre>"
      ],
      "text/plain": [
       "| 2m 0s                               | 85.75            | 130356          |"
      ]
     },
     "metadata": {},
     "output_type": "display_data"
    },
    {
     "data": {
      "text/html": [
       "<pre>| 2m 1s                               | 85.75            | 130422          |</pre>"
      ],
      "text/plain": [
       "| 2m 1s                               | 85.75            | 130422          |"
      ]
     },
     "metadata": {},
     "output_type": "display_data"
    },
    {
     "data": {
      "text/html": [
       "<pre>| 2m 2s                               | 86               | 130583          |</pre>"
      ],
      "text/plain": [
       "| 2m 2s                               | 86               | 130583          |"
      ]
     },
     "metadata": {},
     "output_type": "display_data"
    },
    {
     "data": {
      "text/html": [
       "<pre>| 2m 3s                               | 86               | 130680          |</pre>"
      ],
      "text/plain": [
       "| 2m 3s                               | 86               | 130680          |"
      ]
     },
     "metadata": {},
     "output_type": "display_data"
    },
    {
     "data": {
      "text/html": [
       "<pre>| 2m 4s                               | 86               | 130853          |</pre>"
      ],
      "text/plain": [
       "| 2m 4s                               | 86               | 130853          |"
      ]
     },
     "metadata": {},
     "output_type": "display_data"
    },
    {
     "data": {
      "text/html": [
       "<pre>| 2m 5s                               | 86.25            | 131092          |</pre>"
      ],
      "text/plain": [
       "| 2m 5s                               | 86.25            | 131092          |"
      ]
     },
     "metadata": {},
     "output_type": "display_data"
    },
    {
     "data": {
      "text/html": [
       "<pre>| 2m 6s                               | 86.25            | 131189          |</pre>"
      ],
      "text/plain": [
       "| 2m 6s                               | 86.25            | 131189          |"
      ]
     },
     "metadata": {},
     "output_type": "display_data"
    },
    {
     "data": {
      "text/html": [
       "<pre>| 2m 7s                               | 86.5             | 131373          |</pre>"
      ],
      "text/plain": [
       "| 2m 7s                               | 86.5             | 131373          |"
      ]
     },
     "metadata": {},
     "output_type": "display_data"
    },
    {
     "data": {
      "text/html": [
       "<pre>| 2m 8s                               | 86.5             | 131504          |</pre>"
      ],
      "text/plain": [
       "| 2m 8s                               | 86.5             | 131504          |"
      ]
     },
     "metadata": {},
     "output_type": "display_data"
    },
    {
     "data": {
      "text/html": [
       "<pre>| 2m 9s                               | 86.75            | 131900          |</pre>"
      ],
      "text/plain": [
       "| 2m 9s                               | 86.75            | 131900          |"
      ]
     },
     "metadata": {},
     "output_type": "display_data"
    },
    {
     "data": {
      "text/html": [
       "<pre>| 2m 10s                              | 87               | 132070          |</pre>"
      ],
      "text/plain": [
       "| 2m 10s                              | 87               | 132070          |"
      ]
     },
     "metadata": {},
     "output_type": "display_data"
    },
    {
     "data": {
      "text/html": [
       "<pre>| 2m 11s                              | 87               | 132275          |</pre>"
      ],
      "text/plain": [
       "| 2m 11s                              | 87               | 132275          |"
      ]
     },
     "metadata": {},
     "output_type": "display_data"
    },
    {
     "data": {
      "text/html": [
       "<pre>| 2m 12s                              | 87.25            | 132502          |</pre>"
      ],
      "text/plain": [
       "| 2m 12s                              | 87.25            | 132502          |"
      ]
     },
     "metadata": {},
     "output_type": "display_data"
    },
    {
     "data": {
      "text/html": [
       "<pre>| 2m 13s                              | 87.5             | 132862          |</pre>"
      ],
      "text/plain": [
       "| 2m 13s                              | 87.5             | 132862          |"
      ]
     },
     "metadata": {},
     "output_type": "display_data"
    },
    {
     "data": {
      "text/html": [
       "<pre>| 2m 14s                              | 87.75            | 133285          |</pre>"
      ],
      "text/plain": [
       "| 2m 14s                              | 87.75            | 133285          |"
      ]
     },
     "metadata": {},
     "output_type": "display_data"
    },
    {
     "data": {
      "text/html": [
       "<pre>| 2m 15s                              | 87.75            | 133338          |</pre>"
      ],
      "text/plain": [
       "| 2m 15s                              | 87.75            | 133338          |"
      ]
     },
     "metadata": {},
     "output_type": "display_data"
    },
    {
     "data": {
      "text/html": [
       "<pre>| 2m 16s                              | 87.75            | 133444          |</pre>"
      ],
      "text/plain": [
       "| 2m 16s                              | 87.75            | 133444          |"
      ]
     },
     "metadata": {},
     "output_type": "display_data"
    },
    {
     "data": {
      "text/html": [
       "<pre>| 2m 17s                              | 88.25            | 133963          |</pre>"
      ],
      "text/plain": [
       "| 2m 17s                              | 88.25            | 133963          |"
      ]
     },
     "metadata": {},
     "output_type": "display_data"
    },
    {
     "data": {
      "text/html": [
       "<pre>| 2m 18s                              | 88.25            | 134238          |</pre>"
      ],
      "text/plain": [
       "| 2m 18s                              | 88.25            | 134238          |"
      ]
     },
     "metadata": {},
     "output_type": "display_data"
    },
    {
     "data": {
      "text/html": [
       "<pre>| 2m 19s                              | 88.5             | 134327          |</pre>"
      ],
      "text/plain": [
       "| 2m 19s                              | 88.5             | 134327          |"
      ]
     },
     "metadata": {},
     "output_type": "display_data"
    },
    {
     "data": {
      "text/html": [
       "<pre>| 2m 20s                              | 88.5             | 134487          |</pre>"
      ],
      "text/plain": [
       "| 2m 20s                              | 88.5             | 134487          |"
      ]
     },
     "metadata": {},
     "output_type": "display_data"
    },
    {
     "data": {
      "text/html": [
       "<pre>| 2m 21s                              | 88.5             | 134622          |</pre>"
      ],
      "text/plain": [
       "| 2m 21s                              | 88.5             | 134622          |"
      ]
     },
     "metadata": {},
     "output_type": "display_data"
    },
    {
     "data": {
      "text/html": [
       "<pre>| 2m 22s                              | 88.75            | 134980          |</pre>"
      ],
      "text/plain": [
       "| 2m 22s                              | 88.75            | 134980          |"
      ]
     },
     "metadata": {},
     "output_type": "display_data"
    },
    {
     "data": {
      "text/html": [
       "<pre>| 2m 23s                              | 89               | 135052          |</pre>"
      ],
      "text/plain": [
       "| 2m 23s                              | 89               | 135052          |"
      ]
     },
     "metadata": {},
     "output_type": "display_data"
    },
    {
     "data": {
      "text/html": [
       "<pre>| 2m 24s                              | 89               | 135213          |</pre>"
      ],
      "text/plain": [
       "| 2m 24s                              | 89               | 135213          |"
      ]
     },
     "metadata": {},
     "output_type": "display_data"
    },
    {
     "data": {
      "text/html": [
       "<pre>| 2m 25s                              | 89               | 135230          |</pre>"
      ],
      "text/plain": [
       "| 2m 25s                              | 89               | 135230          |"
      ]
     },
     "metadata": {},
     "output_type": "display_data"
    },
    {
     "data": {
      "text/html": [
       "<pre>| 2m 26s                              | 89               | 135399          |</pre>"
      ],
      "text/plain": [
       "| 2m 26s                              | 89               | 135399          |"
      ]
     },
     "metadata": {},
     "output_type": "display_data"
    },
    {
     "data": {
      "text/html": [
       "<pre>| 2m 27s                              | 89.25            | 135596          |</pre>"
      ],
      "text/plain": [
       "| 2m 27s                              | 89.25            | 135596          |"
      ]
     },
     "metadata": {},
     "output_type": "display_data"
    },
    {
     "data": {
      "text/html": [
       "<pre>| 2m 28s                              | 89.5             | 135960          |</pre>"
      ],
      "text/plain": [
       "| 2m 28s                              | 89.5             | 135960          |"
      ]
     },
     "metadata": {},
     "output_type": "display_data"
    },
    {
     "data": {
      "text/html": [
       "<pre>| 2m 29s                              | 89.5             | 136027          |</pre>"
      ],
      "text/plain": [
       "| 2m 29s                              | 89.5             | 136027          |"
      ]
     },
     "metadata": {},
     "output_type": "display_data"
    },
    {
     "data": {
      "text/html": [
       "<pre>| 2m 30s                              | 89.5             | 136166          |</pre>"
      ],
      "text/plain": [
       "| 2m 30s                              | 89.5             | 136166          |"
      ]
     },
     "metadata": {},
     "output_type": "display_data"
    },
    {
     "data": {
      "text/html": [
       "<pre>| 2m 31s                              | 89.75            | 136185          |</pre>"
      ],
      "text/plain": [
       "| 2m 31s                              | 89.75            | 136185          |"
      ]
     },
     "metadata": {},
     "output_type": "display_data"
    },
    {
     "data": {
      "text/html": [
       "<pre>| 2m 32s                              | 89.75            | 136522          |</pre>"
      ],
      "text/plain": [
       "| 2m 32s                              | 89.75            | 136522          |"
      ]
     },
     "metadata": {},
     "output_type": "display_data"
    },
    {
     "data": {
      "text/html": [
       "<pre>| 2m 33s                              | 90               | 136624          |</pre>"
      ],
      "text/plain": [
       "| 2m 33s                              | 90               | 136624          |"
      ]
     },
     "metadata": {},
     "output_type": "display_data"
    },
    {
     "data": {
      "text/html": [
       "<pre>| 2m 34s                              | 90               | 136864          |</pre>"
      ],
      "text/plain": [
       "| 2m 34s                              | 90               | 136864          |"
      ]
     },
     "metadata": {},
     "output_type": "display_data"
    },
    {
     "data": {
      "text/html": [
       "<pre>| 2m 35s                              | 90.25            | 137014          |</pre>"
      ],
      "text/plain": [
       "| 2m 35s                              | 90.25            | 137014          |"
      ]
     },
     "metadata": {},
     "output_type": "display_data"
    },
    {
     "data": {
      "text/html": [
       "<pre>| 2m 36s                              | 90.25            | 137142          |</pre>"
      ],
      "text/plain": [
       "| 2m 36s                              | 90.25            | 137142          |"
      ]
     },
     "metadata": {},
     "output_type": "display_data"
    },
    {
     "data": {
      "text/html": [
       "<pre>| 2m 37s                              | 90.5             | 137391          |</pre>"
      ],
      "text/plain": [
       "| 2m 37s                              | 90.5             | 137391          |"
      ]
     },
     "metadata": {},
     "output_type": "display_data"
    },
    {
     "data": {
      "text/html": [
       "<pre>| 2m 38s                              | 90.5             | 137509          |</pre>"
      ],
      "text/plain": [
       "| 2m 38s                              | 90.5             | 137509          |"
      ]
     },
     "metadata": {},
     "output_type": "display_data"
    },
    {
     "data": {
      "text/html": [
       "<pre>| 2m 39s                              | 90.75            | 137844          |</pre>"
      ],
      "text/plain": [
       "| 2m 39s                              | 90.75            | 137844          |"
      ]
     },
     "metadata": {},
     "output_type": "display_data"
    },
    {
     "data": {
      "text/html": [
       "<pre>| 2m 40s                              | 90.75            | 137908          |</pre>"
      ],
      "text/plain": [
       "| 2m 40s                              | 90.75            | 137908          |"
      ]
     },
     "metadata": {},
     "output_type": "display_data"
    },
    {
     "data": {
      "text/html": [
       "<pre>| 2m 41s                              | 91               | 138095          |</pre>"
      ],
      "text/plain": [
       "| 2m 41s                              | 91               | 138095          |"
      ]
     },
     "metadata": {},
     "output_type": "display_data"
    },
    {
     "data": {
      "text/html": [
       "<pre>| 2m 42s                              | 91               | 138421          |</pre>"
      ],
      "text/plain": [
       "| 2m 42s                              | 91               | 138421          |"
      ]
     },
     "metadata": {},
     "output_type": "display_data"
    },
    {
     "data": {
      "text/html": [
       "<pre>| 2m 43s                              | 91.25            | 138559          |</pre>"
      ],
      "text/plain": [
       "| 2m 43s                              | 91.25            | 138559          |"
      ]
     },
     "metadata": {},
     "output_type": "display_data"
    },
    {
     "data": {
      "text/html": [
       "<pre>| 2m 44s                              | 91.25            | 138636          |</pre>"
      ],
      "text/plain": [
       "| 2m 44s                              | 91.25            | 138636          |"
      ]
     },
     "metadata": {},
     "output_type": "display_data"
    },
    {
     "data": {
      "text/html": [
       "<pre>| 2m 45s                              | 91.5             | 138831          |</pre>"
      ],
      "text/plain": [
       "| 2m 45s                              | 91.5             | 138831          |"
      ]
     },
     "metadata": {},
     "output_type": "display_data"
    },
    {
     "data": {
      "text/html": [
       "<pre>| 2m 46s                              | 91.5             | 138997          |</pre>"
      ],
      "text/plain": [
       "| 2m 46s                              | 91.5             | 138997          |"
      ]
     },
     "metadata": {},
     "output_type": "display_data"
    }
   ],
   "source": [
    "m = gl.item_similarity_recommender.create(data_sframe, user_id='user_id', item_id='media_id', target='target')"
   ]
  },
  {
   "cell_type": "code",
   "execution_count": null,
   "metadata": {
    "collapsed": true
   },
   "outputs": [],
   "source": []
  },
  {
   "cell_type": "code",
   "execution_count": null,
   "metadata": {
    "collapsed": true
   },
   "outputs": [],
   "source": []
  },
  {
   "cell_type": "code",
   "execution_count": 21,
   "metadata": {},
   "outputs": [
    {
     "data": {
      "text/plain": [
       "(7558834, 15)"
      ]
     },
     "execution_count": 21,
     "metadata": {},
     "output_type": "execute_result"
    }
   ],
   "source": [
    "data.shape"
   ]
  },
  {
   "cell_type": "code",
   "execution_count": 120,
   "metadata": {},
   "outputs": [
    {
     "data": {
      "text/plain": [
       "[<matplotlib.lines.Line2D at 0x127286850>]"
      ]
     },
     "execution_count": 120,
     "metadata": {},
     "output_type": "execute_result"
    },
    {
     "data": {
      "image/png": "[encoded data removed]",
      "text/plain": [
       "<matplotlib.figure.Figure at 0x124934a90>"
      ]
     },
     "metadata": {},
     "output_type": "display_data"
    }
   ],
   "source": [
    "plt.plot(pred.sort())"
   ]
  },
  {
   "cell_type": "markdown",
   "metadata": {},
   "source": [
    "# Ideas to explore"
   ]
  },
  {
   "cell_type": "markdown",
   "metadata": {},
   "source": [
    "1. How to deal with multiple is_listen for user-song pair (currently mean) ? - Take latest.\n",
    "2. Take into account other user/song data? - Try inbuilt parameters in this func.\n",
    "3. How to leverage the temporal data given esp. for multiple user song pairs.\n",
    "    - Maybe just take the latest time and target. But good only if test data after train.\n",
    "4. Context Type\n",
    "5. If user-song exist use song model, else artist ...."
   ]
  },
  {
   "cell_type": "markdown",
   "metadata": {},
   "source": [
    "## Artist-User Model"
   ]
  },
  {
   "cell_type": "code",
   "execution_count": 103,
   "metadata": {
    "collapsed": true
   },
   "outputs": [],
   "source": [
    "group_artist_data = pd.DataFrame({'target': data.groupby(['user_id', 'artist_id'])['is_listened'].mean()}).reset_index()"
   ]
  },
  {
   "cell_type": "code",
   "execution_count": 104,
   "metadata": {
    "collapsed": true
   },
   "outputs": [],
   "source": [
    "data_artist_sframe = gl.SFrame(group_artist_data)"
   ]
  },
  {
   "cell_type": "code",
   "execution_count": 78,
   "metadata": {
    "collapsed": true
   },
   "outputs": [],
   "source": [
    "train_data, valid_data = gl.recommender.util.random_split_by_user(data_artist_sframe, item_id='artist_id', max_num_users=10000)"
   ]
  },
  {
   "cell_type": "code",
   "execution_count": 90,
   "metadata": {
    "scrolled": true
   },
   "outputs": [
    {
     "data": {
      "text/html": [
       "<pre>Recsys training: model = ranking_factorization_recommender</pre>"
      ],
      "text/plain": [
       "Recsys training: model = ranking_factorization_recommender"
      ]
     },
     "metadata": {},
     "output_type": "display_data"
    },
    {
     "data": {
      "text/html": [
       "<pre>Preparing data set.</pre>"
      ],
      "text/plain": [
       "Preparing data set."
      ]
     },
     "metadata": {},
     "output_type": "display_data"
    },
    {
     "data": {
      "text/html": [
       "<pre>    Data has 932619 observations with 15782 users and 29060 items.</pre>"
      ],
      "text/plain": [
       "    Data has 932619 observations with 15782 users and 29060 items."
      ]
     },
     "metadata": {},
     "output_type": "display_data"
    },
    {
     "data": {
      "text/html": [
       "<pre>    Data prepared in: 1.25934s</pre>"
      ],
      "text/plain": [
       "    Data prepared in: 1.25934s"
      ]
     },
     "metadata": {},
     "output_type": "display_data"
    },
    {
     "data": {
      "text/html": [
       "<pre>Training ranking_factorization_recommender for recommendations.</pre>"
      ],
      "text/plain": [
       "Training ranking_factorization_recommender for recommendations."
      ]
     },
     "metadata": {},
     "output_type": "display_data"
    },
    {
     "data": {
      "text/html": [
       "<pre>+--------------------------------+--------------------------------------------------+----------+</pre>"
      ],
      "text/plain": [
       "+--------------------------------+--------------------------------------------------+----------+"
      ]
     },
     "metadata": {},
     "output_type": "display_data"
    },
    {
     "data": {
      "text/html": [
       "<pre>| Parameter                      | Description                                      | Value    |</pre>"
      ],
      "text/plain": [
       "| Parameter                      | Description                                      | Value    |"
      ]
     },
     "metadata": {},
     "output_type": "display_data"
    },
    {
     "data": {
      "text/html": [
       "<pre>+--------------------------------+--------------------------------------------------+----------+</pre>"
      ],
      "text/plain": [
       "+--------------------------------+--------------------------------------------------+----------+"
      ]
     },
     "metadata": {},
     "output_type": "display_data"
    },
    {
     "data": {
      "text/html": [
       "<pre>| num_factors                    | Factor Dimension                                 | 32       |</pre>"
      ],
      "text/plain": [
       "| num_factors                    | Factor Dimension                                 | 32       |"
      ]
     },
     "metadata": {},
     "output_type": "display_data"
    },
    {
     "data": {
      "text/html": [
       "<pre>| regularization                 | L2 Regularization on Factors                     | 0.0001   |</pre>"
      ],
      "text/plain": [
       "| regularization                 | L2 Regularization on Factors                     | 0.0001   |"
      ]
     },
     "metadata": {},
     "output_type": "display_data"
    },
    {
     "data": {
      "text/html": [
       "<pre>| solver                         | Solver used for training                         | sgd      |</pre>"
      ],
      "text/plain": [
       "| solver                         | Solver used for training                         | sgd      |"
      ]
     },
     "metadata": {},
     "output_type": "display_data"
    },
    {
     "data": {
      "text/html": [
       "<pre>| linear_regularization          | L2 Regularization on Linear Coefficients         | 1e-05    |</pre>"
      ],
      "text/plain": [
       "| linear_regularization          | L2 Regularization on Linear Coefficients         | 1e-05    |"
      ]
     },
     "metadata": {},
     "output_type": "display_data"
    },
    {
     "data": {
      "text/html": [
       "<pre>| max_iterations                 | Maximum Number of Iterations                     | 25       |</pre>"
      ],
      "text/plain": [
       "| max_iterations                 | Maximum Number of Iterations                     | 25       |"
      ]
     },
     "metadata": {},
     "output_type": "display_data"
    },
    {
     "data": {
      "text/html": [
       "<pre>+--------------------------------+--------------------------------------------------+----------+</pre>"
      ],
      "text/plain": [
       "+--------------------------------+--------------------------------------------------+----------+"
      ]
     },
     "metadata": {},
     "output_type": "display_data"
    },
    {
     "data": {
      "text/html": [
       "<pre>  Optimizing model using SGD; tuning step size.</pre>"
      ],
      "text/plain": [
       "  Optimizing model using SGD; tuning step size."
      ]
     },
     "metadata": {},
     "output_type": "display_data"
    },
    {
     "data": {
      "text/html": [
       "<pre>  Using 116577 / 932619 points for tuning the step size.</pre>"
      ],
      "text/plain": [
       "  Using 116577 / 932619 points for tuning the step size."
      ]
     },
     "metadata": {},
     "output_type": "display_data"
    },
    {
     "data": {
      "text/html": [
       "<pre>+---------+-------------------+------------------------------------------+</pre>"
      ],
      "text/plain": [
       "+---------+-------------------+------------------------------------------+"
      ]
     },
     "metadata": {},
     "output_type": "display_data"
    },
    {
     "data": {
      "text/html": [
       "<pre>| Attempt | Initial Step Size | Estimated Objective Value                |</pre>"
      ],
      "text/plain": [
       "| Attempt | Initial Step Size | Estimated Objective Value                |"
      ]
     },
     "metadata": {},
     "output_type": "display_data"
    },
    {
     "data": {
      "text/html": [
       "<pre>+---------+-------------------+------------------------------------------+</pre>"
      ],
      "text/plain": [
       "+---------+-------------------+------------------------------------------+"
      ]
     },
     "metadata": {},
     "output_type": "display_data"
    },
    {
     "data": {
      "text/html": [
       "<pre>| 0       | 0.790031          | Not Viable                               |</pre>"
      ],
      "text/plain": [
       "| 0       | 0.790031          | Not Viable                               |"
      ]
     },
     "metadata": {},
     "output_type": "display_data"
    },
    {
     "data": {
      "text/html": [
       "<pre>| 1       | 0.197508          | Not Viable                               |</pre>"
      ],
      "text/plain": [
       "| 1       | 0.197508          | Not Viable                               |"
      ]
     },
     "metadata": {},
     "output_type": "display_data"
    },
    {
     "data": {
      "text/html": [
       "<pre>| 2       | 0.049377          | 0.475306                                 |</pre>"
      ],
      "text/plain": [
       "| 2       | 0.049377          | 0.475306                                 |"
      ]
     },
     "metadata": {},
     "output_type": "display_data"
    },
    {
     "data": {
      "text/html": [
       "<pre>| 3       | 0.0246885         | 0.499521                                 |</pre>"
      ],
      "text/plain": [
       "| 3       | 0.0246885         | 0.499521                                 |"
      ]
     },
     "metadata": {},
     "output_type": "display_data"
    },
    {
     "data": {
      "text/html": [
       "<pre>| 4       | 0.0123442         | 0.532687                                 |</pre>"
      ],
      "text/plain": [
       "| 4       | 0.0123442         | 0.532687                                 |"
      ]
     },
     "metadata": {},
     "output_type": "display_data"
    },
    {
     "data": {
      "text/html": [
       "<pre>| 5       | 0.00617212        | 0.578233                                 |</pre>"
      ],
      "text/plain": [
       "| 5       | 0.00617212        | 0.578233                                 |"
      ]
     },
     "metadata": {},
     "output_type": "display_data"
    },
    {
     "data": {
      "text/html": [
       "<pre>+---------+-------------------+------------------------------------------+</pre>"
      ],
      "text/plain": [
       "+---------+-------------------+------------------------------------------+"
      ]
     },
     "metadata": {},
     "output_type": "display_data"
    },
    {
     "data": {
      "text/html": [
       "<pre>| Final   | 0.049377          | 0.475306                                 |</pre>"
      ],
      "text/plain": [
       "| Final   | 0.049377          | 0.475306                                 |"
      ]
     },
     "metadata": {},
     "output_type": "display_data"
    },
    {
     "data": {
      "text/html": [
       "<pre>+---------+-------------------+------------------------------------------+</pre>"
      ],
      "text/plain": [
       "+---------+-------------------+------------------------------------------+"
      ]
     },
     "metadata": {},
     "output_type": "display_data"
    },
    {
     "data": {
      "text/html": [
       "<pre>Starting Optimization.</pre>"
      ],
      "text/plain": [
       "Starting Optimization."
      ]
     },
     "metadata": {},
     "output_type": "display_data"
    },
    {
     "data": {
      "text/html": [
       "<pre>+---------+--------------+-------------------+-----------------------+-------------+</pre>"
      ],
      "text/plain": [
       "+---------+--------------+-------------------+-----------------------+-------------+"
      ]
     },
     "metadata": {},
     "output_type": "display_data"
    },
    {
     "data": {
      "text/html": [
       "<pre>| Iter.   | Elapsed Time | Approx. Objective | Approx. Training RMSE | Step Size   |</pre>"
      ],
      "text/plain": [
       "| Iter.   | Elapsed Time | Approx. Objective | Approx. Training RMSE | Step Size   |"
      ]
     },
     "metadata": {},
     "output_type": "display_data"
    },
    {
     "data": {
      "text/html": [
       "<pre>+---------+--------------+-------------------+-----------------------+-------------+</pre>"
      ],
      "text/plain": [
       "+---------+--------------+-------------------+-----------------------+-------------+"
      ]
     },
     "metadata": {},
     "output_type": "display_data"
    },
    {
     "data": {
      "text/html": [
       "<pre>| Initial | 71us         | 0.854339          | 0.924305              |             |</pre>"
      ],
      "text/plain": [
       "| Initial | 71us         | 0.854339          | 0.924305              |             |"
      ]
     },
     "metadata": {},
     "output_type": "display_data"
    },
    {
     "data": {
      "text/html": [
       "<pre>+---------+--------------+-------------------+-----------------------+-------------+</pre>"
      ],
      "text/plain": [
       "+---------+--------------+-------------------+-----------------------+-------------+"
      ]
     },
     "metadata": {},
     "output_type": "display_data"
    },
    {
     "data": {
      "text/html": [
       "<pre>| 1       | 427.843ms    | DIVERGED          | DIVERGED              | 0.049377    |</pre>"
      ],
      "text/plain": [
       "| 1       | 427.843ms    | DIVERGED          | DIVERGED              | 0.049377    |"
      ]
     },
     "metadata": {},
     "output_type": "display_data"
    },
    {
     "data": {
      "text/html": [
       "<pre>| RESET   | 580.411ms    | 0.854336          | 0.924303              |             |</pre>"
      ],
      "text/plain": [
       "| RESET   | 580.411ms    | 0.854336          | 0.924303              |             |"
      ]
     },
     "metadata": {},
     "output_type": "display_data"
    },
    {
     "data": {
      "text/html": [
       "<pre>| 1       | 1.01s        | DIVERGED          | DIVERGED              | 0.0246885   |</pre>"
      ],
      "text/plain": [
       "| 1       | 1.01s        | DIVERGED          | DIVERGED              | 0.0246885   |"
      ]
     },
     "metadata": {},
     "output_type": "display_data"
    },
    {
     "data": {
      "text/html": [
       "<pre>| RESET   | 1.19s        | 0.854338          | 0.924304              |             |</pre>"
      ],
      "text/plain": [
       "| RESET   | 1.19s        | 0.854338          | 0.924304              |             |"
      ]
     },
     "metadata": {},
     "output_type": "display_data"
    },
    {
     "data": {
      "text/html": [
       "<pre>| 1       | 1.71s        | 0.589159          | 0.755041              | 0.0123442   |</pre>"
      ],
      "text/plain": [
       "| 1       | 1.71s        | 0.589159          | 0.755041              | 0.0123442   |"
      ]
     },
     "metadata": {},
     "output_type": "display_data"
    },
    {
     "data": {
      "text/html": [
       "<pre>| 2       | 2.25s        | 0.52726           | 0.710179              | 0.00573818  |</pre>"
      ],
      "text/plain": [
       "| 2       | 2.25s        | 0.52726           | 0.710179              | 0.00573818  |"
      ]
     },
     "metadata": {},
     "output_type": "display_data"
    },
    {
     "data": {
      "text/html": [
       "<pre>| 3       | 2.85s        | 0.520223          | 0.703887              | 0.00373785  |</pre>"
      ],
      "text/plain": [
       "| 3       | 2.85s        | 0.520223          | 0.703887              | 0.00373785  |"
      ]
     },
     "metadata": {},
     "output_type": "display_data"
    },
    {
     "data": {
      "text/html": [
       "<pre>| 4       | 3.19s        | 0.517446          | 0.701097              | 0.00277166  |</pre>"
      ],
      "text/plain": [
       "| 4       | 3.19s        | 0.517446          | 0.701097              | 0.00277166  |"
      ]
     },
     "metadata": {},
     "output_type": "display_data"
    },
    {
     "data": {
      "text/html": [
       "<pre>| 5       | 3.59s        | 0.515966          | 0.699473              | 0.00220237  |</pre>"
      ],
      "text/plain": [
       "| 5       | 3.59s        | 0.515966          | 0.699473              | 0.00220237  |"
      ]
     },
     "metadata": {},
     "output_type": "display_data"
    },
    {
     "data": {
      "text/html": [
       "<pre>| 6       | 4.09s        | 0.515004          | 0.698356              | 0.00182709  |</pre>"
      ],
      "text/plain": [
       "| 6       | 4.09s        | 0.515004          | 0.698356              | 0.00182709  |"
      ]
     },
     "metadata": {},
     "output_type": "display_data"
    },
    {
     "data": {
      "text/html": [
       "<pre>| 8       | 4.78s        | 0.513904          | 0.696962              | 0.00136269  |</pre>"
      ],
      "text/plain": [
       "| 8       | 4.78s        | 0.513904          | 0.696962              | 0.00136269  |"
      ]
     },
     "metadata": {},
     "output_type": "display_data"
    },
    {
     "data": {
      "text/html": [
       "<pre>| 11      | 5.67s        | 0.512999          | 0.695712              | 0.000986555 |</pre>"
      ],
      "text/plain": [
       "| 11      | 5.67s        | 0.512999          | 0.695712              | 0.000986555 |"
      ]
     },
     "metadata": {},
     "output_type": "display_data"
    },
    {
     "data": {
      "text/html": [
       "<pre>| 13      | 6.26s        | 0.512661          | 0.69518               | 0.000833228 |</pre>"
      ],
      "text/plain": [
       "| 13      | 6.26s        | 0.512661          | 0.69518               | 0.000833228 |"
      ]
     },
     "metadata": {},
     "output_type": "display_data"
    },
    {
     "data": {
      "text/html": [
       "<pre>| 18      | 7.63s        | 0.512154          | 0.6943                | 0.000600074 |</pre>"
      ],
      "text/plain": [
       "| 18      | 7.63s        | 0.512154          | 0.6943                | 0.000600074 |"
      ]
     },
     "metadata": {},
     "output_type": "display_data"
    },
    {
     "data": {
      "text/html": [
       "<pre>| 23      | 9.08s        | 0.511879          | 0.693751              | 0.000468874 |</pre>"
      ],
      "text/plain": [
       "| 23      | 9.08s        | 0.511879          | 0.693751              | 0.000468874 |"
      ]
     },
     "metadata": {},
     "output_type": "display_data"
    },
    {
     "data": {
      "text/html": [
       "<pre>+---------+--------------+-------------------+-----------------------+-------------+</pre>"
      ],
      "text/plain": [
       "+---------+--------------+-------------------+-----------------------+-------------+"
      ]
     },
     "metadata": {},
     "output_type": "display_data"
    },
    {
     "data": {
      "text/html": [
       "<pre>Optimization Complete: Maximum number of passes through the data reached.</pre>"
      ],
      "text/plain": [
       "Optimization Complete: Maximum number of passes through the data reached."
      ]
     },
     "metadata": {},
     "output_type": "display_data"
    },
    {
     "data": {
      "text/html": [
       "<pre>Computing final objective value and training RMSE.</pre>"
      ],
      "text/plain": [
       "Computing final objective value and training RMSE."
      ]
     },
     "metadata": {},
     "output_type": "display_data"
    },
    {
     "data": {
      "text/html": [
       "<pre>       Final objective value: 0.511156</pre>"
      ],
      "text/plain": [
       "       Final objective value: 0.511156"
      ]
     },
     "metadata": {},
     "output_type": "display_data"
    },
    {
     "data": {
      "text/html": [
       "<pre>       Final training RMSE: 0.693115</pre>"
      ],
      "text/plain": [
       "       Final training RMSE: 0.693115"
      ]
     },
     "metadata": {},
     "output_type": "display_data"
    }
   ],
   "source": [
    "m = gl.ranking_factorization_recommender.create(train_data, user_id='user_id', \\\n",
    "                                                item_id='artist_id', target='target', \\\n",
    "                                                binary_target=False, linear_regularization=0.00001, \\\n",
    "                                                regularization=0.0001, num_factors=32, ranking_regularization=0,\\\n",
    "                                                num_sampled_negative_examples=4)"
   ]
  },
  {
   "cell_type": "code",
   "execution_count": null,
   "metadata": {
    "collapsed": true
   },
   "outputs": [],
   "source": []
  },
  {
   "cell_type": "code",
   "execution_count": 91,
   "metadata": {},
   "outputs": [
    {
     "name": "stdout",
     "output_type": "stream",
     "text": [
      "0.857031858731\n"
     ]
    }
   ],
   "source": [
    "val_pred = m.predict(valid_data)\n",
    "\n",
    "valid_df = valid_data.to_dataframe()\n",
    "valid_df.loc[valid_df['target'] >= 0, 'target']  = 1\n",
    "valid_df.loc[valid_df['target'] < 0, 'target'] = 0\n",
    "\n",
    "score = roc_auc_score(list(valid_df['target']), val_pred)\n",
    "print score"
   ]
  },
  {
   "cell_type": "code",
   "execution_count": null,
   "metadata": {
    "collapsed": true
   },
   "outputs": [],
   "source": [
    "# 0.823140279805 10-5\n",
    "# 0.857020745772 reg=10-4\n",
    "# 0.857045216283 latent_Factors=50\n",
    "\n"
   ]
  },
  {
   "cell_type": "code",
   "execution_count": 105,
   "metadata": {
    "scrolled": true
   },
   "outputs": [
    {
     "data": {
      "text/html": [
       "<pre>Recsys training: model = ranking_factorization_recommender</pre>"
      ],
      "text/plain": [
       "Recsys training: model = ranking_factorization_recommender"
      ]
     },
     "metadata": {},
     "output_type": "display_data"
    },
    {
     "data": {
      "text/html": [
       "<pre>Preparing data set.</pre>"
      ],
      "text/plain": [
       "Preparing data set."
      ]
     },
     "metadata": {},
     "output_type": "display_data"
    },
    {
     "data": {
      "text/html": [
       "<pre>    Data has 1065699 observations with 15971 users and 30831 items.</pre>"
      ],
      "text/plain": [
       "    Data has 1065699 observations with 15971 users and 30831 items."
      ]
     },
     "metadata": {},
     "output_type": "display_data"
    },
    {
     "data": {
      "text/html": [
       "<pre>    Data prepared in: 1.6964s</pre>"
      ],
      "text/plain": [
       "    Data prepared in: 1.6964s"
      ]
     },
     "metadata": {},
     "output_type": "display_data"
    },
    {
     "data": {
      "text/html": [
       "<pre>Training ranking_factorization_recommender for recommendations.</pre>"
      ],
      "text/plain": [
       "Training ranking_factorization_recommender for recommendations."
      ]
     },
     "metadata": {},
     "output_type": "display_data"
    },
    {
     "data": {
      "text/html": [
       "<pre>+--------------------------------+--------------------------------------------------+----------+</pre>"
      ],
      "text/plain": [
       "+--------------------------------+--------------------------------------------------+----------+"
      ]
     },
     "metadata": {},
     "output_type": "display_data"
    },
    {
     "data": {
      "text/html": [
       "<pre>| Parameter                      | Description                                      | Value    |</pre>"
      ],
      "text/plain": [
       "| Parameter                      | Description                                      | Value    |"
      ]
     },
     "metadata": {},
     "output_type": "display_data"
    },
    {
     "data": {
      "text/html": [
       "<pre>+--------------------------------+--------------------------------------------------+----------+</pre>"
      ],
      "text/plain": [
       "+--------------------------------+--------------------------------------------------+----------+"
      ]
     },
     "metadata": {},
     "output_type": "display_data"
    },
    {
     "data": {
      "text/html": [
       "<pre>| num_factors                    | Factor Dimension                                 | 32       |</pre>"
      ],
      "text/plain": [
       "| num_factors                    | Factor Dimension                                 | 32       |"
      ]
     },
     "metadata": {},
     "output_type": "display_data"
    },
    {
     "data": {
      "text/html": [
       "<pre>| regularization                 | L2 Regularization on Factors                     | 0.0001   |</pre>"
      ],
      "text/plain": [
       "| regularization                 | L2 Regularization on Factors                     | 0.0001   |"
      ]
     },
     "metadata": {},
     "output_type": "display_data"
    },
    {
     "data": {
      "text/html": [
       "<pre>| solver                         | Solver used for training                         | sgd      |</pre>"
      ],
      "text/plain": [
       "| solver                         | Solver used for training                         | sgd      |"
      ]
     },
     "metadata": {},
     "output_type": "display_data"
    },
    {
     "data": {
      "text/html": [
       "<pre>| linear_regularization          | L2 Regularization on Linear Coefficients         | 1e-05    |</pre>"
      ],
      "text/plain": [
       "| linear_regularization          | L2 Regularization on Linear Coefficients         | 1e-05    |"
      ]
     },
     "metadata": {},
     "output_type": "display_data"
    },
    {
     "data": {
      "text/html": [
       "<pre>| max_iterations                 | Maximum Number of Iterations                     | 25       |</pre>"
      ],
      "text/plain": [
       "| max_iterations                 | Maximum Number of Iterations                     | 25       |"
      ]
     },
     "metadata": {},
     "output_type": "display_data"
    },
    {
     "data": {
      "text/html": [
       "<pre>+--------------------------------+--------------------------------------------------+----------+</pre>"
      ],
      "text/plain": [
       "+--------------------------------+--------------------------------------------------+----------+"
      ]
     },
     "metadata": {},
     "output_type": "display_data"
    },
    {
     "data": {
      "text/html": [
       "<pre>  Optimizing model using SGD; tuning step size.</pre>"
      ],
      "text/plain": [
       "  Optimizing model using SGD; tuning step size."
      ]
     },
     "metadata": {},
     "output_type": "display_data"
    },
    {
     "data": {
      "text/html": [
       "<pre>  Using 133212 / 1065699 points for tuning the step size.</pre>"
      ],
      "text/plain": [
       "  Using 133212 / 1065699 points for tuning the step size."
      ]
     },
     "metadata": {},
     "output_type": "display_data"
    },
    {
     "data": {
      "text/html": [
       "<pre>+---------+-------------------+------------------------------------------+</pre>"
      ],
      "text/plain": [
       "+---------+-------------------+------------------------------------------+"
      ]
     },
     "metadata": {},
     "output_type": "display_data"
    },
    {
     "data": {
      "text/html": [
       "<pre>| Attempt | Initial Step Size | Estimated Objective Value                |</pre>"
      ],
      "text/plain": [
       "| Attempt | Initial Step Size | Estimated Objective Value                |"
      ]
     },
     "metadata": {},
     "output_type": "display_data"
    },
    {
     "data": {
      "text/html": [
       "<pre>+---------+-------------------+------------------------------------------+</pre>"
      ],
      "text/plain": [
       "+---------+-------------------+------------------------------------------+"
      ]
     },
     "metadata": {},
     "output_type": "display_data"
    },
    {
     "data": {
      "text/html": [
       "<pre>| 0       | 0.691379          | Not Viable                               |</pre>"
      ],
      "text/plain": [
       "| 0       | 0.691379          | Not Viable                               |"
      ]
     },
     "metadata": {},
     "output_type": "display_data"
    },
    {
     "data": {
      "text/html": [
       "<pre>| 1       | 0.172845          | Not Viable                               |</pre>"
      ],
      "text/plain": [
       "| 1       | 0.172845          | Not Viable                               |"
      ]
     },
     "metadata": {},
     "output_type": "display_data"
    },
    {
     "data": {
      "text/html": [
       "<pre>| 2       | 0.0432112         | 0.482618                                 |</pre>"
      ],
      "text/plain": [
       "| 2       | 0.0432112         | 0.482618                                 |"
      ]
     },
     "metadata": {},
     "output_type": "display_data"
    },
    {
     "data": {
      "text/html": [
       "<pre>| 3       | 0.0216056         | 0.506106                                 |</pre>"
      ],
      "text/plain": [
       "| 3       | 0.0216056         | 0.506106                                 |"
      ]
     },
     "metadata": {},
     "output_type": "display_data"
    },
    {
     "data": {
      "text/html": [
       "<pre>| 4       | 0.0108028         | 0.538558                                 |</pre>"
      ],
      "text/plain": [
       "| 4       | 0.0108028         | 0.538558                                 |"
      ]
     },
     "metadata": {},
     "output_type": "display_data"
    },
    {
     "data": {
      "text/html": [
       "<pre>| 5       | 0.0054014         | 0.583031                                 |</pre>"
      ],
      "text/plain": [
       "| 5       | 0.0054014         | 0.583031                                 |"
      ]
     },
     "metadata": {},
     "output_type": "display_data"
    },
    {
     "data": {
      "text/html": [
       "<pre>+---------+-------------------+------------------------------------------+</pre>"
      ],
      "text/plain": [
       "+---------+-------------------+------------------------------------------+"
      ]
     },
     "metadata": {},
     "output_type": "display_data"
    },
    {
     "data": {
      "text/html": [
       "<pre>| Final   | 0.0432112         | 0.482618                                 |</pre>"
      ],
      "text/plain": [
       "| Final   | 0.0432112         | 0.482618                                 |"
      ]
     },
     "metadata": {},
     "output_type": "display_data"
    },
    {
     "data": {
      "text/html": [
       "<pre>+---------+-------------------+------------------------------------------+</pre>"
      ],
      "text/plain": [
       "+---------+-------------------+------------------------------------------+"
      ]
     },
     "metadata": {},
     "output_type": "display_data"
    },
    {
     "data": {
      "text/html": [
       "<pre>Starting Optimization.</pre>"
      ],
      "text/plain": [
       "Starting Optimization."
      ]
     },
     "metadata": {},
     "output_type": "display_data"
    },
    {
     "data": {
      "text/html": [
       "<pre>+---------+--------------+-------------------+-----------------------+-------------+</pre>"
      ],
      "text/plain": [
       "+---------+--------------+-------------------+-----------------------+-------------+"
      ]
     },
     "metadata": {},
     "output_type": "display_data"
    },
    {
     "data": {
      "text/html": [
       "<pre>| Iter.   | Elapsed Time | Approx. Objective | Approx. Training RMSE | Step Size   |</pre>"
      ],
      "text/plain": [
       "| Iter.   | Elapsed Time | Approx. Objective | Approx. Training RMSE | Step Size   |"
      ]
     },
     "metadata": {},
     "output_type": "display_data"
    },
    {
     "data": {
      "text/html": [
       "<pre>+---------+--------------+-------------------+-----------------------+-------------+</pre>"
      ],
      "text/plain": [
       "+---------+--------------+-------------------+-----------------------+-------------+"
      ]
     },
     "metadata": {},
     "output_type": "display_data"
    },
    {
     "data": {
      "text/html": [
       "<pre>| Initial | 103us        | 0.854581          | 0.924436              |             |</pre>"
      ],
      "text/plain": [
       "| Initial | 103us        | 0.854581          | 0.924436              |             |"
      ]
     },
     "metadata": {},
     "output_type": "display_data"
    },
    {
     "data": {
      "text/html": [
       "<pre>+---------+--------------+-------------------+-----------------------+-------------+</pre>"
      ],
      "text/plain": [
       "+---------+--------------+-------------------+-----------------------+-------------+"
      ]
     },
     "metadata": {},
     "output_type": "display_data"
    },
    {
     "data": {
      "text/html": [
       "<pre>| 1       | 891.667ms    | DIVERGED          | DIVERGED              | 0.0432112   |</pre>"
      ],
      "text/plain": [
       "| 1       | 891.667ms    | DIVERGED          | DIVERGED              | 0.0432112   |"
      ]
     },
     "metadata": {},
     "output_type": "display_data"
    },
    {
     "data": {
      "text/html": [
       "<pre>| RESET   | 1.05s        | 0.854595          | 0.924443              |             |</pre>"
      ],
      "text/plain": [
       "| RESET   | 1.05s        | 0.854595          | 0.924443              |             |"
      ]
     },
     "metadata": {},
     "output_type": "display_data"
    },
    {
     "data": {
      "text/html": [
       "<pre>| 1       | 1.78s        | DIVERGED          | DIVERGED              | 0.0216056   |</pre>"
      ],
      "text/plain": [
       "| 1       | 1.78s        | DIVERGED          | DIVERGED              | 0.0216056   |"
      ]
     },
     "metadata": {},
     "output_type": "display_data"
    },
    {
     "data": {
      "text/html": [
       "<pre>| RESET   | 2.00s        | 0.854593          | 0.924442              |             |</pre>"
      ],
      "text/plain": [
       "| RESET   | 2.00s        | 0.854593          | 0.924442              |             |"
      ]
     },
     "metadata": {},
     "output_type": "display_data"
    },
    {
     "data": {
      "text/html": [
       "<pre>| 1       | 2.33s        | 0.587668          | 0.754147              | 0.0108028   |</pre>"
      ],
      "text/plain": [
       "| 1       | 2.33s        | 0.587668          | 0.754147              | 0.0108028   |"
      ]
     },
     "metadata": {},
     "output_type": "display_data"
    },
    {
     "data": {
      "text/html": [
       "<pre>| 2       | 2.69s        | 0.527219          | 0.710225              | 0.00502163  |</pre>"
      ],
      "text/plain": [
       "| 2       | 2.69s        | 0.527219          | 0.710225              | 0.00502163  |"
      ]
     },
     "metadata": {},
     "output_type": "display_data"
    },
    {
     "data": {
      "text/html": [
       "<pre>| 3       | 3.13s        | 0.520709          | 0.704318              | 0.00327109  |</pre>"
      ],
      "text/plain": [
       "| 3       | 3.13s        | 0.520709          | 0.704318              | 0.00327109  |"
      ]
     },
     "metadata": {},
     "output_type": "display_data"
    },
    {
     "data": {
      "text/html": [
       "<pre>| 4       | 3.55s        | 0.518166          | 0.701707              | 0.00242555  |</pre>"
      ],
      "text/plain": [
       "| 4       | 3.55s        | 0.518166          | 0.701707              | 0.00242555  |"
      ]
     },
     "metadata": {},
     "output_type": "display_data"
    },
    {
     "data": {
      "text/html": [
       "<pre>| 5       | 3.87s        | 0.51678           | 0.700161              | 0.00192735  |</pre>"
      ],
      "text/plain": [
       "| 5       | 3.87s        | 0.51678           | 0.700161              | 0.00192735  |"
      ]
     },
     "metadata": {},
     "output_type": "display_data"
    },
    {
     "data": {
      "text/html": [
       "<pre>| 6       | 4.19s        | 0.515878          | 0.699109              | 0.00159893  |</pre>"
      ],
      "text/plain": [
       "| 6       | 4.19s        | 0.515878          | 0.699109              | 0.00159893  |"
      ]
     },
     "metadata": {},
     "output_type": "display_data"
    },
    {
     "data": {
      "text/html": [
       "<pre>| 8       | 4.77s        | 0.514863          | 0.697786              | 0.00119252  |</pre>"
      ],
      "text/plain": [
       "| 8       | 4.77s        | 0.514863          | 0.697786              | 0.00119252  |"
      ]
     },
     "metadata": {},
     "output_type": "display_data"
    },
    {
     "data": {
      "text/html": [
       "<pre>| 11      | 5.79s        | 0.514078          | 0.696639              | 0.000863358 |</pre>"
      ],
      "text/plain": [
       "| 11      | 5.79s        | 0.514078          | 0.696639              | 0.000863358 |"
      ]
     },
     "metadata": {},
     "output_type": "display_data"
    },
    {
     "data": {
      "text/html": [
       "<pre>| 13      | 6.38s        | 0.513782          | 0.696143              | 0.000729178 |</pre>"
      ],
      "text/plain": [
       "| 13      | 6.38s        | 0.513782          | 0.696143              | 0.000729178 |"
      ]
     },
     "metadata": {},
     "output_type": "display_data"
    },
    {
     "data": {
      "text/html": [
       "<pre>| 18      | 7.95s        | 0.513303          | 0.695303              | 0.000525139 |</pre>"
      ],
      "text/plain": [
       "| 18      | 7.95s        | 0.513303          | 0.695303              | 0.000525139 |"
      ]
     },
     "metadata": {},
     "output_type": "display_data"
    },
    {
     "data": {
      "text/html": [
       "<pre>| 23      | 9.39s        | 0.513071          | 0.694795              | 0.000410323 |</pre>"
      ],
      "text/plain": [
       "| 23      | 9.39s        | 0.513071          | 0.694795              | 0.000410323 |"
      ]
     },
     "metadata": {},
     "output_type": "display_data"
    },
    {
     "data": {
      "text/html": [
       "<pre>+---------+--------------+-------------------+-----------------------+-------------+</pre>"
      ],
      "text/plain": [
       "+---------+--------------+-------------------+-----------------------+-------------+"
      ]
     },
     "metadata": {},
     "output_type": "display_data"
    },
    {
     "data": {
      "text/html": [
       "<pre>Optimization Complete: Maximum number of passes through the data reached.</pre>"
      ],
      "text/plain": [
       "Optimization Complete: Maximum number of passes through the data reached."
      ]
     },
     "metadata": {},
     "output_type": "display_data"
    },
    {
     "data": {
      "text/html": [
       "<pre>Computing final objective value and training RMSE.</pre>"
      ],
      "text/plain": [
       "Computing final objective value and training RMSE."
      ]
     },
     "metadata": {},
     "output_type": "display_data"
    },
    {
     "data": {
      "text/html": [
       "<pre>       Final objective value: 0.512454</pre>"
      ],
      "text/plain": [
       "       Final objective value: 0.512454"
      ]
     },
     "metadata": {},
     "output_type": "display_data"
    },
    {
     "data": {
      "text/html": [
       "<pre>       Final training RMSE: 0.694242</pre>"
      ],
      "text/plain": [
       "       Final training RMSE: 0.694242"
      ]
     },
     "metadata": {},
     "output_type": "display_data"
    }
   ],
   "source": [
    "m = gl.ranking_factorization_recommender.create(data_artist_sframe, user_id='user_id', \\\n",
    "                                                item_id='artist_id', target='target', \\\n",
    "                                                binary_target=False, linear_regularization=0.00001, \\\n",
    "                                                regularization=0.0001, num_factors=32, ranking_regularization=0,\\\n",
    "                                                num_sampled_negative_examples=4)"
   ]
  },
  {
   "cell_type": "code",
   "execution_count": 106,
   "metadata": {},
   "outputs": [
    {
     "data": {
      "text/html": [
       "<pre>Finished parsing file /Users/tushar/Desktop/Data Science Game/data/test.csv</pre>"
      ],
      "text/plain": [
       "Finished parsing file /Users/tushar/Desktop/Data Science Game/data/test.csv"
      ]
     },
     "metadata": {},
     "output_type": "display_data"
    },
    {
     "data": {
      "text/html": [
       "<pre>Parsing completed. Parsed 100 lines in 0.214693 secs.</pre>"
      ],
      "text/plain": [
       "Parsing completed. Parsed 100 lines in 0.214693 secs."
      ]
     },
     "metadata": {},
     "output_type": "display_data"
    },
    {
     "name": "stdout",
     "output_type": "stream",
     "text": [
      "------------------------------------------------------\n",
      "Inferred types from first 100 line(s) of file as \n",
      "column_type_hints=[int,int,int,int,int,int,int,int,int,int,int,int,int,int,int]\n",
      "If parsing fails due to incorrect types, you can correct\n",
      "the inferred type list above and pass it to read_csv in\n",
      "the column_type_hints argument\n",
      "------------------------------------------------------\n"
     ]
    },
    {
     "data": {
      "text/html": [
       "<pre>Finished parsing file /Users/tushar/Desktop/Data Science Game/data/test.csv</pre>"
      ],
      "text/plain": [
       "Finished parsing file /Users/tushar/Desktop/Data Science Game/data/test.csv"
      ]
     },
     "metadata": {},
     "output_type": "display_data"
    },
    {
     "data": {
      "text/html": [
       "<pre>Parsing completed. Parsed 19918 lines in 0.166972 secs.</pre>"
      ],
      "text/plain": [
       "Parsing completed. Parsed 19918 lines in 0.166972 secs."
      ]
     },
     "metadata": {},
     "output_type": "display_data"
    }
   ],
   "source": [
    "test_data_sframe = gl.SFrame.read_csv('data/test.csv')"
   ]
  },
  {
   "cell_type": "code",
   "execution_count": 107,
   "metadata": {
    "collapsed": true
   },
   "outputs": [],
   "source": [
    "pred_artist = m.predict(test_data_sframe)"
   ]
  },
  {
   "cell_type": "code",
   "execution_count": 117,
   "metadata": {},
   "outputs": [
    {
     "data": {
      "text/plain": [
       "[<matplotlib.lines.Line2D at 0x123eb6310>]"
      ]
     },
     "execution_count": 117,
     "metadata": {},
     "output_type": "execute_result"
    },
    {
     "data": {
      "image/png": "[encoded data removed]",
      "text/plain": [
       "<matplotlib.figure.Figure at 0x124934390>"
      ]
     },
     "metadata": {},
     "output_type": "display_data"
    }
   ],
   "source": [
    "plt.plot(pred_artist.sort())"
   ]
  },
  {
   "cell_type": "code",
   "execution_count": 96,
   "metadata": {
    "collapsed": true
   },
   "outputs": [],
   "source": [
    "submission_file_name = \"deezer_predict_\" + time.strftime(\"%Y%m%d_%H%M%S\") + \".csv\"\n",
    "test_data['is_listened'] = pred_artist\n",
    "\n",
    "to_push = [\"sample_id\", \"is_listened\"]\n",
    "test_data[to_push].to_csv(submission_file_name, index=False)"
   ]
  },
  {
   "cell_type": "markdown",
   "metadata": {},
   "source": [
    "## Ensemble"
   ]
  },
  {
   "cell_type": "code",
   "execution_count": 118,
   "metadata": {
    "collapsed": true
   },
   "outputs": [],
   "source": [
    "pred_ensemble = pred + pred_artist"
   ]
  },
  {
   "cell_type": "code",
   "execution_count": 119,
   "metadata": {},
   "outputs": [
    {
     "data": {
      "text/plain": [
       "[<matplotlib.lines.Line2D at 0x12605e650>]"
      ]
     },
     "execution_count": 119,
     "metadata": {},
     "output_type": "execute_result"
    },
    {
     "data": {
      "image/png": "[encoded data removed]",
      "text/plain": [
       "<matplotlib.figure.Figure at 0x123ffe910>"
      ]
     },
     "metadata": {},
     "output_type": "display_data"
    }
   ],
   "source": [
    "plt.plot(pred_ensemble.sort())"
   ]
  },
  {
   "cell_type": "code",
   "execution_count": 125,
   "metadata": {
    "collapsed": true
   },
   "outputs": [],
   "source": [
    "submission_file_name = \"deezer_predict_\" + time.strftime(\"%Y%m%d_%H%M%S\") + \".csv\"\n",
    "test_data['is_listened'] = pred_ensemble\n",
    "\n",
    "to_push = [\"sample_id\", \"is_listened\"]\n",
    "test_data[to_push].to_csv(submission_file_name, index=False)"
   ]
  },
  {
   "cell_type": "code",
   "execution_count": null,
   "metadata": {
    "collapsed": true
   },
   "outputs": [],
   "source": [
    "# try alpha*pred_1 + (1-alpha)*pred_2 and learn alpha."
   ]
  },
  {
   "cell_type": "markdown",
   "metadata": {},
   "source": [
    "## Ignore"
   ]
  },
  {
   "cell_type": "code",
   "execution_count": 17,
   "metadata": {
    "collapsed": true
   },
   "outputs": [],
   "source": [
    "from sklearn.cross_validation import train_test_split\n",
    "data = data.loc[:100]\n",
    "train_data, valid_data, train_labels, valid_labels = train_test_split(data[data.columns.difference(['is_listened'])], data['is_listened'], test_size=0.1)"
   ]
  },
  {
   "cell_type": "code",
   "execution_count": 20,
   "metadata": {
    "collapsed": true
   },
   "outputs": [],
   "source": [
    "from scipy.sparse import csr_matrix\n",
    "\n",
    "users = list(train_data['user_id'])\n",
    "media = list(train_data['media_id'])\n",
    "train_labels.loc[train_labels == 0] = -1\n",
    "listened_data = train_labels.tolist()\n",
    "sparse_matrix = csr_matrix((listened_data, (users, media)))"
   ]
  },
  {
   "cell_type": "code",
   "execution_count": 24,
   "metadata": {},
   "outputs": [
    {
     "data": {
      "text/plain": [
       "<10703x900503 sparse matrix of type '<type 'numpy.int64'>'\n",
       "\twith 58 stored elements in Compressed Sparse Row format>"
      ]
     },
     "execution_count": 24,
     "metadata": {},
     "output_type": "execute_result"
    }
   ],
   "source": [
    "sparse_matrix"
   ]
  },
  {
   "cell_type": "code",
   "execution_count": 28,
   "metadata": {},
   "outputs": [
    {
     "data": {
      "text/plain": [
       "200058"
      ]
     },
     "execution_count": 28,
     "metadata": {},
     "output_type": "execute_result"
    }
   ],
   "source": []
  },
  {
   "cell_type": "code",
   "execution_count": 13,
   "metadata": {},
   "outputs": [
    {
     "name": "stderr",
     "output_type": "stream",
     "text": [
      "/anaconda/lib/python2.7/site-packages/ipykernel/__main__.py:5: SettingWithCopyWarning: \n",
      "A value is trying to be set on a copy of a slice from a DataFrame\n",
      "\n",
      "See the caveats in the documentation: http://pandas.pydata.org/pandas-docs/stable/indexing.html#indexing-view-versus-copy\n"
     ]
    }
   ],
   "source": [
    "# from scipy.sparse import csr_matrix\n",
    "\n",
    "# users = list(data['user_id'])\n",
    "# media = list(data['media_id'])\n",
    "# data.loc[data['is_listened'] == 0, 'is_listened'] = -1\n",
    "# listened_data = data['is_listened'].tolist()\n",
    "# sparse_matrix = csr_matrix((listened_data, (users, media)))"
   ]
  },
  {
   "cell_type": "code",
   "execution_count": 14,
   "metadata": {},
   "outputs": [
    {
     "data": {
      "text/plain": [
       "-1"
      ]
     },
     "execution_count": 14,
     "metadata": {},
     "output_type": "execute_result"
    }
   ],
   "source": [
    "# check. should be -1\n",
    "sparse_matrix[9241, 222606]"
   ]
  },
  {
   "cell_type": "code",
   "execution_count": 16,
   "metadata": {
    "collapsed": true
   },
   "outputs": [],
   "source": [
    "import implicit"
   ]
  },
  {
   "cell_type": "code",
   "execution_count": 17,
   "metadata": {},
   "outputs": [
    {
     "ename": "ValueError",
     "evalue": "Buffer dtype mismatch, expected 'double' but got 'long long'",
     "output_type": "error",
     "traceback": [
      "\u001b[0;31m---------------------------------------------------------------------------\u001b[0m",
      "\u001b[0;31mValueError\u001b[0m                                Traceback (most recent call last)",
      "\u001b[0;32m<ipython-input-17-734674a4f441>\u001b[0m in \u001b[0;36m<module>\u001b[0;34m()\u001b[0m\n\u001b[1;32m      3\u001b[0m \u001b[0;34m\u001b[0m\u001b[0m\n\u001b[1;32m      4\u001b[0m \u001b[0;31m# train the model on a sparse matrix of item/user/confidence weights\u001b[0m\u001b[0;34m\u001b[0m\u001b[0;34m\u001b[0m\u001b[0m\n\u001b[0;32m----> 5\u001b[0;31m \u001b[0mmodel\u001b[0m\u001b[0;34m.\u001b[0m\u001b[0mfit\u001b[0m\u001b[0;34m(\u001b[0m\u001b[0msparse_matrix\u001b[0m\u001b[0;34m)\u001b[0m\u001b[0;34m\u001b[0m\u001b[0m\n\u001b[0m\u001b[1;32m      6\u001b[0m \u001b[0;34m\u001b[0m\u001b[0m\n\u001b[1;32m      7\u001b[0m \u001b[0;31m# recommend items for a user\u001b[0m\u001b[0;34m\u001b[0m\u001b[0;34m\u001b[0m\u001b[0m\n",
      "\u001b[0;32m//anaconda/lib/python2.7/site-packages/implicit/als.pyc\u001b[0m in \u001b[0;36mfit\u001b[0;34m(self, item_users)\u001b[0m\n\u001b[1;32m     72\u001b[0m             \u001b[0ms\u001b[0m \u001b[0;34m=\u001b[0m \u001b[0mtime\u001b[0m\u001b[0;34m.\u001b[0m\u001b[0mtime\u001b[0m\u001b[0;34m(\u001b[0m\u001b[0;34m)\u001b[0m\u001b[0;34m\u001b[0m\u001b[0m\n\u001b[1;32m     73\u001b[0m             solver(Cui, self.user_factors, self.item_factors, self.regularization,\n\u001b[0;32m---> 74\u001b[0;31m                    num_threads=self.num_threads)\n\u001b[0m\u001b[1;32m     75\u001b[0m             solver(Ciu, self.item_factors, self.user_factors, self.regularization,\n\u001b[1;32m     76\u001b[0m                    num_threads=self.num_threads)\n",
      "\u001b[0;32mimplicit/_als.pyx\u001b[0m in \u001b[0;36mimplicit._als.least_squares_cg (implicit/_als.cpp:7556)\u001b[0;34m()\u001b[0m\n",
      "\u001b[0;31mValueError\u001b[0m: Buffer dtype mismatch, expected 'double' but got 'long long'"
     ]
    }
   ],
   "source": [
    "# initialize a model\n",
    "model = implicit.als.AlternatingLeastSquares(factors=20)\n",
    "\n",
    "# train the model on a sparse matrix of item/user/confidence weights\n",
    "model.fit(sparse_matrix)\n",
    "\n",
    "# recommend items for a user\n",
    "# recommendations = model.recommend(userid, item_user_data.T)\n",
    "\n",
    "# find related items\n",
    "# related = model.similar_items(itemid)"
   ]
  },
  {
   "cell_type": "code",
   "execution_count": 15,
   "metadata": {},
   "outputs": [
    {
     "data": {
      "text/plain": [
       "<16548x900503 sparse matrix of type '<type 'numpy.int64'>'\n",
       "\twith 61 stored elements in Compressed Sparse Row format>"
      ]
     },
     "execution_count": 15,
     "metadata": {},
     "output_type": "execute_result"
    }
   ],
   "source": [
    "sparse_matrix"
   ]
  },
  {
   "cell_type": "code",
   "execution_count": null,
   "metadata": {
    "collapsed": true
   },
   "outputs": [],
   "source": []
  }
 ],
 "metadata": {
  "anaconda-cloud": {},
  "kernelspec": {
   "display_name": "Python [Root]",
   "language": "python",
   "name": "Python [Root]"
  },
  "language_info": {
   "codemirror_mode": {
    "name": "ipython",
    "version": 2
   },
   "file_extension": ".py",
   "mimetype": "text/x-python",
   "name": "python",
   "nbconvert_exporter": "python",
   "pygments_lexer": "ipython2",
   "version": "2.7.13"
  }
 },
 "nbformat": 4,
 "nbformat_minor": 1
}

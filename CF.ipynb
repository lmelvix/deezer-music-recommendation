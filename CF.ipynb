{
 "cells": [
  {
   "cell_type": "code",
   "execution_count": 128,
   "metadata": {
    "collapsed": true
   },
   "outputs": [],
   "source": [
    "import numpy as np\n",
    "import pandas as pd\n",
    "import time\n",
    "import graphlab as gl\n",
    "from sklearn.metrics import roc_auc_score\n",
    "\n",
    "\n",
    "import matplotlib.pyplot as plt\n",
    "%matplotlib inline"
   ]
  },
  {
   "cell_type": "code",
   "execution_count": 2,
   "metadata": {
    "collapsed": true
   },
   "outputs": [],
   "source": [
    "data = pd.read_csv('data/train.csv')\n",
    "test_data = pd.read_csv('data/test.csv')"
   ]
  },
  {
   "cell_type": "markdown",
   "metadata": {},
   "source": [
    "## changing labels to 1 and -1. 0 is default for no-see on user-item"
   ]
  },
  {
   "cell_type": "code",
   "execution_count": 6,
   "metadata": {
    "collapsed": true
   },
   "outputs": [],
   "source": [
    "data.loc[data['is_listened']==0, 'is_listened'] = -1"
   ]
  },
  {
   "cell_type": "markdown",
   "metadata": {},
   "source": [
    "## grouping on user-song with mean 'is_listened'. Try others things like latest listen value?"
   ]
  },
  {
   "cell_type": "code",
   "execution_count": 108,
   "metadata": {},
   "outputs": [],
   "source": [
    "group_data = pd.DataFrame({'target': data.groupby(['user_id', 'media_id'])['is_listened'].mean()}).reset_index()"
   ]
  },
  {
   "cell_type": "code",
   "execution_count": 120,
   "metadata": {
    "collapsed": true
   },
   "outputs": [],
   "source": [
    "# user information sframe.\n",
    "user_info = pd.DataFrame({'user_age': data.groupby(['user_id'])['user_age'].mean(),\\\n",
    "                          'user_gender': data.groupby(['user_id'])['user_gender'].mean()}).reset_index()"
   ]
  },
  {
   "cell_type": "code",
   "execution_count": 123,
   "metadata": {},
   "outputs": [],
   "source": [
    "user_info = gl.SFrame(user_info)"
   ]
  },
  {
   "cell_type": "markdown",
   "metadata": {},
   "source": [
    "## Convert to Sframe and split. Better split using graphlabs function?"
   ]
  },
  {
   "cell_type": "code",
   "execution_count": 114,
   "metadata": {},
   "outputs": [],
   "source": [
    "data_sframe = gl.SFrame(group_data)"
   ]
  },
  {
   "cell_type": "code",
   "execution_count": 115,
   "metadata": {
    "collapsed": true
   },
   "outputs": [],
   "source": [
    "train_data, valid_data = gl.recommender.util.random_split_by_user(data_sframe, item_id='media_id', max_num_users=10000)"
   ]
  },
  {
   "cell_type": "code",
   "execution_count": 126,
   "metadata": {
    "scrolled": true
   },
   "outputs": [
    {
     "data": {
      "text/html": [
       "<pre>Recsys training: model = ranking_factorization_recommender</pre>"
      ],
      "text/plain": [
       "Recsys training: model = ranking_factorization_recommender"
      ]
     },
     "metadata": {},
     "output_type": "display_data"
    },
    {
     "data": {
      "text/html": [
       "<pre>Preparing data set.</pre>"
      ],
      "text/plain": [
       "Preparing data set."
      ]
     },
     "metadata": {},
     "output_type": "display_data"
    },
    {
     "data": {
      "text/html": [
       "<pre>    Data has 3576109 observations with 19879 users and 424437 items.</pre>"
      ],
      "text/plain": [
       "    Data has 3576109 observations with 19879 users and 424437 items."
      ]
     },
     "metadata": {},
     "output_type": "display_data"
    },
    {
     "data": {
      "text/html": [
       "<pre>    Data prepared in: 3.21038s</pre>"
      ],
      "text/plain": [
       "    Data prepared in: 3.21038s"
      ]
     },
     "metadata": {},
     "output_type": "display_data"
    },
    {
     "data": {
      "text/html": [
       "<pre>Training ranking_factorization_recommender for recommendations.</pre>"
      ],
      "text/plain": [
       "Training ranking_factorization_recommender for recommendations."
      ]
     },
     "metadata": {},
     "output_type": "display_data"
    },
    {
     "data": {
      "text/html": [
       "<pre>+--------------------------------+--------------------------------------------------+----------+</pre>"
      ],
      "text/plain": [
       "+--------------------------------+--------------------------------------------------+----------+"
      ]
     },
     "metadata": {},
     "output_type": "display_data"
    },
    {
     "data": {
      "text/html": [
       "<pre>| Parameter                      | Description                                      | Value    |</pre>"
      ],
      "text/plain": [
       "| Parameter                      | Description                                      | Value    |"
      ]
     },
     "metadata": {},
     "output_type": "display_data"
    },
    {
     "data": {
      "text/html": [
       "<pre>+--------------------------------+--------------------------------------------------+----------+</pre>"
      ],
      "text/plain": [
       "+--------------------------------+--------------------------------------------------+----------+"
      ]
     },
     "metadata": {},
     "output_type": "display_data"
    },
    {
     "data": {
      "text/html": [
       "<pre>| num_factors                    | Factor Dimension                                 | 32       |</pre>"
      ],
      "text/plain": [
       "| num_factors                    | Factor Dimension                                 | 32       |"
      ]
     },
     "metadata": {},
     "output_type": "display_data"
    },
    {
     "data": {
      "text/html": [
       "<pre>| regularization                 | L2 Regularization on Factors                     | 1e-05    |</pre>"
      ],
      "text/plain": [
       "| regularization                 | L2 Regularization on Factors                     | 1e-05    |"
      ]
     },
     "metadata": {},
     "output_type": "display_data"
    },
    {
     "data": {
      "text/html": [
       "<pre>| solver                         | Solver used for training                         | sgd      |</pre>"
      ],
      "text/plain": [
       "| solver                         | Solver used for training                         | sgd      |"
      ]
     },
     "metadata": {},
     "output_type": "display_data"
    },
    {
     "data": {
      "text/html": [
       "<pre>| linear_regularization          | L2 Regularization on Linear Coefficients         | 1e-05    |</pre>"
      ],
      "text/plain": [
       "| linear_regularization          | L2 Regularization on Linear Coefficients         | 1e-05    |"
      ]
     },
     "metadata": {},
     "output_type": "display_data"
    },
    {
     "data": {
      "text/html": [
       "<pre>| max_iterations                 | Maximum Number of Iterations                     | 25       |</pre>"
      ],
      "text/plain": [
       "| max_iterations                 | Maximum Number of Iterations                     | 25       |"
      ]
     },
     "metadata": {},
     "output_type": "display_data"
    },
    {
     "data": {
      "text/html": [
       "<pre>+--------------------------------+--------------------------------------------------+----------+</pre>"
      ],
      "text/plain": [
       "+--------------------------------+--------------------------------------------------+----------+"
      ]
     },
     "metadata": {},
     "output_type": "display_data"
    },
    {
     "data": {
      "text/html": [
       "<pre>  Optimizing model using SGD; tuning step size.</pre>"
      ],
      "text/plain": [
       "  Optimizing model using SGD; tuning step size."
      ]
     },
     "metadata": {},
     "output_type": "display_data"
    },
    {
     "data": {
      "text/html": [
       "<pre>  Using 447013 / 3576109 points for tuning the step size.</pre>"
      ],
      "text/plain": [
       "  Using 447013 / 3576109 points for tuning the step size."
      ]
     },
     "metadata": {},
     "output_type": "display_data"
    },
    {
     "data": {
      "text/html": [
       "<pre>+---------+-------------------+------------------------------------------+</pre>"
      ],
      "text/plain": [
       "+---------+-------------------+------------------------------------------+"
      ]
     },
     "metadata": {},
     "output_type": "display_data"
    },
    {
     "data": {
      "text/html": [
       "<pre>| Attempt | Initial Step Size | Estimated Objective Value                |</pre>"
      ],
      "text/plain": [
       "| Attempt | Initial Step Size | Estimated Objective Value                |"
      ]
     },
     "metadata": {},
     "output_type": "display_data"
    },
    {
     "data": {
      "text/html": [
       "<pre>+---------+-------------------+------------------------------------------+</pre>"
      ],
      "text/plain": [
       "+---------+-------------------+------------------------------------------+"
      ]
     },
     "metadata": {},
     "output_type": "display_data"
    },
    {
     "data": {
      "text/html": [
       "<pre>| 0       | 2.06039           | Not Viable                               |</pre>"
      ],
      "text/plain": [
       "| 0       | 2.06039           | Not Viable                               |"
      ]
     },
     "metadata": {},
     "output_type": "display_data"
    },
    {
     "data": {
      "text/html": [
       "<pre>| 1       | 0.515099          | Not Viable                               |</pre>"
      ],
      "text/plain": [
       "| 1       | 0.515099          | Not Viable                               |"
      ]
     },
     "metadata": {},
     "output_type": "display_data"
    },
    {
     "data": {
      "text/html": [
       "<pre>| 2       | 0.128775          | 0.540207                                 |</pre>"
      ],
      "text/plain": [
       "| 2       | 0.128775          | 0.540207                                 |"
      ]
     },
     "metadata": {},
     "output_type": "display_data"
    },
    {
     "data": {
      "text/html": [
       "<pre>| 3       | 0.0643873         | 0.533199                                 |</pre>"
      ],
      "text/plain": [
       "| 3       | 0.0643873         | 0.533199                                 |"
      ]
     },
     "metadata": {},
     "output_type": "display_data"
    },
    {
     "data": {
      "text/html": [
       "<pre>| 4       | 0.0321937         | 0.534776                                 |</pre>"
      ],
      "text/plain": [
       "| 4       | 0.0321937         | 0.534776                                 |"
      ]
     },
     "metadata": {},
     "output_type": "display_data"
    },
    {
     "data": {
      "text/html": [
       "<pre>| 5       | 0.0160968         | 0.54158                                  |</pre>"
      ],
      "text/plain": [
       "| 5       | 0.0160968         | 0.54158                                  |"
      ]
     },
     "metadata": {},
     "output_type": "display_data"
    },
    {
     "data": {
      "text/html": [
       "<pre>| 6       | 0.00804842        | 0.55965                                  |</pre>"
      ],
      "text/plain": [
       "| 6       | 0.00804842        | 0.55965                                  |"
      ]
     },
     "metadata": {},
     "output_type": "display_data"
    },
    {
     "data": {
      "text/html": [
       "<pre>+---------+-------------------+------------------------------------------+</pre>"
      ],
      "text/plain": [
       "+---------+-------------------+------------------------------------------+"
      ]
     },
     "metadata": {},
     "output_type": "display_data"
    },
    {
     "data": {
      "text/html": [
       "<pre>| Final   | 0.0643873         | 0.533199                                 |</pre>"
      ],
      "text/plain": [
       "| Final   | 0.0643873         | 0.533199                                 |"
      ]
     },
     "metadata": {},
     "output_type": "display_data"
    },
    {
     "data": {
      "text/html": [
       "<pre>+---------+-------------------+------------------------------------------+</pre>"
      ],
      "text/plain": [
       "+---------+-------------------+------------------------------------------+"
      ]
     },
     "metadata": {},
     "output_type": "display_data"
    },
    {
     "data": {
      "text/html": [
       "<pre>Starting Optimization.</pre>"
      ],
      "text/plain": [
       "Starting Optimization."
      ]
     },
     "metadata": {},
     "output_type": "display_data"
    },
    {
     "data": {
      "text/html": [
       "<pre>+---------+--------------+-------------------+-----------------------+-------------+</pre>"
      ],
      "text/plain": [
       "+---------+--------------+-------------------+-----------------------+-------------+"
      ]
     },
     "metadata": {},
     "output_type": "display_data"
    },
    {
     "data": {
      "text/html": [
       "<pre>| Iter.   | Elapsed Time | Approx. Objective | Approx. Training RMSE | Step Size   |</pre>"
      ],
      "text/plain": [
       "| Iter.   | Elapsed Time | Approx. Objective | Approx. Training RMSE | Step Size   |"
      ]
     },
     "metadata": {},
     "output_type": "display_data"
    },
    {
     "data": {
      "text/html": [
       "<pre>+---------+--------------+-------------------+-----------------------+-------------+</pre>"
      ],
      "text/plain": [
       "+---------+--------------+-------------------+-----------------------+-------------+"
      ]
     },
     "metadata": {},
     "output_type": "display_data"
    },
    {
     "data": {
      "text/html": [
       "<pre>| Initial | 75us         | 0.815059          | 0.902806              |             |</pre>"
      ],
      "text/plain": [
       "| Initial | 75us         | 0.815059          | 0.902806              |             |"
      ]
     },
     "metadata": {},
     "output_type": "display_data"
    },
    {
     "data": {
      "text/html": [
       "<pre>+---------+--------------+-------------------+-----------------------+-------------+</pre>"
      ],
      "text/plain": [
       "+---------+--------------+-------------------+-----------------------+-------------+"
      ]
     },
     "metadata": {},
     "output_type": "display_data"
    },
    {
     "data": {
      "text/html": [
       "<pre>| 1       | 1.29s        | DIVERGED          | DIVERGED              | 0.0643873   |</pre>"
      ],
      "text/plain": [
       "| 1       | 1.29s        | DIVERGED          | DIVERGED              | 0.0643873   |"
      ]
     },
     "metadata": {},
     "output_type": "display_data"
    },
    {
     "data": {
      "text/html": [
       "<pre>| RESET   | 1.98s        | 0.815062          | 0.902808              |             |</pre>"
      ],
      "text/plain": [
       "| RESET   | 1.98s        | 0.815062          | 0.902808              |             |"
      ]
     },
     "metadata": {},
     "output_type": "display_data"
    },
    {
     "data": {
      "text/html": [
       "<pre>| 1       | 2.97s        | 0.644106          | 0.770032              | 0.0321937   |</pre>"
      ],
      "text/plain": [
       "| 1       | 2.97s        | 0.644106          | 0.770032              | 0.0321937   |"
      ]
     },
     "metadata": {},
     "output_type": "display_data"
    },
    {
     "data": {
      "text/html": [
       "<pre>| 2       | 3.99s        | 0.61189           | 0.745625              | 0.0149649   |</pre>"
      ],
      "text/plain": [
       "| 2       | 3.99s        | 0.61189           | 0.745625              | 0.0149649   |"
      ]
     },
     "metadata": {},
     "output_type": "display_data"
    },
    {
     "data": {
      "text/html": [
       "<pre>| 3       | 4.94s        | 0.599857          | 0.734256              | 0.00974809  |</pre>"
      ],
      "text/plain": [
       "| 3       | 4.94s        | 0.599857          | 0.734256              | 0.00974809  |"
      ]
     },
     "metadata": {},
     "output_type": "display_data"
    },
    {
     "data": {
      "text/html": [
       "<pre>| 4       | 5.89s        | 0.595534          | 0.728758              | 0.00722829  |</pre>"
      ],
      "text/plain": [
       "| 4       | 5.89s        | 0.595534          | 0.728758              | 0.00722829  |"
      ]
     },
     "metadata": {},
     "output_type": "display_data"
    },
    {
     "data": {
      "text/html": [
       "<pre>| 5       | 6.83s        | 0.592833          | 0.7252                | 0.00574362  |</pre>"
      ],
      "text/plain": [
       "| 5       | 6.83s        | 0.592833          | 0.7252                | 0.00574362  |"
      ]
     },
     "metadata": {},
     "output_type": "display_data"
    },
    {
     "data": {
      "text/html": [
       "<pre>| 6       | 8.43s        | 0.591174          | 0.722683              | 0.00476491  |</pre>"
      ],
      "text/plain": [
       "| 6       | 8.43s        | 0.591174          | 0.722683              | 0.00476491  |"
      ]
     },
     "metadata": {},
     "output_type": "display_data"
    },
    {
     "data": {
      "text/html": [
       "<pre>| 9       | 12.16s       | 0.588947          | 0.718053              | 0.00315307  |</pre>"
      ],
      "text/plain": [
       "| 9       | 12.16s       | 0.588947          | 0.718053              | 0.00315307  |"
      ]
     },
     "metadata": {},
     "output_type": "display_data"
    },
    {
     "data": {
      "text/html": [
       "<pre>| 11      | 14.06s       | 0.588174          | 0.716098              | 0.00257286  |</pre>"
      ],
      "text/plain": [
       "| 11      | 14.06s       | 0.588174          | 0.716098              | 0.00257286  |"
      ]
     },
     "metadata": {},
     "output_type": "display_data"
    },
    {
     "data": {
      "text/html": [
       "<pre>| 14      | 17.21s       | 0.587451          | 0.713854              | 0.00201631  |</pre>"
      ],
      "text/plain": [
       "| 14      | 17.21s       | 0.587451          | 0.713854              | 0.00201631  |"
      ]
     },
     "metadata": {},
     "output_type": "display_data"
    },
    {
     "data": {
      "text/html": [
       "<pre>| 19      | 22.41s       | 0.586846          | 0.711264              | 0.001482    |</pre>"
      ],
      "text/plain": [
       "| 19      | 22.41s       | 0.586846          | 0.711264              | 0.001482    |"
      ]
     },
     "metadata": {},
     "output_type": "display_data"
    },
    {
     "data": {
      "text/html": [
       "<pre>| 24      | 27.48s       | 0.586641          | 0.709443              | 0.00117155  |</pre>"
      ],
      "text/plain": [
       "| 24      | 27.48s       | 0.586641          | 0.709443              | 0.00117155  |"
      ]
     },
     "metadata": {},
     "output_type": "display_data"
    },
    {
     "data": {
      "text/html": [
       "<pre>+---------+--------------+-------------------+-----------------------+-------------+</pre>"
      ],
      "text/plain": [
       "+---------+--------------+-------------------+-----------------------+-------------+"
      ]
     },
     "metadata": {},
     "output_type": "display_data"
    },
    {
     "data": {
      "text/html": [
       "<pre>Optimization Complete: Maximum number of passes through the data reached.</pre>"
      ],
      "text/plain": [
       "Optimization Complete: Maximum number of passes through the data reached."
      ]
     },
     "metadata": {},
     "output_type": "display_data"
    },
    {
     "data": {
      "text/html": [
       "<pre>Computing final objective value and training RMSE.</pre>"
      ],
      "text/plain": [
       "Computing final objective value and training RMSE."
      ]
     },
     "metadata": {},
     "output_type": "display_data"
    },
    {
     "data": {
      "text/html": [
       "<pre>       Final objective value: 0.587713</pre>"
      ],
      "text/plain": [
       "       Final objective value: 0.587713"
      ]
     },
     "metadata": {},
     "output_type": "display_data"
    },
    {
     "data": {
      "text/html": [
       "<pre>       Final training RMSE: 0.709912</pre>"
      ],
      "text/plain": [
       "       Final training RMSE: 0.709912"
      ]
     },
     "metadata": {},
     "output_type": "display_data"
    }
   ],
   "source": [
    "m = gl.ranking_factorization_recommender.create(train_data, user_id='user_id', \\\n",
    "                                                item_id='media_id', target='target', \\\n",
    "                                                binary_target=False, linear_regularization=0.00001, \\\n",
    "                                                regularization=0.00001, num_factors=32, ranking_regularization=0,\\\n",
    "                                                num_sampled_negative_examples=4)"
   ]
  },
  {
   "cell_type": "markdown",
   "metadata": {},
   "source": [
    "## Compute ROC score"
   ]
  },
  {
   "cell_type": "code",
   "execution_count": 127,
   "metadata": {},
   "outputs": [
    {
     "name": "stdout",
     "output_type": "stream",
     "text": [
      "0.824913508871\n"
     ]
    }
   ],
   "source": [
    "val_pred = m.predict(valid_data)\n",
    "\n",
    "valid_df = valid_data.to_dataframe()\n",
    "valid_df.loc[valid_df['target'] >= 0, 'target']  = 1\n",
    "valid_df.loc[valid_df['target'] < 0, 'target'] = 0\n",
    "\n",
    "score = roc_auc_score(list(valid_df['target']), val_pred)\n",
    "print score"
   ]
  },
  {
   "cell_type": "markdown",
   "metadata": {},
   "source": [
    "# Prediction and submission file"
   ]
  },
  {
   "cell_type": "code",
   "execution_count": 33,
   "metadata": {
    "scrolled": false
   },
   "outputs": [
    {
     "data": {
      "text/html": [
       "<pre>Finished parsing file /Users/tushar/Desktop/Data Science Game/data/test.csv</pre>"
      ],
      "text/plain": [
       "Finished parsing file /Users/tushar/Desktop/Data Science Game/data/test.csv"
      ]
     },
     "metadata": {},
     "output_type": "display_data"
    },
    {
     "data": {
      "text/html": [
       "<pre>Parsing completed. Parsed 100 lines in 0.097448 secs.</pre>"
      ],
      "text/plain": [
       "Parsing completed. Parsed 100 lines in 0.097448 secs."
      ]
     },
     "metadata": {},
     "output_type": "display_data"
    },
    {
     "name": "stdout",
     "output_type": "stream",
     "text": [
      "------------------------------------------------------\n",
      "Inferred types from first 100 line(s) of file as \n",
      "column_type_hints=[int,int,int,int,int,int,int,int,int,int,int,int,int,int,int]\n",
      "If parsing fails due to incorrect types, you can correct\n",
      "the inferred type list above and pass it to read_csv in\n",
      "the column_type_hints argument\n",
      "------------------------------------------------------\n"
     ]
    },
    {
     "data": {
      "text/html": [
       "<pre>Finished parsing file /Users/tushar/Desktop/Data Science Game/data/test.csv</pre>"
      ],
      "text/plain": [
       "Finished parsing file /Users/tushar/Desktop/Data Science Game/data/test.csv"
      ]
     },
     "metadata": {},
     "output_type": "display_data"
    },
    {
     "data": {
      "text/html": [
       "<pre>Parsing completed. Parsed 19918 lines in 0.09514 secs.</pre>"
      ],
      "text/plain": [
       "Parsing completed. Parsed 19918 lines in 0.09514 secs."
      ]
     },
     "metadata": {},
     "output_type": "display_data"
    }
   ],
   "source": [
    "test_data_sframe = gl.SFrame.read_csv('data/test.csv')"
   ]
  },
  {
   "cell_type": "code",
   "execution_count": 34,
   "metadata": {
    "collapsed": true
   },
   "outputs": [],
   "source": [
    "pred = m.predict(test_data_sframe)"
   ]
  },
  {
   "cell_type": "code",
   "execution_count": 35,
   "metadata": {
    "collapsed": true
   },
   "outputs": [],
   "source": [
    "submission_file_name = \"deezer_predict_\" + time.strftime(\"%Y%m%d_%H%M%S\") + \".csv\"\n",
    "test_data['is_listened'] = pred\n",
    "\n",
    "to_push = [\"sample_id\", \"is_listened\"]\n",
    "test_data[to_push].to_csv(submission_file_name, index=False)"
   ]
  },
  {
   "cell_type": "markdown",
   "metadata": {},
   "source": [
    "## Results on validation"
   ]
  },
  {
   "cell_type": "code",
   "execution_count": null,
   "metadata": {
    "collapsed": true
   },
   "outputs": [],
   "source": [
    "# 0.576197031625 for 10^-8\n",
    "# 0.713714426378 for 10^-8 and modifying the input matrix\n",
    "# 0.663766337849 for 10^-6 and modifying the input matrix\n",
    "# 0.714364968875 for 10^-7 and modifying the input matrix\n",
    "# 0.701378049512 for 10^-7 and modifying the input matrix and 10 latent factors\n",
    "# 0.704926824027 for 10^-7 and modifying the input matrix and 60 latent factors: RMSE is less.\n",
    "# 0.707957981743 for 10^-7 and modifying the input matrix and 60 latent factors: RMSE is less.\n",
    "# 0.663387281063 for 10^-7 and modifying the input matrix and 25 latent factors.\n",
    "# 0.651746652396 for 10^-7 and modifying the input matrix and neg_sampls = 6\n",
    "# 0.714348039988 for 10^-7 and reg = 10-8 modifying the input matrix.\n",
    "# 0.750114088083 for 10^-6 and reg = 10-8 modifying the input matrix.\n",
    "# 0.778038465954 for 10^-5 and reg = 10-8 modifying the input matrix.\n",
    "# 0.792415769025 for 10^-5 and reg = 10-5 modifying the input matrix.\n",
    "# 0.79231144059 for 10^-5 and reg = 10^-5 modifying the input matrix, latent factors=50.\n",
    "# 0.791978838071 for 10^-5 and reg = 10^-5 modifying the input matrix, latent factors=40.\n",
    "# 0.792187575802 for 10^-5 and reg = 10^-5 modifying the input matrix, latent factors=80.\n",
    "# 0.792163807012 for 10^-5 and reg = 10^-5 modifying the input matrix, latent factors=100.\n",
    "# 0.792215850001 for 10^-5 and reg = 10^-5 modifying the input matrix, latent factors=20.\n",
    "# 0.79227342532 for 10^-5 and reg = 10^-5 modifying the input matrix, latent factors=15.\n",
    "# 0.824881834992 for 10^-5 and reg = 10^-5 modifying the input matrix, latent factors=15, ranking_regularization=0.\n",
    "# 0.818495085215 for 10^-5 and reg = 10^-5 modifying the input matrix, latent factors=15, ranking_regularization=0.1.\n",
    "# 0.750087546363 for 10^-5 and reg = 10^-5 modifying the input matrix, latent factors=15, ranking_regularization=0.5.\n",
    "# 0.825061387873 for 10^-5 and reg = 10^-5 modifying the input matrix, ranking_regularization=0.\n",
    "# 0.815397112278 for 10^-5 and reg = 10^-4 modifying the input matrix, ranking_regularization=0.\n",
    "# 0.824878198452 for 10^-5 and reg = 10^-5 modifying the input matrix, ranking_regularization=0 and num_sampled_ne_exm=6.\n",
    "# 0.825013429366 for 10^-5 and reg = 10^-5 modifying the input matrix, ranking_regularization=0 and num_sampled_ne_exm=9.\n",
    "# 0.824995166848 for 10^-5 and reg = 10^-5 modifying the input matrix, ranking_regularization=0 and num_sampled_ne_exm=15.\n",
    "# 0.824992010313 for 10^-5 and reg = 10^-5 modifying the input matrix, ranking_regularization=0 and num_sampled_ne_exm=15.\n",
    "# 0.818962581465 for 10^-7 and reg = 10^-9 modifying the input matrix, ranking_regularization=0.\n",
    "\n",
    "\n",
    "\n",
    "\n",
    "\n",
    "\n",
    "\n",
    "\n",
    "\n",
    "\n"
   ]
  },
  {
   "cell_type": "code",
   "execution_count": 37,
   "metadata": {},
   "outputs": [
    {
     "data": {
      "text/plain": [
       "[<matplotlib.lines.Line2D at 0x11ea7c3d0>]"
      ]
     },
     "execution_count": 37,
     "metadata": {},
     "output_type": "execute_result"
    },
    {
     "data": {
      "image/png": "[encoded data removed]",
      "text/plain": [
       "<matplotlib.figure.Figure at 0x11c35b610>"
      ]
     },
     "metadata": {},
     "output_type": "display_data"
    }
   ],
   "source": [
    "plt.plot(pred.sort())"
   ]
  },
  {
   "cell_type": "markdown",
   "metadata": {},
   "source": [
    "# Ideas to explore"
   ]
  },
  {
   "cell_type": "markdown",
   "metadata": {},
   "source": [
    "1. How to deal with multiple is_listen for user-song pair (currently mean) ? - Take latest.\n",
    "2. Take into account other user/song data? - Try inbuilt parameters in this func.\n",
    "3. How to leverage the temporal data given esp. for multiple user song pairs.\n",
    "    - Maybe just take the latest time and target. But good only if test data after train."
   ]
  },
  {
   "cell_type": "markdown",
   "metadata": {},
   "source": [
    "## Ignore"
   ]
  },
  {
   "cell_type": "code",
   "execution_count": 17,
   "metadata": {
    "collapsed": true
   },
   "outputs": [],
   "source": [
    "from sklearn.cross_validation import train_test_split\n",
    "data = data.loc[:100]\n",
    "train_data, valid_data, train_labels, valid_labels = train_test_split(data[data.columns.difference(['is_listened'])], data['is_listened'], test_size=0.1)"
   ]
  },
  {
   "cell_type": "code",
   "execution_count": 20,
   "metadata": {
    "collapsed": true
   },
   "outputs": [],
   "source": [
    "from scipy.sparse import csr_matrix\n",
    "\n",
    "users = list(train_data['user_id'])\n",
    "media = list(train_data['media_id'])\n",
    "train_labels.loc[train_labels == 0] = -1\n",
    "listened_data = train_labels.tolist()\n",
    "sparse_matrix = csr_matrix((listened_data, (users, media)))"
   ]
  },
  {
   "cell_type": "code",
   "execution_count": 24,
   "metadata": {},
   "outputs": [
    {
     "data": {
      "text/plain": [
       "<10703x900503 sparse matrix of type '<type 'numpy.int64'>'\n",
       "\twith 58 stored elements in Compressed Sparse Row format>"
      ]
     },
     "execution_count": 24,
     "metadata": {},
     "output_type": "execute_result"
    }
   ],
   "source": [
    "sparse_matrix"
   ]
  },
  {
   "cell_type": "code",
   "execution_count": 28,
   "metadata": {},
   "outputs": [
    {
     "data": {
      "text/plain": [
       "200058"
      ]
     },
     "execution_count": 28,
     "metadata": {},
     "output_type": "execute_result"
    }
   ],
   "source": []
  },
  {
   "cell_type": "code",
   "execution_count": 13,
   "metadata": {},
   "outputs": [
    {
     "name": "stderr",
     "output_type": "stream",
     "text": [
      "/anaconda/lib/python2.7/site-packages/ipykernel/__main__.py:5: SettingWithCopyWarning: \n",
      "A value is trying to be set on a copy of a slice from a DataFrame\n",
      "\n",
      "See the caveats in the documentation: http://pandas.pydata.org/pandas-docs/stable/indexing.html#indexing-view-versus-copy\n"
     ]
    }
   ],
   "source": [
    "# from scipy.sparse import csr_matrix\n",
    "\n",
    "# users = list(data['user_id'])\n",
    "# media = list(data['media_id'])\n",
    "# data.loc[data['is_listened'] == 0, 'is_listened'] = -1\n",
    "# listened_data = data['is_listened'].tolist()\n",
    "# sparse_matrix = csr_matrix((listened_data, (users, media)))"
   ]
  },
  {
   "cell_type": "code",
   "execution_count": 14,
   "metadata": {},
   "outputs": [
    {
     "data": {
      "text/plain": [
       "-1"
      ]
     },
     "execution_count": 14,
     "metadata": {},
     "output_type": "execute_result"
    }
   ],
   "source": [
    "# check. should be -1\n",
    "sparse_matrix[9241, 222606]"
   ]
  },
  {
   "cell_type": "code",
   "execution_count": 16,
   "metadata": {
    "collapsed": true
   },
   "outputs": [],
   "source": [
    "import implicit"
   ]
  },
  {
   "cell_type": "code",
   "execution_count": 17,
   "metadata": {},
   "outputs": [
    {
     "ename": "ValueError",
     "evalue": "Buffer dtype mismatch, expected 'double' but got 'long long'",
     "output_type": "error",
     "traceback": [
      "\u001b[0;31m---------------------------------------------------------------------------\u001b[0m",
      "\u001b[0;31mValueError\u001b[0m                                Traceback (most recent call last)",
      "\u001b[0;32m<ipython-input-17-734674a4f441>\u001b[0m in \u001b[0;36m<module>\u001b[0;34m()\u001b[0m\n\u001b[1;32m      3\u001b[0m \u001b[0;34m\u001b[0m\u001b[0m\n\u001b[1;32m      4\u001b[0m \u001b[0;31m# train the model on a sparse matrix of item/user/confidence weights\u001b[0m\u001b[0;34m\u001b[0m\u001b[0;34m\u001b[0m\u001b[0m\n\u001b[0;32m----> 5\u001b[0;31m \u001b[0mmodel\u001b[0m\u001b[0;34m.\u001b[0m\u001b[0mfit\u001b[0m\u001b[0;34m(\u001b[0m\u001b[0msparse_matrix\u001b[0m\u001b[0;34m)\u001b[0m\u001b[0;34m\u001b[0m\u001b[0m\n\u001b[0m\u001b[1;32m      6\u001b[0m \u001b[0;34m\u001b[0m\u001b[0m\n\u001b[1;32m      7\u001b[0m \u001b[0;31m# recommend items for a user\u001b[0m\u001b[0;34m\u001b[0m\u001b[0;34m\u001b[0m\u001b[0m\n",
      "\u001b[0;32m//anaconda/lib/python2.7/site-packages/implicit/als.pyc\u001b[0m in \u001b[0;36mfit\u001b[0;34m(self, item_users)\u001b[0m\n\u001b[1;32m     72\u001b[0m             \u001b[0ms\u001b[0m \u001b[0;34m=\u001b[0m \u001b[0mtime\u001b[0m\u001b[0;34m.\u001b[0m\u001b[0mtime\u001b[0m\u001b[0;34m(\u001b[0m\u001b[0;34m)\u001b[0m\u001b[0;34m\u001b[0m\u001b[0m\n\u001b[1;32m     73\u001b[0m             solver(Cui, self.user_factors, self.item_factors, self.regularization,\n\u001b[0;32m---> 74\u001b[0;31m                    num_threads=self.num_threads)\n\u001b[0m\u001b[1;32m     75\u001b[0m             solver(Ciu, self.item_factors, self.user_factors, self.regularization,\n\u001b[1;32m     76\u001b[0m                    num_threads=self.num_threads)\n",
      "\u001b[0;32mimplicit/_als.pyx\u001b[0m in \u001b[0;36mimplicit._als.least_squares_cg (implicit/_als.cpp:7556)\u001b[0;34m()\u001b[0m\n",
      "\u001b[0;31mValueError\u001b[0m: Buffer dtype mismatch, expected 'double' but got 'long long'"
     ]
    }
   ],
   "source": [
    "# initialize a model\n",
    "model = implicit.als.AlternatingLeastSquares(factors=20)\n",
    "\n",
    "# train the model on a sparse matrix of item/user/confidence weights\n",
    "model.fit(sparse_matrix)\n",
    "\n",
    "# recommend items for a user\n",
    "# recommendations = model.recommend(userid, item_user_data.T)\n",
    "\n",
    "# find related items\n",
    "# related = model.similar_items(itemid)"
   ]
  },
  {
   "cell_type": "code",
   "execution_count": 15,
   "metadata": {},
   "outputs": [
    {
     "data": {
      "text/plain": [
       "<16548x900503 sparse matrix of type '<type 'numpy.int64'>'\n",
       "\twith 61 stored elements in Compressed Sparse Row format>"
      ]
     },
     "execution_count": 15,
     "metadata": {},
     "output_type": "execute_result"
    }
   ],
   "source": [
    "sparse_matrix"
   ]
  },
  {
   "cell_type": "code",
   "execution_count": null,
   "metadata": {
    "collapsed": true
   },
   "outputs": [],
   "source": []
  }
 ],
 "metadata": {
  "anaconda-cloud": {},
  "kernelspec": {
   "display_name": "Python [Root]",
   "language": "python",
   "name": "Python [Root]"
  },
  "language_info": {
   "codemirror_mode": {
    "name": "ipython",
    "version": 2
   },
   "file_extension": ".py",
   "mimetype": "text/x-python",
   "name": "python",
   "nbconvert_exporter": "python",
   "pygments_lexer": "ipython2",
   "version": "2.7.13"
  }
 },
 "nbformat": 4,
 "nbformat_minor": 1
}
